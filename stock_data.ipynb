{
 "cells": [
  {
   "cell_type": "code",
   "execution_count": 53,
   "metadata": {},
   "outputs": [],
   "source": [
    "import pandas as pd\n",
    "import matplotlib.pyplot as plt\n",
    "import seaborn as sns\n",
    "from yfinance_loader import download_tickers\n",
    "import timeit\n",
    "\n",
    "%matplotlib inline"
   ]
  },
  {
   "cell_type": "code",
   "execution_count": 2,
   "metadata": {},
   "outputs": [],
   "source": [
    "tickers = pd.read_csv('ticker_lists/ndx.csv', header=None)\n",
    "tickers = tickers[0].to_list()"
   ]
  },
  {
   "cell_type": "code",
   "execution_count": 69,
   "metadata": {},
   "outputs": [
    {
     "data": {
      "text/plain": [
       "0.011632498594999562"
      ]
     },
     "execution_count": 69,
     "metadata": {},
     "output_type": "execute_result"
    }
   ],
   "source": [
    "# Timing \n",
    "i = 1\n",
    "setup_code = 'from yfinance_loader import download_tickers'\n",
    "run = \"\"\"download_tickers(['XACTC25.CO'], False, return_only=['Adj Close','Volume'])\"\"\"\n",
    "timeit.timeit(run, setup=setup_code, number=i)/i"
   ]
  },
  {
   "cell_type": "code",
   "execution_count": 78,
   "metadata": {},
   "outputs": [],
   "source": [
    "tickers = ['GMAB.CO']\n",
    "stocks = download_tickers(tickers, False, return_only=['Adj Close'])"
   ]
  },
  {
   "cell_type": "code",
   "execution_count": 79,
   "metadata": {},
   "outputs": [
    {
     "name": "stdout",
     "output_type": "stream",
     "text": [
      "Stock ticker      GMAB.CO\n",
      "Data type       Adj Close\n",
      "Date                     \n",
      "2012-06-18      45.599998\n",
      "2012-06-19      50.049999\n",
      "2012-06-20      48.799999\n",
      "2012-06-21      51.450001\n",
      "2012-06-22      53.299999\n",
      "...                   ...\n",
      "2020-09-03    2263.000000\n",
      "2020-09-04    2178.000000\n",
      "2020-09-07    2260.000000\n",
      "2020-09-08    2204.000000\n",
      "2020-09-09    2264.000000\n",
      "\n",
      "[2051 rows x 1 columns]\n"
     ]
    }
   ],
   "source": [
    "print(stocks)"
   ]
  },
  {
   "cell_type": "code",
   "execution_count": 80,
   "metadata": {},
   "outputs": [
    {
     "data": {
      "text/plain": [
       "[<matplotlib.lines.Line2D at 0x7fc71bfc96d0>]"
      ]
     },
     "execution_count": 80,
     "metadata": {},
     "output_type": "execute_result"
    },
    {
     "data": {
      "image/png": "[encoded data removed]",
      "text/plain": [
       "<Figure size 432x288 with 1 Axes>"
      ]
     },
     "metadata": {
      "needs_background": "light"
     },
     "output_type": "display_data"
    }
   ],
   "source": [
    "plt.plot(stocks.iloc[:-1900, 0])"
   ]
  },
  {
   "cell_type": "code",
   "execution_count": null,
   "metadata": {},
   "outputs": [],
   "source": []
  }
 ],
 "metadata": {
  "kernelspec": {
   "display_name": "Python 3",
   "language": "python",
   "name": "python3"
  },
  "language_info": {
   "codemirror_mode": {
    "name": "ipython",
    "version": 3
   },
   "file_extension": ".py",
   "mimetype": "text/x-python",
   "name": "python",
   "nbconvert_exporter": "python",
   "pygments_lexer": "ipython3",
   "version": "3.7.4"
  }
 },
 "nbformat": 4,
 "nbformat_minor": 4
}
