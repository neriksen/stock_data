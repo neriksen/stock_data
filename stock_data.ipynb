{
 "cells": [
  {
   "cell_type": "code",
   "execution_count": null,
   "metadata": {},
   "outputs": [],
   "source": [
    "import yfinance as yf\n",
    "import pandas as pd\n",
    "import matplotlib.pyplot as plt\n",
    "import seaborn as sns\n",
    "import json\n",
    "import glob\n",
    "import os\n",
    "import datetime as dt\n",
    "from datetime import datetime\n",
    "import bz2\n",
    "import pickle\n",
    "import _pickle as cPickle\n",
    "import timeit\n",
    "from __main__ import download_tickers, tickers\n",
    "\n",
    "%matplotlib inline"
   ]
  },
  {
   "cell_type": "code",
   "execution_count": null,
   "metadata": {},
   "outputs": [],
   "source": [
    "tickers = pd.read_csv('yfinanceetfs.csv', header=None)"
   ]
  },
  {
   "cell_type": "code",
   "execution_count": null,
   "metadata": {},
   "outputs": [],
   "source": [
    "tickers = tickers[0].to_list()"
   ]
  },
  {
   "cell_type": "code",
   "execution_count": 118,
   "metadata": {},
   "outputs": [],
   "source": [
    "tickers = ['SBUX']\n",
    "#timeit.timeit(\"stocks = download_tickers(tickers)\", \"from __main__ import download_tickers, tickers\", number=1)\n",
    "stocks = download_tickers(tickers)"
   ]
  },
  {
   "cell_type": "code",
   "execution_count": null,
   "metadata": {},
   "outputs": [],
   "source": [
    "import threading\n",
    "threading.active_count()"
   ]
  },
  {
   "cell_type": "code",
   "execution_count": 119,
   "metadata": {},
   "outputs": [
    {
     "data": {
      "text/plain": [
       "<matplotlib.axes._subplots.AxesSubplot at 0x7f969701d110>"
      ]
     },
     "execution_count": 119,
     "metadata": {},
     "output_type": "execute_result"
    },
    {
     "data": {
      "image/png": "[encoded data removed]",
      "text/plain": [
       "<Figure size 432x288 with 1 Axes>"
      ]
     },
     "metadata": {
      "needs_background": "light"
     },
     "output_type": "display_data"
    }
   ],
   "source": [
    "sns.lineplot(data=stocks.loc[:, stocks.columns.get_level_values(1).isin(['Adj Close'])])"
   ]
  },
  {
   "cell_type": "code",
   "execution_count": 120,
   "metadata": {},
   "outputs": [],
   "source": [
    "def download_tickers(tickers):\n",
    "    # Fetch downloaded ticker from raw_data\n",
    "    downloaded_tickers = [x[0:-5] if '.pbz2' in x else '' for x in os.listdir('raw_data/')]\n",
    "    downloaded_tickers.remove('')\n",
    "    # Check if tickers already are downloaded\n",
    "    tickers_to_download = []\n",
    "    for ticker in tickers:\n",
    "        if ticker in downloaded_tickers:\n",
    "            # If already downloaded, check if they need updates\n",
    "            if update_ticker(ticker):\n",
    "                tickers_to_download.append(ticker)\n",
    "        else:\n",
    "            tickers_to_download.append(ticker)\n",
    "\n",
    "    download_dump(tickers_to_download)\n",
    "    \n",
    "    # Read tickers from json and return\n",
    "    return load_stocks(tickers)"
   ]
  },
  {
   "cell_type": "code",
   "execution_count": 121,
   "metadata": {},
   "outputs": [],
   "source": [
    "def load_stocks(tickers):\n",
    "    cols = ['Open', 'High', 'Low', 'Close', 'Adj Close', 'Volume']\n",
    "    index = pd.MultiIndex.from_product([tickers, cols], names=['Stock ticker', 'Data type'])\n",
    "    if len(tickers) > 1:\n",
    "        data = pd.concat([decompress_pickle('raw_data/' + x + '.pbz2') for x in tickers], axis=1, sort=True)\n",
    "    else:\n",
    "        data = decompress_pickle('raw_data/' + tickers[0] + '.pbz2')\n",
    "    \n",
    "    data.columns = index\n",
    "    try:\n",
    "        data.index = pd.to_datetime(data.index, unit='ms')\n",
    "    except ValueError:\n",
    "        data.index = pd.to_datetime(data.index)\n",
    "    return data"
   ]
  },
  {
   "cell_type": "code",
   "execution_count": 122,
   "metadata": {},
   "outputs": [],
   "source": [
    "def update_ticker(ticker):\n",
    "    last_bday = last_weekday()\n",
    "    newest_date = decompress_pickle('raw_data/' + ticker + '.pbz2').index[-1]\n",
    "    if newest_date == float:\n",
    "        newest_date = dt.datetime.fromtimestamp(newest_date/1000).date()\n",
    "    if newest_date != last_bday:\n",
    "        return True \n",
    "    else:\n",
    "        return False"
   ]
  },
  {
   "cell_type": "code",
   "execution_count": 123,
   "metadata": {},
   "outputs": [],
   "source": [
    "def download_dump(tickers):\n",
    "    if tickers != []:\n",
    "        data = yf.download(tickers, period='100y', group_by='tickers')\n",
    "        if len(tickers) > 1:\n",
    "            for ticker in tickers:\n",
    "                    clean_data = clean_df(data[ticker])\n",
    "                    #clean_data.to_json('raw_data/' + ticker + '.json', date_format='epoch', date_unit='ms')\n",
    "                    compressed_pickle(ticker, clean_data[ticker])\n",
    "        else:\n",
    "            clean_data = clean_df(data)\n",
    "            #clean_data.to_json('raw_data/' + tickers[0] + '.json', date_format='epoch', date_unit='ms')\n",
    "            compressed_pickle(tickers[0], clean_data)"
   ]
  },
  {
   "cell_type": "code",
   "execution_count": 124,
   "metadata": {},
   "outputs": [],
   "source": [
    "def last_weekday():\n",
    "    todays_day = dt.date.today().day\n",
    "    if todays_day in [5, 6]:\n",
    "        return dt.date.today() - dt.timedelta(days=todays_day-4)\n",
    "    else:\n",
    "        return dt.date.today()\n"
   ]
  },
  {
   "cell_type": "code",
   "execution_count": 125,
   "metadata": {},
   "outputs": [],
   "source": [
    "def clean_df(df):\n",
    "    df = df.dropna(axis = 0, how='all')\n",
    "    return df"
   ]
  },
  {
   "cell_type": "code",
   "execution_count": 126,
   "metadata": {},
   "outputs": [],
   "source": [
    "def compressed_pickle(ticker, data):\n",
    "    with bz2.BZ2File('raw_data/' + ticker + '.pbz2', 'w') as f: \n",
    "        cPickle.dump(data, f)"
   ]
  },
  {
   "cell_type": "code",
   "execution_count": 127,
   "metadata": {},
   "outputs": [],
   "source": [
    "def decompress_pickle(file):\n",
    "    data = bz2.BZ2File(file, 'rb')\n",
    "    data = cPickle.load(data)\n",
    "    return data"
   ]
  },
  {
   "cell_type": "code",
   "execution_count": 128,
   "metadata": {},
   "outputs": [],
   "source": [
    "test = decompress_pickle('raw_data/AAPL.pbz2')"
   ]
  },
  {
   "cell_type": "code",
   "execution_count": 129,
   "metadata": {},
   "outputs": [
    {
     "data": {
      "text/html": [
       "<div>\n",
       "<style scoped>\n",
       "    .dataframe tbody tr th:only-of-type {\n",
       "        vertical-align: middle;\n",
       "    }\n",
       "\n",
       "    .dataframe tbody tr th {\n",
       "        vertical-align: top;\n",
       "    }\n",
       "\n",
       "    .dataframe thead th {\n",
       "        text-align: right;\n",
       "    }\n",
       "</style>\n",
       "<table border=\"1\" class=\"dataframe\">\n",
       "  <thead>\n",
       "    <tr style=\"text-align: right;\">\n",
       "      <th></th>\n",
       "      <th>Open</th>\n",
       "      <th>High</th>\n",
       "      <th>Low</th>\n",
       "      <th>Close</th>\n",
       "      <th>Adj Close</th>\n",
       "      <th>Volume</th>\n",
       "    </tr>\n",
       "    <tr>\n",
       "      <th>Date</th>\n",
       "      <th></th>\n",
       "      <th></th>\n",
       "      <th></th>\n",
       "      <th></th>\n",
       "      <th></th>\n",
       "      <th></th>\n",
       "    </tr>\n",
       "  </thead>\n",
       "  <tbody>\n",
       "    <tr>\n",
       "      <td>1980-12-12</td>\n",
       "      <td>0.128348</td>\n",
       "      <td>0.128906</td>\n",
       "      <td>0.128348</td>\n",
       "      <td>0.128348</td>\n",
       "      <td>0.101261</td>\n",
       "      <td>469033600</td>\n",
       "    </tr>\n",
       "    <tr>\n",
       "      <td>1980-12-15</td>\n",
       "      <td>0.122210</td>\n",
       "      <td>0.122210</td>\n",
       "      <td>0.121652</td>\n",
       "      <td>0.121652</td>\n",
       "      <td>0.095978</td>\n",
       "      <td>175884800</td>\n",
       "    </tr>\n",
       "    <tr>\n",
       "      <td>1980-12-16</td>\n",
       "      <td>0.113281</td>\n",
       "      <td>0.113281</td>\n",
       "      <td>0.112723</td>\n",
       "      <td>0.112723</td>\n",
       "      <td>0.088934</td>\n",
       "      <td>105728000</td>\n",
       "    </tr>\n",
       "    <tr>\n",
       "      <td>1980-12-17</td>\n",
       "      <td>0.115513</td>\n",
       "      <td>0.116071</td>\n",
       "      <td>0.115513</td>\n",
       "      <td>0.115513</td>\n",
       "      <td>0.091135</td>\n",
       "      <td>86441600</td>\n",
       "    </tr>\n",
       "    <tr>\n",
       "      <td>1980-12-18</td>\n",
       "      <td>0.118862</td>\n",
       "      <td>0.119420</td>\n",
       "      <td>0.118862</td>\n",
       "      <td>0.118862</td>\n",
       "      <td>0.093777</td>\n",
       "      <td>73449600</td>\n",
       "    </tr>\n",
       "    <tr>\n",
       "      <td>...</td>\n",
       "      <td>...</td>\n",
       "      <td>...</td>\n",
       "      <td>...</td>\n",
       "      <td>...</td>\n",
       "      <td>...</td>\n",
       "      <td>...</td>\n",
       "    </tr>\n",
       "    <tr>\n",
       "      <td>2020-08-31</td>\n",
       "      <td>127.580002</td>\n",
       "      <td>131.000000</td>\n",
       "      <td>126.000000</td>\n",
       "      <td>129.039993</td>\n",
       "      <td>129.039993</td>\n",
       "      <td>225702700</td>\n",
       "    </tr>\n",
       "    <tr>\n",
       "      <td>2020-09-01</td>\n",
       "      <td>132.759995</td>\n",
       "      <td>134.800003</td>\n",
       "      <td>130.529999</td>\n",
       "      <td>134.179993</td>\n",
       "      <td>134.179993</td>\n",
       "      <td>152470100</td>\n",
       "    </tr>\n",
       "    <tr>\n",
       "      <td>2020-09-02</td>\n",
       "      <td>137.589996</td>\n",
       "      <td>137.979996</td>\n",
       "      <td>127.000000</td>\n",
       "      <td>131.399994</td>\n",
       "      <td>131.399994</td>\n",
       "      <td>200119000</td>\n",
       "    </tr>\n",
       "    <tr>\n",
       "      <td>2020-09-03</td>\n",
       "      <td>126.910004</td>\n",
       "      <td>128.839996</td>\n",
       "      <td>120.500000</td>\n",
       "      <td>120.879997</td>\n",
       "      <td>120.879997</td>\n",
       "      <td>254723200</td>\n",
       "    </tr>\n",
       "    <tr>\n",
       "      <td>2020-09-04</td>\n",
       "      <td>120.070000</td>\n",
       "      <td>123.699997</td>\n",
       "      <td>110.889999</td>\n",
       "      <td>120.959999</td>\n",
       "      <td>120.959999</td>\n",
       "      <td>332607163</td>\n",
       "    </tr>\n",
       "  </tbody>\n",
       "</table>\n",
       "<p>10018 rows × 6 columns</p>\n",
       "</div>"
      ],
      "text/plain": [
       "                  Open        High         Low       Close   Adj Close  \\\n",
       "Date                                                                     \n",
       "1980-12-12    0.128348    0.128906    0.128348    0.128348    0.101261   \n",
       "1980-12-15    0.122210    0.122210    0.121652    0.121652    0.095978   \n",
       "1980-12-16    0.113281    0.113281    0.112723    0.112723    0.088934   \n",
       "1980-12-17    0.115513    0.116071    0.115513    0.115513    0.091135   \n",
       "1980-12-18    0.118862    0.119420    0.118862    0.118862    0.093777   \n",
       "...                ...         ...         ...         ...         ...   \n",
       "2020-08-31  127.580002  131.000000  126.000000  129.039993  129.039993   \n",
       "2020-09-01  132.759995  134.800003  130.529999  134.179993  134.179993   \n",
       "2020-09-02  137.589996  137.979996  127.000000  131.399994  131.399994   \n",
       "2020-09-03  126.910004  128.839996  120.500000  120.879997  120.879997   \n",
       "2020-09-04  120.070000  123.699997  110.889999  120.959999  120.959999   \n",
       "\n",
       "               Volume  \n",
       "Date                   \n",
       "1980-12-12  469033600  \n",
       "1980-12-15  175884800  \n",
       "1980-12-16  105728000  \n",
       "1980-12-17   86441600  \n",
       "1980-12-18   73449600  \n",
       "...               ...  \n",
       "2020-08-31  225702700  \n",
       "2020-09-01  152470100  \n",
       "2020-09-02  200119000  \n",
       "2020-09-03  254723200  \n",
       "2020-09-04  332607163  \n",
       "\n",
       "[10018 rows x 6 columns]"
      ]
     },
     "execution_count": 129,
     "metadata": {},
     "output_type": "execute_result"
    }
   ],
   "source": [
    "test"
   ]
  },
  {
   "cell_type": "code",
   "execution_count": 130,
   "metadata": {},
   "outputs": [],
   "source": [
    "import os\n",
    "\n",
    "def clean_raw_files():\n",
    "    for filename in os.listdir('raw_data'):\n",
    "        if filename.endswith(\".pbz2\"): \n",
    "            df = pd.DataFrame(decompress_pickle('raw_data/' + filename))\n",
    "            non_zeroes = len(df) - df.iloc[:, 4].isna().sum()\n",
    "            if non_zeroes < 2:\n",
    "                os.remove('raw_data/' + filename)\n",
    "            else:\n",
    "                df = df.dropna(how='all', axis=0)\n",
    "                ticker = filename.replace('.pbz2', '')\n",
    "                compressed_pickle(ticker, df)\n",
    "                  \n",
    "remove_empties()"
   ]
  },
  {
   "cell_type": "code",
   "execution_count": null,
   "metadata": {},
   "outputs": [],
   "source": []
  }
 ],
 "metadata": {
  "kernelspec": {
   "display_name": "Python 3",
   "language": "python",
   "name": "python3"
  },
  "language_info": {
   "codemirror_mode": {
    "name": "ipython",
    "version": 3
   },
   "file_extension": ".py",
   "mimetype": "text/x-python",
   "name": "python",
   "nbconvert_exporter": "python",
   "pygments_lexer": "ipython3",
   "version": "3.7.4"
  }
 },
 "nbformat": 4,
 "nbformat_minor": 4
}
