{
 "cells": [
  {
   "cell_type": "code",
   "execution_count": 83,
   "metadata": {},
   "outputs": [],
   "source": [
    "import yfinance as yf\n",
    "import pandas as pd\n",
    "import matplotlib.pyplot as plt\n",
    "import seaborn as sns\n",
    "import json\n",
    "import glob\n",
    "import os\n",
    "import datetime as dt\n",
    "from datetime import datetime\n",
    "import bz2\n",
    "import pickle\n",
    "import _pickle as cPickle\n",
    "\n",
    "%matplotlib inline"
   ]
  },
  {
   "cell_type": "code",
   "execution_count": 29,
   "metadata": {},
   "outputs": [],
   "source": [
    "tickers = pd.read_csv('ndx.csv', header=None)"
   ]
  },
  {
   "cell_type": "code",
   "execution_count": 39,
   "metadata": {},
   "outputs": [
    {
     "ename": "AttributeError",
     "evalue": "'str' object has no attribute 'to_list'",
     "output_type": "error",
     "traceback": [
      "\u001b[0;31m---------------------------------------------------------------------------\u001b[0m",
      "\u001b[0;31mAttributeError\u001b[0m                            Traceback (most recent call last)",
      "\u001b[0;32m<ipython-input-39-74aff2333abb>\u001b[0m in \u001b[0;36m<module>\u001b[0;34m\u001b[0m\n\u001b[0;32m----> 1\u001b[0;31m \u001b[0mtickers\u001b[0m \u001b[0;34m=\u001b[0m \u001b[0mtickers\u001b[0m\u001b[0;34m[\u001b[0m\u001b[0;36m0\u001b[0m\u001b[0;34m]\u001b[0m\u001b[0;34m.\u001b[0m\u001b[0mto_list\u001b[0m\u001b[0;34m(\u001b[0m\u001b[0;34m)\u001b[0m\u001b[0;34m\u001b[0m\u001b[0;34m\u001b[0m\u001b[0m\n\u001b[0m",
      "\u001b[0;31mAttributeError\u001b[0m: 'str' object has no attribute 'to_list'"
     ]
    }
   ],
   "source": [
    "tickers = tickers[0].to_list()"
   ]
  },
  {
   "cell_type": "code",
   "execution_count": 41,
   "metadata": {},
   "outputs": [
    {
     "data": {
      "text/plain": [
       "103"
      ]
     },
     "execution_count": 41,
     "metadata": {},
     "output_type": "execute_result"
    }
   ],
   "source": [
    "len(tickers)"
   ]
  },
  {
   "cell_type": "code",
   "execution_count": 82,
   "metadata": {},
   "outputs": [
    {
     "name": "stdout",
     "output_type": "stream",
     "text": [
      "[*********************100%***********************]  2 of 2 completed\n",
      "saved 0 lines\n",
      "saved 1325 lines\n"
     ]
    }
   ],
   "source": [
    "#tickers = ['FB', 'AA', 'AAPL']\n",
    "stocks = download_tickers(['AAPL', 'MSFT'])"
   ]
  },
  {
   "cell_type": "code",
   "execution_count": 80,
   "metadata": {},
   "outputs": [
    {
     "data": {
      "text/html": [
       "<div>\n",
       "<style scoped>\n",
       "    .dataframe tbody tr th:only-of-type {\n",
       "        vertical-align: middle;\n",
       "    }\n",
       "\n",
       "    .dataframe tbody tr th {\n",
       "        vertical-align: top;\n",
       "    }\n",
       "\n",
       "    .dataframe thead tr th {\n",
       "        text-align: left;\n",
       "    }\n",
       "</style>\n",
       "<table border=\"1\" class=\"dataframe\">\n",
       "  <thead>\n",
       "    <tr>\n",
       "      <th>Stock ticker</th>\n",
       "      <th colspan=\"6\" halign=\"left\">AAPL</th>\n",
       "      <th colspan=\"6\" halign=\"left\">MSFT</th>\n",
       "    </tr>\n",
       "    <tr>\n",
       "      <th>Data type</th>\n",
       "      <th>Open</th>\n",
       "      <th>High</th>\n",
       "      <th>Low</th>\n",
       "      <th>Close</th>\n",
       "      <th>Adj Close</th>\n",
       "      <th>Volume</th>\n",
       "      <th>Open</th>\n",
       "      <th>High</th>\n",
       "      <th>Low</th>\n",
       "      <th>Close</th>\n",
       "      <th>Adj Close</th>\n",
       "      <th>Volume</th>\n",
       "    </tr>\n",
       "  </thead>\n",
       "  <tbody>\n",
       "    <tr>\n",
       "      <td>1972-06-01</td>\n",
       "      <td>NaN</td>\n",
       "      <td>NaN</td>\n",
       "      <td>NaN</td>\n",
       "      <td>NaN</td>\n",
       "      <td>NaN</td>\n",
       "      <td>NaN</td>\n",
       "      <td>NaN</td>\n",
       "      <td>NaN</td>\n",
       "      <td>NaN</td>\n",
       "      <td>NaN</td>\n",
       "      <td>NaN</td>\n",
       "      <td>NaN</td>\n",
       "    </tr>\n",
       "    <tr>\n",
       "      <td>1972-06-02</td>\n",
       "      <td>NaN</td>\n",
       "      <td>NaN</td>\n",
       "      <td>NaN</td>\n",
       "      <td>NaN</td>\n",
       "      <td>NaN</td>\n",
       "      <td>NaN</td>\n",
       "      <td>NaN</td>\n",
       "      <td>NaN</td>\n",
       "      <td>NaN</td>\n",
       "      <td>NaN</td>\n",
       "      <td>NaN</td>\n",
       "      <td>NaN</td>\n",
       "    </tr>\n",
       "    <tr>\n",
       "      <td>1972-06-05</td>\n",
       "      <td>NaN</td>\n",
       "      <td>NaN</td>\n",
       "      <td>NaN</td>\n",
       "      <td>NaN</td>\n",
       "      <td>NaN</td>\n",
       "      <td>NaN</td>\n",
       "      <td>NaN</td>\n",
       "      <td>NaN</td>\n",
       "      <td>NaN</td>\n",
       "      <td>NaN</td>\n",
       "      <td>NaN</td>\n",
       "      <td>NaN</td>\n",
       "    </tr>\n",
       "    <tr>\n",
       "      <td>1972-06-06</td>\n",
       "      <td>NaN</td>\n",
       "      <td>NaN</td>\n",
       "      <td>NaN</td>\n",
       "      <td>NaN</td>\n",
       "      <td>NaN</td>\n",
       "      <td>NaN</td>\n",
       "      <td>NaN</td>\n",
       "      <td>NaN</td>\n",
       "      <td>NaN</td>\n",
       "      <td>NaN</td>\n",
       "      <td>NaN</td>\n",
       "      <td>NaN</td>\n",
       "    </tr>\n",
       "    <tr>\n",
       "      <td>1972-06-07</td>\n",
       "      <td>NaN</td>\n",
       "      <td>NaN</td>\n",
       "      <td>NaN</td>\n",
       "      <td>NaN</td>\n",
       "      <td>NaN</td>\n",
       "      <td>NaN</td>\n",
       "      <td>NaN</td>\n",
       "      <td>NaN</td>\n",
       "      <td>NaN</td>\n",
       "      <td>NaN</td>\n",
       "      <td>NaN</td>\n",
       "      <td>NaN</td>\n",
       "    </tr>\n",
       "    <tr>\n",
       "      <td>...</td>\n",
       "      <td>...</td>\n",
       "      <td>...</td>\n",
       "      <td>...</td>\n",
       "      <td>...</td>\n",
       "      <td>...</td>\n",
       "      <td>...</td>\n",
       "      <td>...</td>\n",
       "      <td>...</td>\n",
       "      <td>...</td>\n",
       "      <td>...</td>\n",
       "      <td>...</td>\n",
       "      <td>...</td>\n",
       "    </tr>\n",
       "    <tr>\n",
       "      <td>2020-08-31</td>\n",
       "      <td>127.580002</td>\n",
       "      <td>131.000000</td>\n",
       "      <td>126.000000</td>\n",
       "      <td>129.039993</td>\n",
       "      <td>129.039993</td>\n",
       "      <td>225702700.0</td>\n",
       "      <td>227.000000</td>\n",
       "      <td>228.699997</td>\n",
       "      <td>224.309998</td>\n",
       "      <td>225.529999</td>\n",
       "      <td>225.529999</td>\n",
       "      <td>28774200.0</td>\n",
       "    </tr>\n",
       "    <tr>\n",
       "      <td>2020-09-01</td>\n",
       "      <td>132.759995</td>\n",
       "      <td>134.800003</td>\n",
       "      <td>130.529999</td>\n",
       "      <td>134.179993</td>\n",
       "      <td>134.179993</td>\n",
       "      <td>152470100.0</td>\n",
       "      <td>225.509995</td>\n",
       "      <td>227.449997</td>\n",
       "      <td>224.429993</td>\n",
       "      <td>227.270004</td>\n",
       "      <td>227.270004</td>\n",
       "      <td>25791200.0</td>\n",
       "    </tr>\n",
       "    <tr>\n",
       "      <td>2020-09-02</td>\n",
       "      <td>137.589996</td>\n",
       "      <td>137.979996</td>\n",
       "      <td>127.000000</td>\n",
       "      <td>131.399994</td>\n",
       "      <td>131.399994</td>\n",
       "      <td>200119000.0</td>\n",
       "      <td>227.970001</td>\n",
       "      <td>232.860001</td>\n",
       "      <td>227.350006</td>\n",
       "      <td>231.649994</td>\n",
       "      <td>231.649994</td>\n",
       "      <td>34080800.0</td>\n",
       "    </tr>\n",
       "    <tr>\n",
       "      <td>2020-09-03</td>\n",
       "      <td>126.910004</td>\n",
       "      <td>128.839996</td>\n",
       "      <td>120.500000</td>\n",
       "      <td>120.879997</td>\n",
       "      <td>120.879997</td>\n",
       "      <td>254723200.0</td>\n",
       "      <td>229.270004</td>\n",
       "      <td>229.309998</td>\n",
       "      <td>214.960007</td>\n",
       "      <td>217.300003</td>\n",
       "      <td>217.300003</td>\n",
       "      <td>58148900.0</td>\n",
       "    </tr>\n",
       "    <tr>\n",
       "      <td>2020-09-04</td>\n",
       "      <td>120.070000</td>\n",
       "      <td>123.699997</td>\n",
       "      <td>110.889999</td>\n",
       "      <td>120.959999</td>\n",
       "      <td>120.959999</td>\n",
       "      <td>332607163.0</td>\n",
       "      <td>215.100006</td>\n",
       "      <td>218.359894</td>\n",
       "      <td>205.190002</td>\n",
       "      <td>214.250000</td>\n",
       "      <td>214.250000</td>\n",
       "      <td>56783337.0</td>\n",
       "    </tr>\n",
       "  </tbody>\n",
       "</table>\n",
       "<p>12178 rows × 12 columns</p>\n",
       "</div>"
      ],
      "text/plain": [
       "Stock ticker        AAPL                                                  \\\n",
       "Data type           Open        High         Low       Close   Adj Close   \n",
       "1972-06-01           NaN         NaN         NaN         NaN         NaN   \n",
       "1972-06-02           NaN         NaN         NaN         NaN         NaN   \n",
       "1972-06-05           NaN         NaN         NaN         NaN         NaN   \n",
       "1972-06-06           NaN         NaN         NaN         NaN         NaN   \n",
       "1972-06-07           NaN         NaN         NaN         NaN         NaN   \n",
       "...                  ...         ...         ...         ...         ...   \n",
       "2020-08-31    127.580002  131.000000  126.000000  129.039993  129.039993   \n",
       "2020-09-01    132.759995  134.800003  130.529999  134.179993  134.179993   \n",
       "2020-09-02    137.589996  137.979996  127.000000  131.399994  131.399994   \n",
       "2020-09-03    126.910004  128.839996  120.500000  120.879997  120.879997   \n",
       "2020-09-04    120.070000  123.699997  110.889999  120.959999  120.959999   \n",
       "\n",
       "Stock ticker                     MSFT                                      \\\n",
       "Data type          Volume        Open        High         Low       Close   \n",
       "1972-06-01            NaN         NaN         NaN         NaN         NaN   \n",
       "1972-06-02            NaN         NaN         NaN         NaN         NaN   \n",
       "1972-06-05            NaN         NaN         NaN         NaN         NaN   \n",
       "1972-06-06            NaN         NaN         NaN         NaN         NaN   \n",
       "1972-06-07            NaN         NaN         NaN         NaN         NaN   \n",
       "...                   ...         ...         ...         ...         ...   \n",
       "2020-08-31    225702700.0  227.000000  228.699997  224.309998  225.529999   \n",
       "2020-09-01    152470100.0  225.509995  227.449997  224.429993  227.270004   \n",
       "2020-09-02    200119000.0  227.970001  232.860001  227.350006  231.649994   \n",
       "2020-09-03    254723200.0  229.270004  229.309998  214.960007  217.300003   \n",
       "2020-09-04    332607163.0  215.100006  218.359894  205.190002  214.250000   \n",
       "\n",
       "Stock ticker                          \n",
       "Data type      Adj Close      Volume  \n",
       "1972-06-01           NaN         NaN  \n",
       "1972-06-02           NaN         NaN  \n",
       "1972-06-05           NaN         NaN  \n",
       "1972-06-06           NaN         NaN  \n",
       "1972-06-07           NaN         NaN  \n",
       "...                  ...         ...  \n",
       "2020-08-31    225.529999  28774200.0  \n",
       "2020-09-01    227.270004  25791200.0  \n",
       "2020-09-02    231.649994  34080800.0  \n",
       "2020-09-03    217.300003  58148900.0  \n",
       "2020-09-04    214.250000  56783337.0  \n",
       "\n",
       "[12178 rows x 12 columns]"
      ]
     },
     "execution_count": 80,
     "metadata": {},
     "output_type": "execute_result"
    }
   ],
   "source": [
    "stocks"
   ]
  },
  {
   "cell_type": "code",
   "execution_count": 66,
   "metadata": {},
   "outputs": [
    {
     "data": {
      "text/plain": [
       "Stock ticker  Data type\n",
       "AAPL          Adj Close     2160\n",
       "AMZN          Adj Close     6311\n",
       "MSFT          Adj Close     3485\n",
       "FB            Adj Close    10089\n",
       "GOOGL         Adj Close     8137\n",
       "                           ...  \n",
       "WDC           Adj Close     1624\n",
       "FOXA          Adj Close    11801\n",
       "LBTYK         Adj Close     8403\n",
       "FOX           Adj Close    11802\n",
       "LBTYA         Adj Close     8084\n",
       "Length: 103, dtype: int64"
      ]
     },
     "execution_count": 66,
     "metadata": {},
     "output_type": "execute_result"
    }
   ],
   "source": [
    "stocks.loc[:, stocks.columns.get_level_values(1).isin(['Adj Close'])].isna().sum()"
   ]
  },
  {
   "cell_type": "code",
   "execution_count": 68,
   "metadata": {},
   "outputs": [],
   "source": [
    "def download_tickers(tickers):\n",
    "    # Fetch downloaded ticker from raw_data\n",
    "    downloaded_tickers = [x[0:-5] if '.json' in x else '' for x in os.listdir('raw_data/')]\n",
    "    downloaded_tickers.remove('')\n",
    "    # Check if tickers already are downloaded\n",
    "    tickers_to_download = []\n",
    "    for ticker in tickers:\n",
    "        if ticker in downloaded_tickers:\n",
    "            # If already downloaded, check if they need updates\n",
    "            if update_ticker(ticker):\n",
    "                tickers_to_download.append(ticker)\n",
    "        else:\n",
    "            tickers_to_download.append(ticker)\n",
    "\n",
    "    download_dump(tickers_to_download)\n",
    "    \n",
    "    # Read tickers from json and return\n",
    "    return load_stocks(tickers)"
   ]
  },
  {
   "cell_type": "code",
   "execution_count": 69,
   "metadata": {},
   "outputs": [],
   "source": [
    "def load_stocks(tickers):\n",
    "    cols = ['Open', 'High', 'Low', 'Close', 'Adj Close', 'Volume']\n",
    "    index = pd.MultiIndex.from_product([tickers, cols], names=['Stock ticker', 'Data type'])\n",
    "    data = pd.concat([pd.read_json('raw_data/' + x + '.json', ) for x in tickers], axis=1, sort=True)\n",
    "    data.columns = index\n",
    "    try:\n",
    "        data.index = pd.to_datetime(data.index, unit='ms')\n",
    "    except ValueError:\n",
    "        data.index = pd.to_datetime(data.index)\n",
    "    return data"
   ]
  },
  {
   "cell_type": "code",
   "execution_count": 70,
   "metadata": {},
   "outputs": [],
   "source": [
    "def update_ticker(ticker):\n",
    "    last_bday = last_weekday()\n",
    "    newest_date = pd.read_json('raw_data/' + ticker + '.json').index[-1]\n",
    "    if newest_date == float:\n",
    "        newest_date = dt.datetime.fromtimestamp(newest_date/1000).date()\n",
    "    if newest_date != last_bday:\n",
    "        return True \n",
    "    else:\n",
    "        return False"
   ]
  },
  {
   "cell_type": "code",
   "execution_count": 76,
   "metadata": {},
   "outputs": [],
   "source": [
    "def download_dump(tickers):\n",
    "    if tickers != []:\n",
    "        data = yf.download(tickers, period='100y', group_by='tickers')\n",
    "        if len(tickers) > 1:\n",
    "            for ticker in tickers:\n",
    "                    clean_data = clean_df(data[ticker])\n",
    "                    clean_data.to_json('raw_data/' + ticker + '.json', date_format='epoch', date_unit='ms')\n",
    "        else:\n",
    "            clean_data = clean_df(data)\n",
    "            clean_data.to_json('raw_data/' + tickers[0] + '.json', date_format='epoch', date_unit='ms')"
   ]
  },
  {
   "cell_type": "code",
   "execution_count": 77,
   "metadata": {},
   "outputs": [],
   "source": [
    "def last_weekday():\n",
    "    todays_day = dt.date.today().day\n",
    "    if todays_day in [5, 6]:\n",
    "        return dt.date.today() - dt.timedelta(days=todays_day-4)\n",
    "    else:\n",
    "        return dt.date.today()\n"
   ]
  },
  {
   "cell_type": "code",
   "execution_count": 81,
   "metadata": {},
   "outputs": [],
   "source": [
    "def clean_df(df):\n",
    "    before = len(df)\n",
    "    df = df.dropna(axis = 0, how='all')\n",
    "    print('saved', before-len(df), 'lines')\n",
    "    return df"
   ]
  },
  {
   "cell_type": "code",
   "execution_count": 84,
   "metadata": {},
   "outputs": [],
   "source": [
    "def compressed_pickle(ticker, data):\n",
    "    with bz2.BZ2File('raw_data' + ticker + '.pbz2', 'w') as f: \n",
    "        cPickle.dump(data, f)"
   ]
  },
  {
   "cell_type": "code",
   "execution_count": 85,
   "metadata": {},
   "outputs": [],
   "source": [
    "def decompress_pickle(file):\n",
    "    data = bz2.BZ2File(file, 'rb')\n",
    "    data = cPickle.load(data)\n",
    "    return data"
   ]
  },
  {
   "cell_type": "code",
   "execution_count": null,
   "metadata": {},
   "outputs": [],
   "source": []
  }
 ],
 "metadata": {
  "kernelspec": {
   "display_name": "Python 3",
   "language": "python",
   "name": "python3"
  },
  "language_info": {
   "codemirror_mode": {
    "name": "ipython",
    "version": 3
   },
   "file_extension": ".py",
   "mimetype": "text/x-python",
   "name": "python",
   "nbconvert_exporter": "python",
   "pygments_lexer": "ipython3",
   "version": "3.7.4"
  }
 },
 "nbformat": 4,
 "nbformat_minor": 4
}
