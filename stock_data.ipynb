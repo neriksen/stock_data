{
 "cells": [
  {
   "cell_type": "code",
   "execution_count": null,
   "metadata": {
    "collapsed": true,
    "jupyter": {
     "outputs_hidden": true
    }
   },
   "outputs": [],
   "source": [
    "import yfinance as yf\n",
    "import pandas as pd\n",
    "import matplotlib.pyplot as plt\n",
    "import seaborn as sns\n",
    "import json\n",
    "import glob\n",
    "import os\n",
    "import datetime as dt\n",
    "from datetime import datetime\n",
    "import bz2\n",
    "import pickle\n",
    "import _pickle as cPickle\n",
    "import timeit\n",
    "from __main__ import download_tickers, tickers\n",
    "\n",
    "%matplotlib inline"
   ]
  },
  {
   "cell_type": "code",
   "execution_count": 159,
   "metadata": {
    "collapsed": true,
    "jupyter": {
     "outputs_hidden": true
    }
   },
   "outputs": [],
   "source": [
    "tickers = pd.read_csv('danish_first_north.csv', header=None)"
   ]
  },
  {
   "cell_type": "code",
   "execution_count": 160,
   "metadata": {
    "collapsed": true,
    "jupyter": {
     "outputs_hidden": true
    }
   },
   "outputs": [],
   "source": [
    "tickers = tickers[0].to_list()"
   ]
  },
  {
   "cell_type": "code",
   "execution_count": 228,
   "metadata": {},
   "outputs": [
    {
     "name": "stdout",
     "output_type": "stream",
     "text": [
      "[*********************100%***********************]  1 of 1 completed\n",
      "\n",
      "1 Failed download:\n",
      "- ASTGRPJ.CO: No data found, symbol may be delisted\n",
      "['MYI.L', 'UC84.L', 'PRIP.L', 'NVEC', 'GBX', 'RS2U.L', 'UNH', 'CREO.L', 'ORRF', 'IEMD.L', 'AIGC.L', 'MJCO', 'LEUR.L', 'REAL', 'EGDM.L', 'GJGB.L', 'PMT', 'GSPX.L', 'JOG.L', 'GLW', '78GL.L', 'HINT.L', 'TREX', 'RYI', 'MRC', 'ACM', 'FBH.L', 'CLCT', 'XPS.L', 'AQSG.L', 'GPI', 'OXY', 'G4S.CO', 'NATH', 'MNTN.L', 'ARAY', 'WHD', 'EMLC.L', 'FXZ', 'AAT', 'TGNA', 'SECI.ST', 'NUC.L', 'DIST.ST', 'OMER', 'AMYT.L', 'ALLO', 'HCM.L', 'FIVN', 'AJA-B.ST', 'TRUP', 'IOVA', 'MMK.L', 'XPAL.L', 'LGB3.L', 'AEJL.L', 'HLCL.L', 'KALA', 'WDR', 'ABB.ST', 'HRUD.L', 'LTRPA', 'SUKC.L', 'GLEN.L', 'SYS.L', 'SAVOS-TO6.ST', 'ARE.L', 'IAUP.L', 'CRWN.L', 'QRT.L', 'GEF', 'AVB', 'AVV.L', 'FRXD.L', 'PVG.L', 'XLU', 'NEE', 'CCSL.L', 'J', 'PAPI.ST', 'CRDA.L', 'JNJ', 'CBAY', 'ENET.L', 'VIS2.L', 'RNO.L', 'CLXT', 'ASPS', 'BDC', 'HUDYA.ST', 'KFY', 'IRR.L', 'THFF', 'JPM', 'ADS', 'IHDG', 'CEUS.L', 'GWW', 'LCI', 'DOMO', 'WMC', 'MATE.L', 'AMOT', 'VELO.CO', 'VDEV.L', 'CSTP.L', 'XDNU.L', 'CBSH', 'DEST.L', 'NXGN', 'DGII', 'EME', 'WCW.L', 'FISI', 'SFL', 'TELL', 'RUSB.L', 'FLS', 'RSG', 'DSKE', 'ANGS.L', 'APAM', 'BELFB', 'EW', 'SCHZ', 'OLP', 'AAF.L', 'SBBP', 'COO', 'RDOG', 'ADRO', 'INCE.L', 'DVA', 'UKCM.L', 'PVBC', 'S2M.ST', 'WRB', 'HTRY.L', 'NXTMS.ST', 'ALDX', 'BKNG', 'TRIG.L', 'PWR', 'TELW.L', 'NVR', 'FEMI.L', 'KZG.L', 'IDHQ', 'NTGN', 'BRNA.L', 'XDNY.L', 'WTG.L', 'DDDD.L', 'SUJA.L', 'LGLV', 'PETQ', 'ENZ', 'FRT', 'CKPT', 'ATLA-DKK.CO', 'ARKW', 'DGOC.L', 'EEIE.L', 'SDJP.L', 'OGN.L', 'FTV.L', 'JPEC.L', 'GILI.L', 'TIDE.L', 'EWC', 'ICFI', 'STNG', 'SEYE.ST', 'ALSN', 'DNA3.L', 'CDXS', 'JKX.L', 'LADR', 'FIT', 'NTRA', 'HTWD.L', 'EMQQ', 'SPIFF.ST', 'XAUS.L', 'GPOR', 'TENG.L', 'IVE', 'UAA', 'SRE', 'GAZ.L', 'BCHS.L', 'AVYA', 'AIGO.L', 'SOM.L', 'FDBC', 'CMX1.L', 'MCRB', 'LIT.L', 'PPL', 'SLB', 'IGR.L', 'NBS.L', 'ACRX', 'CRAK', 'PPH.L', 'CTO', 'MGTU.L', 'SHRS.L', 'ALELIO.ST', 'IMMU', 'PRU', 'IDT', 'TIPG.L', 'TTEK', 'HTCF.L', 'MGCI.L', 'IUSG', 'SLS.L', 'TIR.L', 'IH2O.L', 'NOBL', 'UCTT', 'NBEV', 'XLKS.L', 'ECHO.L', 'NDAQ', 'DHIL', 'HYLA.L', 'CEUG.L', 'HFD.L', 'HMFE.L', 'DL2P.L', 'WELP.L', 'IT', 'CMC', 'FXGB.L', 'BLKB', 'ACIM', 'OSPN', 'CCL', 'BHRD.L', 'MLVF', 'RIV.L', 'LSAI.L', 'SYX', 'FEMQ.L', 'SPSC.L', 'TLW.L', 'EB', 'ISJP.L', 'BIRD.L', 'NFO', 'HCSG', 'SGMO', 'KIE', 'AFS.L', 'BWA', 'VOOG', 'RRTS', 'XCS5.L', 'ROL', 'FPX', 'BIFF.L', 'MIDW.L', 'AIV', 'ESGR', 'VDC', 'PHPD.L', 'ATVI', 'MGPI', 'NWG.L', 'LUCE.L', 'FATE', 'CSD', 'UNIBAP.ST', 'RTIX', 'BLUE', 'SJH.L', 'KBHL.CO', 'BHI.L', 'N4P.L', 'TTWO', 'RTRX', 'EMH.L', 'JHME', 'YLD', 'CHD', 'PEAK', 'SEAF.ST', 'DTVL.L', 'JDT.ST', 'KETL.L', 'VUSA.L', 'ITI', 'DAB.CO', 'HAPPY.CO', 'ISRG', 'SSYS', 'TGH', 'CDR', 'XMXD.L', 'IWRD.L', 'NFX.L', 'PBH', 'APO', 'AROC.ST', 'HMCX.L', 'ENPL.L', 'BOD.L', 'UNG.L', 'KRE', 'MAA', 'COD.L', 'CYXO.ST', 'GHUS-B.ST', 'EXTR', 'ANH', 'STRL', 'SOU.L', 'EUXS.L', 'FAB.L', 'PSN.L', 'HBRL.L', 'INSW', 'VDCA.L', 'MANTEX.ST', 'UB0D.L', 'KOS.L', 'S100.L', 'BBIO', 'VUCP.L', 'CHGG', 'VVO.L', 'OVZON.ST', 'VECA.L', 'ICVT', 'PM', 'ATLO', 'FUL.L', 'MIBX.L', 'NTLG.L', 'HMCT.L', 'MMS.L', 'NXRT', 'FFWM', 'MU', 'IWV', 'INAA.L', 'TJX', 'LMS.L', 'TDW', 'ZBRA', 'ETFC', 'LVS', 'DEFA', 'IYY', 'VRS', 'GBP.L', 'AC', 'CATS', 'HLTH.L', 'IRWD', 'NBN', 'BLV.L', 'TI5G.L', 'AMZN', 'GRTS', 'TIPS.L', 'HTSC.L', 'DGIT.L', 'AON', 'STHE.L', '0HE5.L', '0MTK.L', 'SAFT', 'TRUE', 'VRP.L', 'SPTS', 'HEWA.L', 'GRA.L', 'AROC', 'FITB', 'INFL.L', 'LPLA.L', 'MIRI.L', 'PAYS', 'DLR', 'HBMD', 'EFX', 'GMAB.CO', 'VEL.L', 'FAN.L', 'NCYF.L', 'TGET.L', 'FXO', 'SPXE', 'XVTD.L', 'CCAU.L', 'GLUG.L', 'SR', 'JYSK.CO', 'CMPR', 'CMX.L', 'HR', 'ESTE', 'DUK', 'TPFG.L', 'AXDX', 'NANEXA.ST', 'DJEU.L', 'RDNT', 'CNNE', 'ZION', 'BBSI', 'DXJP.L', 'VDVA.L', 'GERN', 'KHC', 'OCI.L', 'TCI', 'QLC', 'OMC', 'GES', 'DD', 'TXRH', 'IQLT', 'IGWD.L', 'HVT', 'TAP', 'AFIN', 'IMGN', 'EGRG.L', 'RMDL.L', 'MGAM.L', 'PRTA', 'CHMI', 'MGY', 'SPSM', 'DOCU', 'PAC.L', 'XMMD.L', 'RUSV.L', 'TRG.ST', 'IEMG', 'STXB', 'SHV', 'GWB', 'D4T4.L', 'THAL.L', 'SSHY.L', 'HMAD.L', 'TTMI', 'PFGC', 'KZR', 'XSHC.L', 'AGGP.L', 'EVGBC', 'CVBF', 'LSUG.L', 'VTBR.L', 'INO', 'RODM', 'ASNA', 'FTEC', 'ALU.L', 'JLEN.L', 'SGC.L', 'DGRA.L', 'SMH', 'DNR', 'VEVEN.ST', 'JERE.L', 'SCP.L', 'SCA-B.ST', 'GENE.L', 'CUE', 'XDWH.L', 'EFA', 'RCP.L', 'UB06.L', 'VDXX.L', 'ALAG.L', 'ACA', 'BRSC.L', 'DBD', 'NAIT.L', 'AMN', 'ITRK.L', 'MBG', 'MBWM', 'SAFM', 'DHSD.L', 'EDGH.L', 'EVI', 'VALU', 'JSG.L', 'EVRG', 'VNH.L', 'IDFX.L', 'CC', 'TPOS.L', 'NINE', 'GBT', 'PICK', 'JMFP.L', 'IGIL.L', 'KOD', 'DEMD.L', 'MRO', 'RYE', 'CSP.L', 'SAVE', 'PETS.L', 'CSTL', 'SSA.L', 'JOUT', 'NEWCAP.CO', 'FUSD.L', 'LMMV.L', 'PGTI', 'BAH', 'SGLD.L', 'GNMA', 'MAB1.L', 'IEQD.L', 'ARCM.L', 'IBTE.L', 'RSA.L', 'BZH', 'CPB', 'CHGB.L', 'IUSE.L', 'ESGE.L', 'JSET.L', 'SHO', 'R4E.L', 'VFEM.L', 'MPE.L', 'PZN', 'SONC.L', 'TMPL.L', 'HHPD.L', 'DGN.L', 'KVHI', 'NDUS.L', 'VLX.L', 'RLJ', 'CDIS.L', 'RKMD.L', 'AXTI', 'SDY', 'LCJP.L', 'DES2.L', 'F', 'SBAC', 'BLDR', 'GENI.ST', 'QYLD', 'VEMT.L', 'XLY', 'UTMD', 'TTST.L', 'ESL.L', 'PDCO', 'LAUU.L', 'RPT', 'NESTE.HE', 'R2US.L', 'ISFU.L', 'UC65.L', 'ZAGG', 'SVRA', 'VOF.L', 'GOMX.ST', 'XYLD.L', 'BRID', 'XLBS.L', 'CS51.L', 'SUUS.L', 'AMSF', 'BMPG.L', 'ITRI', 'VFC', 'LBC', 'WMGI', 'GLE.L', 'DJCO', 'VWRL.L', 'SDRC.L', 'GAAA.L', 'UC14.L', 'CVCY', 'SDVP.L', 'CU71.L', 'LBAI', 'DFE', 'HLMA.L', 'FEUZ.L', 'TLRD', 'CAPE.L', 'VFEA.L', 'ENV', 'SUN.L', 'NTBR.L', 'ICF', 'OPB', 'SMRT.L', 'ACARIX-BTA.ST', 'UB69.L', 'CAL', 'SIVB', 'NTUS', 'DJMC.L', 'XSPD.L', 'VTR', 'BKF', 'SCHV', 'CARR', 'TCEG.L', 'GABR.CO', 'SAL.L', 'FBP', 'MGLN', 'MONSO.CO', 'BVA.L', 'FIBK', 'PRGO', 'HYD', 'S6EW.L', 'SEFA.L', 'EMVL.L', 'SWN', 'SRC.L', 'BMCH', 'BHLB', 'ISQE.L', 'IPKW', 'MOFG', 'MTW', 'ABG', 'GLDD', 'RPS.L', 'MINC', 'WFIN.L', 'VHVE.L', 'DISH.L', 'LEMSE.ST', 'CTRC', 'MBH.L', 'NVTA', 'CPJ1.L', 'EPRT', 'HVTA.L', 'RM', 'XDWD.L', 'RGO.L', 'FLXN', 'HYUD.L', '0MKA.L', 'NCMI', 'LGAG.L', 'MUT.L', 'PREM.L', 'CXSE', 'IDX', 'CFR', 'HRL', 'FIX', 'XDGU.L', 'FRGI', 'HWSL.L', 'EUMV', 'UKML.L', 'BE', 'BLX', 'STCM.L', 'IZAFE-TO-8-B.ST', 'OFLX', 'CDK', 'JDW.L', 'ATMP', 'ANIP', 'UTES', 'TSLA', 'AAXN', 'AIRG', 'SRI', 'MSI', 'NOG', 'ACLS', 'ORIT.L', 'MTVW.L', 'NBDD.L', 'XSCS.L', 'MONY.L', 'AIZ', 'HIDR.L', 'VAGU.L', 'YRCW', 'SG72.L', 'INF.L', '0DMM.L', 'SALL.L', 'TSI.L', 'IDTM.L', 'RARE', 'GXG', 'LLY', 'GKP.L', 'AEL', 'VGIT', 'TPIC', 'CABO', 'VCLT', 'TPR', 'RAT.L', 'VMID.L', 'CSP1.L', 'SBRA', 'OXH.L', 'GYLD-A.CO', 'HART.CO', 'LAUR.ST', 'KEYS.L', 'AJB.L', 'ACIA', 'CMO', 'ANXU.L', 'LMBS', 'EOS.ST', 'FSTA.L', 'BNKE.L', 'AYR', 'XKSD.L', 'PNRG', 'HIK.L', 'FPXI', 'MTB', 'COUK.L', 'CSHD.L', 'BGSF', 'LPG', 'PGC', 'LCJD.L', 'DCI.L', 'JUP.L', 'CARG', 'HZD.L', 'ABMD', 'SHOE.L', 'AMO.L', 'DAN', 'SBT', 'XD5E.L', 'LGIH', 'MAERSK-B.CO', 'RDI.L', 'SECARE.ST', 'MSED.L', 'SUK1.L', 'PROMO.ST', 'ISBC', 'PRPL', 'SOLG.L', 'CRMD', 'SDI.L', 'IJPU.L', 'SCSC', 'MRNS', 'MVR.L', 'ABR', 'CLBK', 'UIFS.L', 'XSFN.L', 'FUSP.L', 'IUQA.L', 'EVE.L', 'RENE.L', 'SGLP.L', 'FULC', 'POLX.L', 'TRG.L', 'DRV.L', 'NICO.ST', 'KOPY.ST', 'SUSD.L', 'PHC.L', 'IEER.L', 'GMS.L', 'PLP.L', 'IEAA.L', 'PNR', 'LYV', 'JPXU.L', 'MUL.L', '0MKY.L', 'GMRE', 'CHH', 'ITEC.L', 'JHMI', 'CFG', 'MATW', 'DHSP.L', 'ACBI', 'IUVL.L', 'IPXJ.L', 'PLMR', 'CTI.L', 'RUTH', 'STX.L', 'MINI.L', 'DMRC', 'SMTC.L', 'CSH.L', 'MAB.L', 'CNDX.L', 'VWCG.L', 'HFFG', 'FJET.L', 'XGLF.L', 'HCKT', 'SLAB', 'BCPT.L', '0GGH.L', 'XCEM', 'YOU.L', 'TIP5.L', 'LHX', 'JDT-BTA.ST', 'GRI', 'FCAP.L', 'EUSC.L', 'FIXX', 'CWI', 'IRCP.L', 'CMXC.L', 'ALBA.L', 'EMLP', 'WMAT.L', 'UB30.L', 'PTLA', 'CCJI.L', 'PSJ', 'INISS-B.ST', 'SMSN.L', 'HHI.L', 'ADTN', 'PBRT.L', 'LXP', 'PSRE.L', 'GNW', 'OFG', 'MHID.L', 'AXAS', 'IRSA.L', 'TILS.L', 'SPDW', 'MPC', 'PHNX.L', 'FRUC.L', 'FSFL.L', 'AZELIO.ST', 'XESC.L', 'PCB', 'NMCN.L', 'ULH', 'ACCO', 'RCH.L', 'PENN', 'SSTY.L', 'SXLF.L', 'IDEX', 'XSTC.L', 'BEZ.L', 'PPBI', 'SEQI.L', 'LSC.L', 'CSCO', 'GSEU', 'SMLV', 'PNL.L', 'EMAD.L', 'ESOFT.CO', 'MKC', 'RPLAN.ST', 'CACI', 'KDNC.L', 'EDIT', 'GTLS', 'HDIQ.L', 'CNP', 'BREI.L', 'AMC.L', 'MMSI', 'LOWV.L', 'BFC', 'CLI', 'SPXS.L', 'DTY.L', 'CEVA', 'ARCT.ST', 'AAPL', 'CASA', 'ITWN.L', 'AA4.L', 'CUK.L', 'COHU', 'ALZ.ST', 'VDNR.L', 'XDEQ.L', 'PFE', 'OKYO.L', 'XSDR.L', 'PRIME-PREF-B.ST', 'CNBKA', 'SOLAR-B.CO', 'FLTA.L', 'XDWF.L', 'HZO', 'NEXAM-TO-2.ST', 'COPL.L', 'APLE', 'IPE', 'BTEC.L', 'LCOC.L', 'IPOL.L', 'STE', 'ALAI.L', 'DX.L', 'LAND', 'XUSD.L', 'SGM.L', 'EFAV', 'IIPR', 'CLH', 'ISTR', 'NOKIA.HE', 'DECK', 'GGRP.L', 'ARDN.L', 'VHVG.L', 'MATAS.CO', 'DI', 'SSAC.L', 'VIAV', 'OMN', 'RIGL', 'STB.L', 'EPIQ.L', 'WPHO.L', 'ISWD.L', 'VBIV', 'DXGY.L', 'ESRG.L', 'FEDG.L', 'IEFV.L', 'XLCS.L', 'AEIS', 'ASPL.L', 'LITE', 'QNST', 'AEFS.L', 'SEGM.L', 'NWL', 'IKA.L', 'JEFI.L', 'CH5.L', 'ASAP.ST', 'BILN.L', 'RUBY', 'IHHG.L', 'LGUG.L', 'CLDR', 'EUDI.L', 'HRC.CO', 'IMB.L', 'IIND.L', 'CIO', 'KAN.ST', 'MPB', 'EXR', 'FOOT-B.ST', 'TFC', 'KMI', 'NMIH', 'XSSX.L', 'VPG', 'AN', 'GHT.L', 'AIF.L', 'DANT.CO', 'UNP', 'VNET.L', 'JUST.L', 'CE31.L', 'XLEP.L', 'KOP', 'ORLY', 'BVC.L', 'XCX3.L', 'GGEO.ST', 'BOCH', 'RESE', 'VLY', 'IDTW.L', 'COST', 'SCS', 'DOCG.L', 'AAL', 'NXR.L', 'TRET.L', 'FLWS', 'BMPI.L', 'SPRINT-TO-4.ST', 'XX25.L', 'PFBI', 'CWH', '3IN.L', 'CYTK', 'MIG5.L', 'LGCU.L', 'MGNT.L', 'DGTL.L', 'SXLP.L', 'FLK.L', 'AGF-B.CO', 'IDOGEN.ST', 'NG', 'XMMO', 'TCN.L', 'BRES.L', 'VERT-B.ST', 'WHI.L', 'BBC', 'FLUC.L', 'PTAL.L', 'EGL.L', 'SPGI', 'NBPP.L', 'XLVS.L', 'BNKS.L', 'SEDANA.ST', 'BLL', 'RDFN', 'ITGR', 'ESGG.L', 'SUAS.L', 'N400.L', 'XDAX.L', 'CMOTEC-B.ST', 'SCPA.L', 'ANG.L', 'SOIL.L', 'CORR', 'UC67.L', 'ICBU.L', 'VOD.L', 'WLDS.L', 'STRA', 'TRTN', 'GRIF', 'USHY.L', 'RJF', 'TREX.L', 'CORP.L', 'EDR.L', 'TEUM', 'IGLS.L', 'AUTO.L', 'TRAK.L', 'XBGG.L', 'MERC.L', 'BBUS.L', 'RDI', 'NFLX', 'MYFC.ST', 'HIDD.L', 'VDMV.L', 'TWNK', 'HMLA.L', 'SBEM.L', 'DVY', 'KCT.L', 'COCO.L', 'VECO', 'XCAD.L', 'ACSO.L', 'HDLV.L', 'FDIS', 'GDX', 'MLPD.L', 'UC04.L', 'SCHB', 'BKR', 'GENG.L', 'AROS-PREF.ST', 'EBQ.L', 'GATC.L', 'TXMD', 'IAK', 'BILB.L', 'XLPP.L', 'YGEN.L', 'LTHM', 'LGUK.L', 'SEGA.L', 'LEK.L', 'GYG.L', 'HDW-TO-2-B.ST', 'GXF', 'IBTG.L', 'CALA', 'MRW.L', 'GSHD', 'GLCN', 'GILD', 'TEM.L', 'BNZL.L', 'JSE.L', 'XD5S.L', 'JMBA.L', 'XDPG.L', 'UEM.L', 'JEO.L', 'ZAM.L', 'UPLD', 'PRCO-B.ST', 'TBPH', 'IRTC', 'FCSS.L', 'TSG.L', 'XSX6.L', 'PBP', 'DTLA.L', 'BRD.L', 'SONO', 'EURO.L', 'ICO.ST', 'KBAL', 'GABI.L', 'NR', 'SMBS.L', 'KRS.L', 'LYB', 'RIEG.L', 'MTOR', 'UAL', 'XSPR.L', 'PNN.L', 'TERRNT-TO1-B.ST', 'UPM.HE', 'NTR-B.CO', 'MOV', 'CTB', 'EMUD.L', 'RMTI', 'FLEXQ.ST', 'IMV.L', 'CHEF', 'PPA', 'HBNC', 'RL', 'TYMN.L', 'AVID', 'AIR.L', 'LDUR', 'UTG.ST', 'AMGN', 'US13.L', 'ISEQ.L', 'NORDIC.CO', 'MSFT', 'LCNY.L', 'XMAW.L', 'PMP.L', 'RBD.L', 'RUSHB', 'GBJP.L', 'XMED.L', 'SOLI.L', 'ERI', 'MRO.L', 'XOG', 'DXC', 'AWI', 'SCHW', 'PCFT.L', 'CHRT.L', 'IUFS.L', 'JZCZ.L', 'GNC.L', 'CARS', 'WJA.L', 'UB32.L', 'VKTX', 'SPEC.ST', 'TRI.L', 'LGUS.L', 'XGLD.L', 'DENN', 'SYBX', 'IQV', 'TPXU.L', 'WYN.L', 'MDRX', 'WK', 'TCOM', 'CGH.L', 'FBHS', 'ACWD.L', '0HEQ.L', 'WLH', 'GIN.L', 'CLGX', 'SYNT.L', 'LQDA.L', 'CTG.L', 'LNT', 'AIN', 'SPE.L', 'EPIE.L', 'CPT.L', 'GFRD.L', 'CCXI', 'PKOH', 'ALCA.ST', 'STRINV.CO', 'RLS.ST', 'XMTW.L', 'TURL.L', 'EVG.L', 'GYS.L', 'RAMP', 'RSW.L', 'UKMV.L', 'IBTS.L', 'FE', 'VSEC', 'NANO.L', 'VIAC', 'SPOK', 'OTV2.L', 'POL.L', 'MSAU.L', 'BCCU.L', 'UCBI', 'BDN', 'HIBB', 'FELE', 'OPPP.L', 'MRC.L', 'MCHI', 'NKSH', 'IPHI', 'ZTS', 'TT', 'AFG', 'IHG.L', 'SJW', 'DIM', 'PRIME-PREF-C.ST', 'XSER.L', 'WOW', 'HNGR', 'FT1K.L', 'GNTY', 'SHYU.L', 'SPI.L', 'CPX.L', 'APPN', 'BXP', 'ASDV.L', 'ICPT', 'SBRE.L', 'FWRD', 'AERI.L', 'STENO.CO', 'NEXT', 'IEAC.L', 'CUS1.L', 'QUID.L', 'DGRW.L', 'PRTY', 'SCF.L', 'FAIG.L', 'FTLS', 'TFG.L', 'AHH', 'LGEN.L', 'TSCO.L', 'MLPP.L', 'IUCB.L', 'BAG.L', 'IBMH', 'EVH', 'UB20.L', 'ASH', 'RAV.L', 'SEE.L', 'CB', 'FP.L', 'BECN', 'SAV.L', 'DDLS', 'RWK', 'CGEO.L', 'XSOE', 'DFCH.L', 'IWN', 'VSLR', 'TINM.L', 'INHC.L', 'BRH.L', 'KAP.L', 'TACO', 'EWI.L', 'GNC', 'WRES.L', 'CWST', 'WESC.ST', 'ESPO.L', 'III', 'ROCK', 'PQG', 'MLI', 'BBY.L', 'WIFI', 'HCC', 'IMSU.L', 'REZ', 'SDRY.L', 'FCCN.L', 'EVBN', 'ORBC', 'SFST', 'EFID.L', 'SUAG.L', 'CATL.L', 'ESGS.L', 'MBUU', 'JYNT', 'HDW-B.ST', 'BOOT.L', 'III.L', 'GTYH', 'FTA', 'COFF.L', 'JREB.L', 'RESP', 'BSX', 'OMXS.L', 'RR.L', 'XUEN.L', 'APTD.L', 'CCEP.L', 'SNGA.L', 'HYHG', 'EHEF.L', 'GBCH.L', 'BPOP', 'BKM.L', 'NKT.CO', 'VRSN', 'LQDT', 'EXPR', 'DNL.L', 'FFBC', 'VT', 'MTUM', 'SHW', 'HEIM-PREF.ST', 'WMW', 'CRC', 'STHS.L', 'LAD', 'MNST', 'SAVOS-TO7.ST', 'SXS.L', 'INN', 'FCN', 'AINO.ST', 'EMR.L', 'MCHP', 'NUM.L', 'IPI', 'DIA.L', 'ACT.L', 'SHB.L', 'NWFL', 'IDJG.L', 'XLKQ.L', 'LIV.L', 'CMCX.L', 'BLFS', 'PTY.L', 'FOX', 'IGP.L', 'MRTX', 'LME.L', 'IBC1.L', 'POWI', 'DE', 'ATO', 'CI-B.ST', 'XEOU.L', 'JHD.L', 'PIER.L', 'QUAL', 'AMAST.ST', 'VLU', 'RESI', 'UKCO.L', 'EBOX.L', 'ARK.L', 'HAS.L', 'KALU', 'IEF', 'EIGR', 'SOI', 'OXM', 'DLS', 'PHTM.L', 'FNCB', 'ATRI', 'MXWS.L', 'NRG', 'LXI.L', 'ARCT', 'RMDZ.L', 'MLP', 'FDNU.L', 'DLTR', 'SMP', 'IRET', 'UC94.L', 'THRU.L', 'FDP', 'WTE.L', 'YETI', 'FGQP.L', 'IBM.L', 'JUKG.L', 'XLYP.L', 'BIOPOR.CO', 'JPEA.L', 'BJRI', 'ETH', 'OKEY.L', 'GBL', 'SPSY.L', 'STML', 'ONEV', 'GHYG.L', 'FCH.L', 'OPP.L', 'OSB.L', 'MYSL.L', 'COMBI.ST', 'USLM', 'UC98.L', 'RUSL.L', 'RHS', 'PAY.L', 'GLTS.L', 'CHKP', 'AKTS', 'MVEU.L', 'BRG', 'BCOR', 'SUS.ST', 'APTV', 'SLV', 'DOL', 'IVPB.L', 'BERY', 'LBUL.L', 'HMEM.L', 'SPYB', 'NJXE.L', 'USTY.L', 'PNDORA.CO', 'NSA', 'MOO', 'PRA', 'LEE', 'KREF', 'PRV.L', 'CMB.L', 'FSCT', 'CHE', 'THR.L', 'FAGR.L', 'SMS.L', 'GME', 'ICHR', 'TDOC', 'LQQ3.L', 'TIF', 'UKSR.L', 'RMS.L', 'LCAN.L', 'RQIH.L', 'D467.L', 'SSON.L', 'UDVD.L', 'TGI', 'RTM', 'EWW', 'FOXF', 'FMNB', 'CRPA.L', 'PBI', 'ARW', 'TUSK', 'VDET.L', 'VMVL.L', 'LEAF', 'SPDI.L', 'CALM', 'TYM.L', 'DDD', 'VHT', 'IMIB.L', 'KEBNI-B.ST', 'WING', 'ORC', 'WCOD.L', 'ORCP.L', 'AGX', 'DHR', 'UC86.L', 'HANA.L', 'VOLT.L', 'VDPX.L', 'BOR.L', 'VDTK.L', 'AIGA.L', '0E5A.L', 'OAP3.L', 'CNOB', 'UDR', 'VHYD.L', 'AMRX', 'USEF.L', 'AGK.L', 'XLNX', 'CLL.L', 'USAU.L', 'MGGT.L', 'SYY', 'TMO.L', 'GOOD', 'BIG', 'STIM', 'SCHN', 'WATR.L', 'CAT', 'IHC', 'CTRN', 'MMC', 'EES', 'NERV', 'HBI', 'FLS.CO', 'FGQD.L', 'IGSU.L', 'IPRV.L', 'UKDV.L', 'IDP6.L', 'SRCE', 'DCO', 'DAC.CO', 'GHYS.L', 'TLY.L', 'CUTR', 'ALE', 'IDU', 'HMUD.L', 'CZA', 'USNA', 'ADVE.ST', 'NICK.L', 'EMID.L', 'FLEXM.ST', 'CLNE', 'GEDM.L', 'EIDX', 'MFSF', '0HD9.L', 'DXJ.L', 'RTX', 'RILBA.CO', 'HMAF.L', 'NGVC', 'HMEU.L', 'TM17.L', 'CW8U.L', 'COLL', 'BH', 'CSSG.L', 'UBTP.L', 'IAG.L', 'SYKE', 'MOAT', 'RXN', 'SPGP', 'BPYU', 'PLCE', 'IDHC.L', 'DKE.L', 'DOXA.ST', 'SIMRIS-TO2B.ST', 'SGQP.L', 'SP5G.L', 'SIMRIS-TO3B.ST', 'XSLV', 'PSHD.L', 'UOG.L', 'WLTW', 'AGM', 'SLE.L', 'CHG.L', 'JNEO.L', 'BOKF', 'TRS', 'RLE.L', 'GEEC.L', 'KPTI', 'INRL.L', 'GFA.L', 'IPX.L', 'YORW', 'CALX', 'CEIX', 'AQUA', 'CRUD.L', 'FOCS', 'PHAU.L', 'TNDM', 'LCWD.L', 'GUN.L', 'CMCL.L', 'SPAL.L', 'UVV', 'PHEF.L', 'HMSG.L', 'TROW', 'OBNK', 'PRIJ.L', 'PRIM', 'DIOD', 'MXL', 'FLR', 'IDXX', 'PEB', 'PUS3.L', 'VEN.L', 'ADM.L', 'IUMO.L', 'ISF.L', 'RKH.L', 'FLXD.L', '0E5Y.L', 'GAL.L', 'RIOU.L', 'WEN.L', 'TRIAN-B.ST', 'MNO.L', 'MTZ', 'ERNS.L', 'TLT', 'ZOL.L', 'SYBT', '2CUREX.ST', 'MSF2.L', 'MTXX.L', 'GRC.L', 'ORCH.L', 'LSPX.L', 'GVP.L', 'ENALYZ.CO', 'asdlkma', 'BCEI', 'SWDA.L', 'WATURU.CO', 'NBI.L', 'IWVU.L', 'WMB', 'TMUS', 'MIN.L', 'PHLOG-TO1-B.ST', 'SIGA', 'RCII', 'JCAP', 'DIA', '^GDAXI', 'MEIP', 'GLNG', 'RBTX.L', 'WAT', 'GFM.L', 'MET', 'GREAT.ST', 'FSS', 'SLI.L', 'UCAP.L', 'MGM', 'HTG.L', 'PRVL', 'KBWP', 'VUSC.L', 'LQDA', 'VIG', 'IBM', 'CIEN', 'SPY5.L', 'FLOT.L', 'GILS.L', 'HBRN.L', 'LCPE.L', 'UB0F.L', 'SG91.L', 'EUP5.L', 'CNKY.L', 'FI', 'IVACC.ST', 'CASY', 'PDD', 'INVAJO-TO1.ST', 'MNDI.L', 'ARVN', 'K', 'TAST.L', 'TOK', 'TECD', 'PVCS.L', 'JNK', 'XMLD.L', 'WEB.L', 'OCX', 'PHR', 'AXL', 'LMAT', 'SAUS.L', 'ROV.CO', 'BMV.L', 'PSR', 'XMJG.L', 'GCP.L', 'REV', 'UL3S.L', 'RMG.L', 'SSXF.L', 'LNDC', 'NPK', 'CTSH', 'CINF', 'SF', 'SCJ', 'GINC.L', 'XDJP.L', 'LOLB.CO', 'LDSG.L', 'DDM.ST', 'BGSC.L', 'GDWN.L', 'AROW', 'TRWH', 'WABC', 'VLUE', 'AMC', 'CHR.CO', 'CRPU.L', 'DBI', 'FVCB', 'URGB.L', 'SPHY', 'INPP.L', 'RESI.L', 'ANNX.ST', 'IYM', 'USGB.L', 'AEO.L', 'LUN.CO', 'WSP.L', 'BLMN', 'FALN', 'SEIT.L', 'SGBS.L', 'SRRK', 'MOAT.L', 'POL', 'SSB', 'ARS.L', 'IWB', 'POLYG.ST', 'MA', 'PNTG', 'TAVI.L', 'KDMN', 'EQN.L', 'IHC.L', 'GPC', 'ZYNE', 'CTO.L', 'SMSD.L', 'LKOH.L', 'IIN', 'SM', 'MLN', 'DBAW', 'GIF.L', 'SPVU', 'PHE.L', 'ALLE', 'AMH', 'IEX', 'APYX', 'NVD2.L', 'PRES.L', 'CCS.L', 'ISDW.L', 'FIF.L', 'ZUMZ', 'AHT.L', 'UNB', 'IYF', 'CE', 'MCRO.L', 'HWWA.L', 'RWL', 'ALQD.L', 'FTSV.L', 'HON.L', 'QXT.L', 'FCRU.L', 'DEMV.L', 'STOK', 'VPU', 'SBUL.L', 'IBGX.L', 'FDN', 'HWDN.L', 'PEBK', 'ATNI', 'USIG.L', 'UTLF.L', 'SALT-B.ST', 'TAN.L', 'JKG', 'PGHZ.L', 'ECO.L', 'HFC', 'KRE.CO', 'GHH.L', 'UGAS.L', 'FNDB', 'IRBT', 'SUPN', 'OVBC', 'AEGN', 'CMLS', 'FEUD.L', 'XSDX.L', 'PUMP', 'ELOX', 'LIVN', 'XRX', 'VNRT.L', 'PLAZ.L', 'LASP.CO', 'SOXX', 'KTB', 'PFIS', 'NBZ.ST', 'WOOD.L', 'EMAN.L', 'XNIF.L', 'NEO', 'ANW.L', 'TAO', 'PGIT.L', 'CBU', 'LDOS', 'FB', 'SAR.L', 'VLGEA', 'MSI.L', 'HAFC', 'CUBI', 'VAGS.L', 'KAT.L', 'CGVD.L', 'CNC', 'XPLA.L', 'S250.L', 'TCRR', 'NTEA.L', 'DWM', 'CRL.L', 'IDTK.L', 'NOVO-B.CO', 'EBF', 'MCT.L', 'PRSM.L', 'RBBN', 'MNRL', 'XDEW.L', 'CLEMO.ST', 'MHO', 'OPRX', 'DCC.L', 'UC55.L', 'ISEU.L', 'SHBI', 'CACX.L', 'JDAN.CO', 'XMAS.L', 'PTEC.L', 'FRGD.L', 'PCEF', 'MDY', 'METC', 'PEI', 'LNGA.L', 'GD', 'HWM', 'CCS', 'IDTG.L', 'MXIM', 'USWS', 'TNOW.L', 'CHRW', 'JCP', 'SCHP', 'FASTPC.CO', 'INL.L', 'KR', 'LSE.L', 'IGLO.L', 'SHB-A.ST', 'CTRE', 'EEX', 'IVAL', 'HBB', 'FBMS', 'ERN1.L', 'MLPX.L', 'AMZ2.L', 'DELARK.ST', 'XZEM.L', 'EMGA.L', 'PHI.L', 'VMOM.L', 'IKSA.L', 'WMH.L', 'XS7R.L', 'STIL.ST', 'EMCR.L', 'X7PS.L', 'RCN.L', 'LQDE.L', 'UFO.L', 'REPH', 'LKOD.L', 'XLM.L', 'SPA.L', 'LCNB', 'JCH.L', 'WG.L', 'STRS', 'BRY', 'ADES', 'IUVF.L', 'FRUE.L', 'LFI.L', 'ICGT.L', 'ARI', 'CONF.ST', 'ASTO.L', 'CNDT', 'EEWG.L', 'IDFF.L', 'BUBL.ST', 'TEN', 'CERS', 'HPAC.L', 'BC', 'CVTI', 'CE9U.L', 'LL', 'CSN.L', 'TSWE.L', 'DVO.L', 'URTH', 'CYAN.L', 'ISPY.L', 'CMTL', 'MAXR', 'KBR', 'XSFD.L', 'INOV', 'POLR.L', 'RAVC.L', 'BRFI.L', 'LCII', 'QQQ', 'UC63.L', 'MISE.ST', 'MRKR', 'SMMV', 'UDG.L', 'CMCO', 'IUGA.L', 'EBS', 'WNC', 'AGS', 'INTC', 'UFPI', 'HAWX', 'BYD', 'WY', 'TR3G.L', 'LAUS.L', 'FRAM-B.ST', 'FLO.L', 'FAHY.L', 'MTD', 'COP', 'SALT-TO6-B.ST', 'AMRS', 'CMI', 'KEY', 'FBC', 'GLO.L', 'XMEX.L', 'HLNE', 'TGTX', 'STAW.L', 'GFF', 'CARA', 'AUB', 'SDEU.L', 'BIL', 'CCF', 'JPNU.L', 'MCL.L', 'CEA1.L', 'SCHE', 'BKU', 'WSBN.L', 'XMRD.L', 'KRO', 'HMSY', 'TRU.L', 'CENX', 'BSV.L', 'URU.L', 'RSG.L', 'HLX', 'IVOV', 'CBND.L', 'SALB.CO', 'EEM', 'CVI', 'ENSG', 'AJRD', 'SND', 'JMBE.L', 'LEN', 'IBGL.L', 'TBBK', 'PG', 'ABT', 'TPOU.L', 'CRCM', 'RDN', 'MOD', 'LAGR.L', 'IVZ', 'TPRE', 'KRYS', 'JGC.L', 'STJ.L', 'FGD', 'HYFA.L', 'QDYN', 'CLIME-B.ST', 'SG50.L', 'GPMT', 'PLAB', '0MKK.L', 'ALS.L', 'JPXG.L', 'LIND', 'DGRG.L', 'UMH', 'CGT.L', 'ANGL', 'TFW.L', 'NWLI', 'XZEU.L', 'BLK', 'BTEK.L', 'BV', 'UB00.L', 'GNS.L', 'RDW.L', 'UAV.L', 'URI', 'OMIP.L', 'MELI', 'LEDIBOND.CO', 'SAM', 'PCAR', 'USML.L', 'MIGA-B.CO', 'PFNX', 'CUKX.L', 'NCBS', 'BONAS.ST', 'SG21.L', 'MINEST-TO3.ST', 'RISE.L', 'SGLN.L', 'MTRX', 'DLX', 'PSL', 'TRY.L', 'FCRM.L', 'STCK.L', 'MNTA', 'PIMT.L', 'CLAR', 'RCOI.L', 'NORTHM.CO', 'UBA', 'EMGU.L', 'EGLE', 'NETW.L', 'BDEV.L', 'MAERSK-A.CO', 'TRCS.L', 'RRBI', 'VEGI', 'DFJ.L', 'JPS.L', 'BLVN.L', 'SGI.L', 'SCIB.ST', 'POR', 'PBYI', 'PGOO.L', 'GOVP.L', 'PSRW.L', 'COMT', 'XSEN.L', 'YEXT', 'IBOC', 'HSY', 'EUE.L', 'SSTI', 'ELVT', 'AI', 'RAKE.ST', 'CATY', 'PRTK', 'OVLY', 'ILMN', 'RRE.L', 'INX.L', 'VX5E.L', 'FERRO.ST', 'PXD', 'NODK', 'TWD.L', 'SRE.L', 'DRIP.L', 'ZEN.L', 'VNDA', 'FISV', 'RBCAA', 'GSIE', 'AUTG.L', 'GRIO.L', 'MIG1.L', 'SEY.L', 'APRE', 'OTTR', 'FOLD', 'TWST', 'SG42.L', 'LANC', 'CAPC.L', 'PRFZ', 'EQBK', 'VFEG.L', 'NRIM', 'SUH.L', 'MUB', 'PVAC', 'JPNY.L', 'CLIN.L', 'OMI', 'XAXJ.L', 'SERE.L', 'VUG', 'AVT-B.ST', 'BRIG.ST', 'ERMA.ST', 'MPO.L', 'AA.L', 'STVG.L', 'YNGA.L', 'ANAT', 'TRNO', 'MCFT', 'DCPH', 'DGSE.L', 'SXT', 'PSH.L', 'ASC', 'BCRX', 'NAS.L', 'LOIL.L', 'BILL', 'SIRI', 'HQY', 'EVC', 'FPRX', 'DGRO', 'MNG.L', 'CUSS.L', 'JEMI.L', 'CI', 'CENTA', 'NVEE', 'FARN.L', 'HIFA-B.ST', 'GOEX', 'IUIT.L', 'LCCN.L', 'WVE', 'HMSO.L', 'CKH', 'THR', 'GNMK', 'CLSU.L', 'MOBL', 'SOS.L', 'ASUR', 'UBX', 'MXFP.L', 'CTSO', 'SPXV', 'PQVG.L', 'IDLV', 'SLXX.L', 'LCWL.L', 'FCFS', 'AEC.ST', 'SMB', 'XUT3.L', 'DLA', 'BCBP', 'BHVN', 'STOB.L', 'ATT.L', 'EUHD.L', 'NTAP', 'SMIN', 'NIO.ST', 'AMD', 'IGM', 'XTR.L', 'SGQX.L', 'FN', 'L', 'MXWO.L', 'VILX.L', 'AVD', 'PDCE', 'RTWO.L', 'FSKY.L', 'ASPU', 'GUARD.ST', 'FLNT', 'XCS3.L', 'PRF.L', 'SEMC.L', 'CNO', 'CMRX', 'HYZD', 'DWHA.L', 'TEL2-B.ST', 'LBRT', 'HA', 'BNORDIK-CSE.CO', 'ECL', 'EMIH', 'ARDX', 'EMIL.L', 'PFD.L', 'CSX5.L', 'UUUU', 'IUKD.L', 'AFL', 'DXJZ.L', 'ALEX', 'HEFT.L', 'MANG.ST', 'WELL', 'ORGO', 'TIPT', 'VERX.L', 'DHS.L', 'ABF.L', 'HUM.L', 'GENC', 'XDNG.L', 'NCC.L', 'MATW.L', 'INDV.L', 'CC1G.L', 'CZN.L', 'AAEV.L', 'BLOK.L', 'LYKO-A.ST', 'MIGO.L', 'OSEC.L', 'OSW', 'VTY.L', 'NDIA.L', 'SEB-A.ST', 'LPX', 'EBIX', 'SYM.L', 'AVCT.L', 'PDBC', 'XAR.L', 'FFARMS.CO', 'MOBA.ST', 'SG87.L', 'ESSITY-B.ST', 'AVRO', 'SYK', 'VEN2.L', 'OTIS', 'AEG.L', 'FBZ', 'WIAU.L', 'WATT', 'CMP', 'RDSA.L', 'PAGE.L', 'BANR', 'XSD2.L', 'SP5C.L', 'FVUB.L', 'MGRC', 'VTU.L', 'AES', 'CIBUS.ST', 'JMI.L', 'SAVOS-TO5.ST', 'SIC', 'SUJS.L', 'GTN', 'APAX.L', 'PCAT.ST', 'CZNC', 'INCOAX-BTA.ST', 'MSON', 'BPET.L', 'OMCL', 'DEL2.L', 'IAU', 'SPEQT.ST', 'PHSP.L', 'MCLS.L', 'HAYN', 'BDSI', 'MLHR', 'IE15.L', 'TELE.L', 'DBEZ', 'XHR', 'ORGC.ST', 'CFX', 'SKMD.L', 'ARE', 'XUHY.L', 'UCFC', 'TFRN.L', 'PLT', 'XDW0.L', 'GRG.L', 'PNM', 'ITIC', 'IVC', 'FLTR', 'FCIT.L', 'SLA.L', 'MINI', 'SAVE.L', 'FCEL', 'ABM', 'VAW', 'UHYG.L', 'CLP.L', 'TIPU.L', 'MXUS.L', 'IVOO', 'ARLO', 'MCK', 'TTGT', 'ECOWVE.ST', 'QCRH', 'ALB', 'NGHC', 'MACK-B.ST', 'FUL', 'ZBH', 'MAR', 'G4M.L', 'IR', 'BUOY.L', 'CME', 'PFP.L', 'GGOV.L', 'ULE.L', 'MTH', 'LKSD', 'WGB.L', 'IUKP.L', 'AYX', 'IMXI', 'ED', 'FPO.L', 'JCI', 'HUM', 'TBI', 'LESW.L', 'JPEI.L', 'AYIMA-B.ST', 'RST', 'XDNS.L', 'RMAX', 'PSCU', 'SPDM.L', 'PEP', 'DISH', 'VEUA.L', 'FDM.L', 'AAL.L', 'SLITE.ST', 'IRMD', 'TBIO', 'CDAY', 'NSF.L', 'SGQL.L', 'PEN.L', 'MOTI', '0E0X.L', 'ARC.L', 'CSB', 'WU', 'CDMO', 'TCT.ST', 'BFIN', 'GBUR.L', 'BOTX-TO1.ST', 'VDE', 'IOO', 'UBTL.L', 'CYRX', 'HCCI', 'NL', 'SAAA.L', 'PWOD', 'GTHX', 'ECHO', 'MMM.L', 'KLAR.ST', 'SPEC.L', 'WETF', 'HRUB.L', 'SPAP.L', 'SEZI.ST', 'EGOV', 'IVV', 'UINC.L', 'INCY', 'SMTC', 'GRLA.CO', 'ELLE.L', 'ICON.L', 'FOXA', 'MXUK.L', 'HLT', 'NTOG.L', 'LIT', 'HTWN.L', 'SHEN', 'BCML', 'WQDV.L', 'INFR.L', 'CENT', 'ARNC', 'CSRU.L', 'UC82.L', 'TLYS', 'IJH', 'PRF', 'UB82.L', 'FLXX.L', 'ESYS.L', 'GEC.L', 'IUMS.L', 'HEDP.L', 'IEMB.L', 'ATVEXA-B.ST', 'MS', 'IWP', 'GLYC', 'SSP', 'GLD', 'ODT', 'EMV.L', 'TIPA.L', 'PGR.L', 'WTI', 'DIAH.ST', 'ACP.L', 'WRTC', 'BBOX.L', 'AOBC', 'TMG.L', 'PLUN.ST', 'EZJ.L', 'ONEQ', 'PCH', 'BOX', 'VHYL.L', 'GLUU', 'HFXJ', 'KMB', 'XSNR.L', 'RTX.CO', 'MLPX', 'AVAP.L', 'NANOFH.ST', 'SCNY.L', 'TATE.L', '54GW.L', 'XUKS.L', 'HGT.L', 'PDL.L', 'DSSI', 'QTRX', 'HSV.L', 'UFLT.L', 'RAVN', 'PRIZ.L', 'NCYT.L', 'USFP.L', 'HM-B.ST', 'XSG.L', 'ELOW.L', 'HMWD.L', 'NAK.L', 'SPXC', 'DJUR.CO', 'GDOT', 'REAT.L', 'NEX.L', 'GRC', 'FRTA', 'SKF-B.ST', 'CIND.L', 'OEX.L', 'TIFS.L', 'COMF.L', 'AIRE.L', 'RRGB', 'BURL', 'VTA.L', 'VRCA', 'IFSE.L', 'XBI', 'OAS', 'HT', 'STFC', 'JPEE.L', 'XLF', 'STG.CO', 'CBOE', 'AEXG.L', 'BHF', 'ATH', 'CBL', 'ATEX', 'RRR', 'TRMR.L', 'GCL.L', 'ESQ', 'ROLG.L', 'AFM.L', 'IQAI.L', 'LCUD.L', 'RYAM', 'WSL.L', 'DDWM', 'VONG', 'HSTM', 'FTNT', 'WTRH', 'PLUG', 'NSSC', 'IOGP.L', 'VSL.L', 'ARO.L', 'JCOM', 'ACID.L', 'SPPC.L', 'VEC', 'PEB.L', 'SJI', 'DIS', 'MNRG.L', 'MEET', 'CACC', 'PEMD.L', 'ALGT', 'UC90.L', 'AXOLOT.ST', 'ERNU.L', 'PCELL.ST', 'CTXS', 'IMMO.L', 'LMT', 'KFRC', 'ASHM.L', 'AOUT', 'NETC.CO', 'SNPS', 'SDG', 'BXP.L', 'PXI', 'FEXU.L', 'DVYE', 'SGGD.L', 'HMSA.L', 'BRLA.L', 'PUS5.L', 'TK', 'L6EW.L', 'ORR.L', 'FLXB.L', 'PDZ.L', 'NRR.L', 'EDG2.L', 'HEDJ.L', 'ZZ-B.ST', 'IITU.L', 'WTBA', 'BIM.ST', 'GMAA.L', 'OBC.L', 'BIOVIC-B.ST', 'AADV.L', 'RSGL.L', 'VRAY', 'WCLD.L', 'UESG.L', 'LID.L', 'DJSC.L', 'NVTK.L', 'XLG', 'RVNU', 'ATI', 'MBIL.L', 'JPSA.L', 'AVEN.ST', 'DIS.L', 'ITM.L', 'CCBO.L', 'QLD', 'MSMN.L', 'WATL.L', 'MOTR.L', 'IGEA.L', 'UFCS', 'PUIP.L', 'TXN', 'VRTV', 'THRG.L', 'XLIS.L', 'AMP', 'HRN.L', 'LLPD.L', 'UKR.L', 'AUR.ST', 'SPVM', 'PET.L', 'FXH', 'JPFM.L', 'CECE', 'PFBC', 'CWB', 'WUKD.L', 'URBIT.ST', 'ASIX', 'SSLN.L', 'PSA', 'RDUS', 'HAE', 'DMTR.L', 'BOOT', 'GSK.L', 'ATRO', 'PHGP.L', 'CSTR', 'MR', 'BCO', 'KRPZ.L', 'LGOV.L', 'S32.L', 'EZA', 'VEVE.L', 'USDV.L', 'DLN.L', 'IPEL.L', 'NTQ.L', 'LSAA.L', 'ACOR', 'LAND.L', 'LZB', 'HSCZ', 'RMM.L', 'CNIC.L', 'BRBR', 'FTF.L', 'NEAR', 'RWT', 'ETN', 'GBRE.L', 'MANTEX-TO4.ST', 'SENS.L', 'HST', 'IPRP.L', 'EQGB.L', 'KMK.L', 'VJPA.L', 'PRD.L', 'SEMA.L', 'LOK.L', 'AOSL', 'USB', 'TCFC', 'KURA', 'HMST', 'AMEH', 'CPXJ.L', 'SIGC.L', 'I3E.L', 'GLTA.L', 'VAC', 'BNDX', 'CTEC.L', 'INSP', 'SLP', 'GIII', 'ZYT.L', 'TOM.L', 'AAZ.L', 'KIT.L', 'CPHCAP-ST.CO', 'IMPC.ST', 'VREX', 'WWW', 'KEFI.L', 'JMG.L', 'ATA-SDB.ST', 'IVW', 'HMBR.L', 'CRPS.L', 'EMIN.L', 'APH', 'ULS.L', 'CJPU.L', 'NTRS', 'NAV', 'FEMU.L', 'SIR.L', 'DESD.L', 'ABD.L', 'CIC.L', 'WINA', 'XBIT', 'ROK', 'SWED-A.ST', 'BKS.L', 'ESGU', 'VDTY.L', 'HEDF.L', 'UVE', 'EEXF.L', 'CRAL.L', 'DWPP', 'MIRA.L', 'HSL.L', 'RMR', 'HTLD', 'VETY.L', 'HTBK', 'IDP.L', 'XMR.ST', 'GRI.L', 'YELP', 'BATT.L', 'W7L.L', 'KAMBI.ST', 'DHT', 'SCIN.L', 'RCDO.L', 'WAYS.ST', 'RAD', 'HEGR.ST', 'EML.L', 'PGH.L', 'CMD', 'WBI.L', 'CE.ST', 'BANF', 'LGJG.L', 'AGY.L', 'FRISQ.ST', 'DLAR.L', 'LOVE', 'USAG.L', 'EE', 'CAR', 'SLYV', 'BPRN', 'SPLK', 'CCK', 'SITE', 'MLAB', 'AMKR', 'INSP.L', 'IMMR', 'CMH.L', 'INSE', 'BNFT', 'GLOBAL.ST', 'IDKO.L', 'FOUR.L', 'RF', 'RDVY', 'AAVC.L', 'DGICA', 'NTLA', 'IGSG.L', 'HSPX', 'BRT', 'WPP.L', 'CLNC', 'DTIL', 'ACRI.ST', 'WELL.L', 'VTC.L', 'SMHI', 'GCVB.L', 'MAS', 'DANSKE.CO', 'LVGO', 'GLTY.L', 'IVI.L', 'NSH.L', 'FIS', 'EWD', 'SNG.L', 'EGRW.L', 'ARD', 'PBLT.L', 'AGEN', 'NX', 'YEW.L', 'S600.L', 'OV-TO-2.ST', 'IBZL.L', 'CP9U.L', 'QDF', 'CW8G.L', 'OEF', 'MOS.L', 'PHAG.L', 'GLAU.L', 'CSV', 'SKYP.L', 'ASML', 'IGV.L', 'VFH', 'FRPT', 'HMCD.L', 'GTO', 'CBUG.L', 'ENTA', 'SVMK', 'KELYA', 'BGCP', 'WAFD', 'MAFL.L', 'MDT', 'PYZ', 'GLOG', 'GFS.L', 'GDEN', 'JPSU.L', 'OPI', 'BGEO.L', 'CWEN', 'EROS', 'AMBC', 'HIG', 'BINERO.ST', 'XOM', 'IDH.L', 'CAG', 'JOUL.L', 'FLT', 'BIGT.L', 'ERNA.L', 'ADVBOX.ST', 'ASC.L', 'IEML.L', 'VDTA.L', 'IWG.L', 'WRE', 'TNK', 'FEM.L', 'EQAL', 'HWG.L', 'SFIX', 'SAUM.L', 'SPKSJF.CO', 'VETA.L', 'SOI.L', 'ACTG', 'CHCT', 'NWS', 'AGM.L', 'XGSD.L', 'HOOK', 'ADT', 'VG', 'CPSI', 'REXR', 'EAT', 'IPF.L', 'HMCH.L', '0MWI.L', 'APQ.L', 'MGK', 'PLUS', 'GORO', 'YLCO', 'EMB', 'AKRX', 'FNCL.L', 'GBSS.L', 'HSX.L', 'BHR', 'NDLS', 'FAR.L', 'SDRL', 'MYL', 'DCTA.L', 'ESE', 'RMBS', 'RIGS', 'IWFV.L', 'BKG.L', 'XZMU.L', 'STHY.L', 'HDD.L', 'STZ', 'XUHC.L', 'ADME.L', 'IMID.L', 'WSC', 'CLW', 'SBIZ.L', 'ORSTED.CO', 'DRNA', 'WCOB.L', 'TWTR', 'WSBC', 'WDAY', 'HCI', 'VIXL.L', 'GPN', 'GPM.L', 'UBSI', 'BARC.L', 'FARO', 'FTK', 'AFC.L', 'JGST.L', 'AME', 'ESCA', 'XASX.L', 'SCL', 'ENERS.ST', 'BFAM', 'BMD.L', 'ASB', 'ODX.L', 'PROS', 'SSLV.L', 'VIRO.CO', 'IPAR', 'CBM.CO', 'CSH2.L', 'VRA', 'GSS.L', 'GETB.L', 'INBK', 'PRP.L', 'IWD', 'JKJ', 'NLOK', 'MG', 'SSD', 'XKS2.L', 'VRPS.L', 'PLZA.L', 'CU1.L', 'RNK.L', 'VDUC.L', 'XZW0.L', 'VTWO', 'XMLV', 'BAC', 'LCFE.L', 'PHPT.L', 'QTEC', 'HY', 'AAP2.L', 'ASRT', 'PJT', 'QAIR.ST', 'EPIC.L', 'BBSN.L', 'AZPN', 'STP.L', 'HYXE', 'DFEA.L', 'UPVL.L', 'AEGIR-TO1.ST', 'PHM', 'STC', 'IBST.L', 'ADSW', 'AXS', 'GPSA.L', 'FIH.L', 'DO', 'JPE.L', 'ITEK.L', 'FOR', 'T', 'XDWT.L', 'AGCO', 'COHR', 'LQDG.L', 'XLK', 'EMCP.L', 'FB2.L', 'TNET', 'DSV.CO', 'JDG.L', 'WTRE', 'BTU', 'ELSA.L', 'TANGI.ST', 'JCGI.L', 'DEMANT.CO', 'SLDB', 'EMSA.L', 'BPMC', 'TESS', 'DIVIO-B.ST', 'GACA.L', 'UTLH.L', '0HFI.L', 'SOLO.L', 'CLDT', 'CRNO.L', 'BXC', 'ADM', 'FJV.L', 'ESRU.L', 'TG', 'WJG.L', 'OPTI.L', 'SPEC-TO4.ST', 'SUPR.L', 'PKBK', 'UVAL.L', 'VTWV', 'EXT', 'TZOO', 'MNZS.L', 'SIMRIS-B.ST', 'PCSB', 'EZM', 'SPFI', 'FLIR', 'BCC', 'IYR', 'WIZZ.L', 'DGRW', 'PHOR.L', 'UTL.L', 'EMQQ.L', 'CAPU.L', 'NLB.L', 'HYGU.L', 'PGIZ.L', 'CAM.L', 'NCSP.L', 'SCU', 'SOLNA.ST', 'TAST', 'SXLB.L', 'HYR.L', 'EDL.L', 'CORN.L', 'EMES.L', 'CWCO', 'UPGS.L', 'MSEX', 'FTR', 'CSKR.L', 'REI', 'PRIME.ST', 'ATRC', 'UU.L', 'CNAA.L', 'ITPG.L', 'XLUS.L', 'PAYX', 'FERG.L', 'INLZ.L', 'AIMT', 'GSLC', 'ESP.L', 'XMUS.L', 'USA.L', 'MTRL.L', 'KAZ.L', 'SPXN', 'RUR.L', 'HIGH.L', 'ESGU.L', 'SPOG.L', 'JPJP.L', 'SOYO.L', 'DIVI.L', 'SUR.L', 'FFTY', 'OII', 'RICK', 'IEUS', 'XS6R.L', 'LQEE.L', 'RBN.L', 'SGB3.L', 'GREENM.CO', 'ANET', 'VWRP.L', 'AFMD', 'SENEA', 'FTFX.L', 'APD', 'AMED', 'FUT', 'HYDG.L', 'PDX.ST', 'KAV.L', 'CORT', 'HMJP.L', 'EUSC', 'MCS', 'VCIT', 'SEUR.L', 'RFV', 'IUCD.L', 'TUR', 'SBUX', 'REC.L', 'XSPX.L', 'GOG.L', 'SIHL.L', 'ASHR', 'IGLA.L', 'PRK', 'XNID.L', 'SEC.L', 'ISFE.L', 'ACCON.ST', 'EURE.L', 'CE01.L', 'TMST', 'GFGB.L', 'CER.L', 'FOG.L', 'UB45.L', 'SUWS.L', 'RNST', 'ISDU.L', 'NJR', 'QLT.L', 'CGB.L', 'PSRM.L', 'JILL', 'HSKA', 'IBKC', 'SPLG', 'EPC', 'SEDM.L', 'MBT.L', 'SPO.L', 'KIN', 'ENDP', 'VPAC.L', 'ADES.L', 'SCHD', 'SYLD', 'TIV.CO', 'IMEA.L', 'WBT', 'JZCP.L', 'MAJE.L', 'LRE.L', 'CSJP.L', 'IBGZ.L', 'NEXAM-TO-1.ST', 'IBCI.L', 'QUIA-TO4.ST', 'SEM', 'ROG', 'BSRR', 'USMV.L', 'HELIO.ST', 'JKHY', 'IBTU.L', 'EMSM.L', 'UA', 'AGR', 'DHX', 'TRSX.L', 'TW.L', 'AMSWA', 'ENVA', 'PAHC', 'NXT.L', 'RIEU.L', 'HPR', 'CDL', 'TRHC', 'VAPU.L', 'BSIG', 'EWH', 'MDYV', 'PCGH.L', 'OXT.L', 'CAY.L', 'MIG3.L', 'HEXA-B.ST', 'TCAP.L', 'OKE', 'SXLV.L', 'NBDX.L', 'RNWH.L', 'BHIU.L', 'LXRX', 'BBP', 'HALL', 'GBCI', 'VIPRO.CO', 'XCX5.L', 'MINEST.ST', 'GFTU.L', 'UVSP', 'XUFN.L', 'SVT.L', 'OGS', 'HLIO', 'CRV.L', 'ITW', 'JAN.L', 'ITPS.L', 'FXC.L', 'MMI', 'ACRS', 'SAIC', 'IHI', 'MCRI', 'PPG', 'IRDM', 'DEVP-B.ST', '0HDM.L', 'JESC.L', 'CBG.L', 'SFE.L', 'COLUM.CO', 'NRGW.L', 'MRNA', 'BVXP.L', 'COPX', 'TPK.L', 'BRX', 'IFF', 'SPWR', 'QADA', 'BO.CO', 'MCB.L', 'XSFR.L', 'ONB', 'GYM.L', 'SYF', 'ALUM.L', 'SYNH', 'TPXG.L', 'GE', 'PSCM', 'CLS-B.ST', 'ECEL.L', 'IBTM.L', 'HOT.L', 'XUCS.L', 'HOYLU.ST', 'JDS.L', 'MESG.L', 'OFIX', 'CWK.L', 'BEN', 'ELISA.HE', 'IEBC.L', 'IPLT.L', 'XAN', 'MSEX.L', 'COST.L', 'MAGLE.ST', 'KEM', 'CNMD', 'VCRA', 'TEG.L', 'PKG', 'EQT.L', 'SBEG.L', 'ARES', 'PSRU.L', 'CSLT', 'AGG', 'MTPH.L', 'WRLD', 'WM', 'SFOR.L', 'HOLX', 'JWNG.L', 'FSUS.L', 'WBA', 'TRGB.L', 'BCI.L', 'SGA', 'ROIC', 'TSGB.L', 'LGND', 'QUIZ.L', 'CBRE', 'XLDX.L', 'BBBY', 'HOTC.L', 'XUTC.L', 'TEK.L', 'EAC.CO', 'EXLS', 'CYCN', 'BRGE.L', 'ATQT.L', 'IJPE.L', 'SDY.L', 'A', 'CBT', 'FC', 'CASS', 'HL', 'CGNX', 'ASCI.L', 'SSE.L', 'AEGIR.ST', 'JPLG.L', 'RMNI', 'AXS.L', 'ZIOP', 'PHX', 'RSE.L', 'IBTA.L', 'HYPE.CO', 'RBB', 'BOTX.ST', 'FCCY', 'SCT.L', 'FNDC', 'XDWL.L', 'SMBK', 'TR', 'EJFI.L', 'INFREA.ST', 'UB02.L', 'CPE', 'IUES.L', 'SN.L', 'EMN', 'CTY.L', 'UFSD.L', 'IMEU.L', 'OIG.L', 'COTY', 'BONH.L', 'XFOR', 'MAGI.ST', 'SEDY.L', 'KCR.L', 'NJOB.ST', 'HMJD.L', 'VEMF-SDB.ST', 'XUFB.L', 'TALK.ST', 'ROSE', 'IYG', 'BMY', 'XGIG.L', 'MDC.L', '888.L', 'ACAD', 'CTAS', 'TSCO', 'INV.L', 'BRZ.L', 'CATM', 'LQQS.L', 'USY.L', 'CAU.L', 'GNE', 'WLDU.L', 'FMAT', 'LGGL.L', 'L100.L', 'NITRO.ST', 'KRM.L', 'AVXL', 'BOOM', 'CUB', 'AVDR', 'CADE', 'PSX', 'IUSA.L', 'FEUZ', 'BOKU.L', 'XMVU.L', 'XDEM.L', 'OPEN.L', 'IESP.L', 'VWRD.L', 'CFX.L', 'FIVE', 'SONG.L', 'SCAPE.CO', 'AO.L', 'TEVA', 'ASGN', 'NEWTON.ST', 'LTOD.L', 'ALM.ST', 'SBOK.ST', 'XAXD.L', 'SEAS', 'LPA.L', 'IEDL.L', 'SPTM', 'NCLH', 'IOTS', 'EHTH', 'SPMB', 'DC.L', 'SCRF.L', 'CBB', 'CCT.L', 'KIBO.L', 'GLRE', 'SCE.L', 'SMPL', 'MLPS.L', 'STERV.HE', 'GMR.L', 'QDIV.L', 'RMBI', 'CTH.L', 'MITT', 'SHSP', 'AXP', 'AUEG.L', 'BRKL', 'ACHC', 'BBGE.L', 'ADMS', 'ALEC', 'CPS', 'XD5D.L', 'SYME.L', 'VGT', 'IL0A.L', 'UAI.L', 'IEFM.L', 'MIND.L', 'SWG.L', 'AXB.L', 'OOUT.L', 'PUTW.L', 'SST.L', 'REVG', 'ZAPLOX.ST', 'PXS.L', 'CHMA', 'PXF', 'LOB', 'FNHC', 'GAIA', 'RST.L', 'IUUS.L', 'POLY.L', 'WTEL.L', 'IDWR.L', 'AVON.L', 'AAC.ST', 'ARQL', 'HEDJ', 'PERE.L', 'XUEM.L', 'QQQS.L', 'PZC.L', 'FUQA.L', 'IUSP.L', 'ABSO.ST', 'FEQP.L', 'PLUN-TO1.ST', 'SSTK', 'EPG.L', 'INZILE.ST', 'RYT', 'SAVOS.ST', 'MTC.L', 'XPXD.L', 'XS2D.L', 'RFX.L', 'HEMO.L', 'CARL-B.CO', 'SJPA.L', 'BPFH', 'VEMA.L', 'RGS', 'ASPIRE.ST', 'TR7G.L', 'IIIN', 'TYME', 'CUT', 'CVGI', 'SGIL.L', 'ING.L', 'PSN', 'CSFL', 'XEUM.L', 'IEO', 'WLDD.L', 'CAD.L', '0DZP.L', 'RAVP.L', 'ANP.L', 'PHUN', 'SSPG.L', 'SXLK.L', 'ECSC.L', 'IGV', 'UB23.L', 'FII', 'WHR.L', 'RBG.L', 'APG', 'AIQ.L', 'PSNRDC-A.CO', 'JUSC.L', 'US10.L', 'ETX.L', 'KBA.L', 'SLVR.L', 'CATC.L', 'HIFS', 'BSRT.L', 'ITA', 'MEUU.L', 'NOV', 'JHMM', 'IUCM.L', 'WDSC.L', 'IGLH.L', 'KLDO', 'ACRE', 'BOLD', 'EURL.L', 'UTIP.L', 'HRTG', 'PLUS.L', 'TITN', 'FASTAT.ST', 'CLNY', 'MRLN', 'PATK', 'FRILL-B.ST', 'BVT.L', 'PZZA', 'CELC', 'JEL.L', 'TNAV', 'TOOP.L', 'HAST.L', 'DWF.L', 'MIDS.ST', 'GOCO.L', 'SVE.L', 'GOVT', 'BATRA', 'KIM', 'GGRG.L', 'ALTM', 'SCHG', 'FNWB', 'OMI.L', 'GS', 'DGED.L', 'BIOG.L', 'NXTCL.ST', 'CNCT.L', 'PCYO', 'STU.L', 'ILPT', 'IPGP', 'REGI', 'DTE', 'BAYN.ST', 'AGLE', 'FKUD.L', 'PSMT', 'KE', 'SGZ.L', 'SMDS.L', 'JPXX.L', 'AMPH', 'EG7.ST', 'IBPO.L', 'SWMA.ST', 'GRBK', 'GLIF.L', 'EMSD.L', 'MVBF', 'MSRU.L', 'AM-B.CO', 'AMAST-PREF.ST', 'TCMD', 'FIRE.ST', 'AFMC.L', 'ERRIA.CO', 'EAT.L', 'GOSS', 'RVSB', 'IBGS.L', 'FRES.L', 'HYIH', 'BRCK.L', 'MRL.L', 'BBGI.L', 'AAOI', 'TR7S.L', 'PCTN.L', 'T10G.L', 'ARBB.L', 'INS.L', 'AUCP.L', 'HALO', 'PNC', 'FMBH', 'OOA.L', 'NOC', 'SCIB-TO-1.ST', 'LWI.L', 'TEL', 'SEUC.L', 'VSH', 'BA', 'XMBR.L', 'GRID.L', 'FTAD.L', 'GULF', 'UC64.L', 'JETG.L', 'WINE.L', '3KR.ST', 'VOG.L', 'HPQ', 'VLIQ.L', 'SAA.L', 'EFIS.L', 'SPEONE-TO3.ST', 'XMRC.L', 'IESU.L', 'FEQD.L', 'XLVP.L', 'VNRG.L', 'TTEC', 'JREU.L', 'PRSR.L', 'JFJ.L', 'ALL', 'USX', 'RE.L', 'MTSI', 'ABC', 'IJS', 'FRCH.L', 'SPXJ.L', 'MOS', 'NBPS.L', 'VWRA.L', 'LPET.L', 'FDBK.L', 'MTW.L', 'CEMA.L', 'TCM.L', 'BIDU', 'FBT', 'IBCX.L', 'PKD', 'UNFI', 'ALXN', 'CPLG', 'IWMO.L', 'DAL.L', 'PDLB', 'HOPE', 'ENOG.L', 'SANI.CO', 'CUKS.L', 'KAN-TO-5.ST', 'COG', 'SBBX', 'CAH', 'RWS.L', 'SCHR', 'VTV', 'PGR', 'TRR.L', 'SYE', 'PEK', 'XLPS.L', 'WIRE', 'LHCG', 'EPU', 'LDRI', 'GEND.L', 'XDWI.L', 'IUAE.L', 'FPE', 'TELIA.ST', 'DXCM', 'BGS.L', 'QUART-PREF.ST', '0MKL.L', 'NEPA.ST', 'ALT.L', 'SDIP-PREF.ST', 'TVTY', 'ELN.ST', 'CGS.L', 'UC07.L', 'ICDU.L', 'AKR', 'ABDP.L', 'IHP.L', 'SECI-TO-1.ST', 'LBE.L', 'EUN.L', 'TPC', 'EDGI.L', 'MDLZ', 'EGLN.L', 'LEVL', 'XBAG.L', 'STM.L', 'SKT', 'VUKG.L', 'CNA', 'MED.L', 'XGLS.L', 'ONC.L', 'BBTR.L', 'AXE', 'FUSI.L', 'BOIL.L', 'AXIC-A.ST', 'MNOV', 'ERO.L', 'ISTB', 'CHAL.L', 'SLPE.L', 'PNQI', 'CLX', 'ATEC', 'USIX.L', 'NEM', 'B', 'XLCP.L', 'EESG.L', 'EUSV.L', 'LEML.L', '0MS5.L', 'SXC', 'PDM', 'UC76.L', 'SDP.L', 'CBMG', 'LQGH.L', 'GEN', 'POW.L', 'JBT', 'DY', 'CLVS', 'EMDL.L', 'SPR.L', 'LXFR', 'STA.L', 'XBAK.L', 'SMWH.L', 'CPC.L', 'LIPI-TO1.ST', 'DFEP.L', 'PTGX', 'LOW', 'BPC.L', 'CVLT', 'SRES.L', 'AVAV', 'CCL.L', 'BWNG.L', 'CPF', 'WOR', 'LGEU.L', 'SPG.CO', 'XDWE.L', 'NUE', 'MIK', 'RCKY', 'WMK', 'XS3R.L', 'HVID.CO', 'SYNC.L', 'AGES-B.ST', 'EMCA.L', 'RUBI', 'PTE', 'TIPZ', 'INWK', 'AVCO', '0DZH.L', 'MWE.L', 'MRK', 'UC68.L', 'JKE', 'GOGO', 'IVISYS.ST', 'XEL', 'DRH', 'LVCG.L', 'FDL', 'NEOG', 'K3C.L', 'SRB.L', 'GAPW-B.ST', 'SJPY.L', 'CRS.L', 'PICO', 'CG', 'STMP', 'MBIN', 'AIE.L', 'INCOAX.ST', 'MPH.L', 'XRH0.L', 'UC15.L', 'SPTN', 'MLND', 'TXT', 'HAGB.L', 'XLES.L', 'VLU.L', 'EEUD.L', 'SRSA.L', 'WFC', 'PMG.L', 'IXUS', 'SDOS.ST', 'XMES.L', 'VAPO', 'BBB.L', 'AOS', 'WEED.TO', 'VGAS.L', 'SWAV', 'SO', 'ARCH', 'SMRU.L', 'IGRO', 'ODICO.CO', 'CAPD.L', 'BNED', 'SKG.L', 'BOE.L', 'NWE', 'ORPH.L', 'TSE', 'FLXK.L', 'BWXT', 'ENW.L', 'TH', 'IUIS.L', 'DIGN.ST', 'VEA', 'LNIK.L', 'CLDN.L', 'AHT', 'CEMAT.CO', 'KLWD.L', 'MED', 'HZAD.L', 'SDHY.L', 'VRSK', 'GRMN', 'TORSAB.ST', 'GRL.L', 'MSBI', 'WCOS.L', 'INFA.L', 'CMOTEC-TO-1-B.ST', 'MARS.L', 'SG92.L', 'VONE', 'ESS', 'NGM', 'HOVD-BTA.ST', 'LINKAB.ST', 'POWL', 'CASI', 'XD9U.L', 'CRUS', 'BCOG.L', 'INVP.L', 'NET', 'PRFT', '0ML3.L', 'ATS.L', 'NOVT', 'SUOE.L', 'CSUK.L', 'FORM', 'CNX', 'ALLG-B.ST', 'IVPU.L', 'GPX', 'PSB', 'KNSA', 'ROAN', 'PVR.L', 'BOMN', 'XCS4.L', 'WOSC.L', 'FFIN', 'SGBP.L', 'SRNE', 'GSBC', 'HDEM.L', 'VEUR.L', 'SCZ', 'HVT.L', 'MSGN', 'FVD', 'VRTU', '0E4X.L', 'WDC', 'DMGT.L', 'LDCU.L', 'NWF.L', 'DRLCO.CO', 'RWW', 'ETM', 'VUAA.L', 'HMFD.L', 'ZEAL.CO', 'USSC.L', 'MVUS.L', 'CCPG.L', 'LSRG.L', 'XCT9.L', 'NLAB.ST', 'RUN', 'TRIBO-B.ST', 'CMU.L', 'DRQ', 'DPYE.L', 'KENH.ST', 'NFGAB.ST', 'IWR', 'NXPI', 'XMJD.L', 'PFC.L', 'CCNE', 'FSBW', 'GCS.L', 'OSTK', 'FANG', 'WHEA.L', 'APTS', 'XMME.L', 'UKW.L', 'SPPP.L', 'GDR.L', 'INTL.L', 'MMS', 'SPYG', 'OSIS', 'ZGNX', 'IJJ', 'PI', 'CSII', 'CNG.L', 'AAS.L', 'UBTS.L', 'VOO', 'VSCA.L', 'PRM.L', 'GLGG.L', 'ZUTEC.ST', 'KRA', 'ARNA', 'NGAS.L', 'IUSV', 'SPWH', 'FLXS', 'BMTC', 'AVO.L', 'CIT2.L', 'WTTR', 'RTH', 'BMY.L', 'FLDM', 'ARR', 'LCAU.L', 'GCO', 'XHE', 'CLPR', 'JPM2.L', 'TOWN', 'JSMD', 'IAEX.L', 'BRNT.L', 'XXSC.L', 'SRT', 'LW', 'GTC.L', 'XX2D.L', '0MRI.L', 'CISN', 'QUIA.ST', 'FTC.L', 'HFWA', 'EEIP.L', 'PWC', 'GTY', 'EMHY', 'TRC', 'XSIL.L', 'MNL.L', 'CRM2.L', 'ZOO.L', 'WW', 'MEDP', 'FFWD.L', 'JOBNDX.CO', 'SCD.CO', 'ASTGRP.CO', 'FLXG.L', 'RBNC', 'SPRO', 'DBEM', 'VRRM', 'KOLL.ST', 'IDIN.L', 'VUTA.L', 'AIR', 'SCVL', 'OPBK', 'IGG.L', 'CARO', 'ANRJ.L', 'SIVE.ST', 'ALTA', 'FCPT', 'CRVL', 'LUXOR-B.CO', 'TBK', 'SAEM.L', 'VRNS', 'EME.L', 'EQQU.L', 'IMKTA', 'DVP', 'PID', 'IP', 'FBM', 'TMT.L', 'CMG', 'ACC.L', 'GPH.L', 'ALOT', 'CSGS', 'COMM.L', 'NBLS.L', 'NFBK', 'NWBD.L', 'CEUR.L', 'WLFC', 'DPLO', 'VMC', 'SKYW', 'HSPX.L', 'AGYS', 'EU35.L', 'GN.CO', 'CIHL.L', 'XMJP.L', 'PBFS', 'SWRD.L', 'DJEL.L', 'IHF', 'RE', 'FEMD.L', 'SAIL', 'RMP.L', 'RFL', 'FYX', 'GCG.L', 'RHIM.L', 'FGT.L', 'ROLL.L', 'BOND', 'CIR.L', 'SJP3.L', 'STYC.L', 'ORCL', 'SMP.L', 'FRXE.L', 'MSA', 'PRU.L', 'LB', 'PLAY', 'ACNB', 'FSV.L', 'WASH', 'ENOB', 'LBTYA', 'GLTP.L', 'SOLT.ST', 'OIS', 'ISS.CO', 'SFBS', 'AEX.L', 'TALO', 'NVDA', 'LEGR.L', 'UIE.CO', 'TKO.L', 'EGAN', 'SNN.L', 'EPWN.L', 'GKOS', 'EMLB.L', 'RARX', 'RMD', 'CHNG', 'CMCT', 'FSTR', 'XPER', 'EWBC', 'FPI', 'TSEC.ST', 'AVNS', 'ISR-TO-2.ST', 'AIG', 'DISCK', 'TISI', 'FTCS', 'VHYG.L', 'SKYY.L', 'TRV', 'NTES', 'VANL.L', 'OCDO.L', 'CNSL', 'FCBP', 'INVA', 'XUKX.L', 'SAEU.L', 'PBCT', 'PDG.L', 'PACD', 'IWFS.L', 'GAW.L', 'NFL2.L', 'VUTY.L', 'UC85.L', 'SNCR', 'ADV.L', 'CRZO', 'UPSALE.ST', 'HWC', 'TMDX', 'FILL', 'JAG', 'WCOG.L', 'PEG', 'U13G.L', 'INFU.L', 'ES', 'UHT', 'CU2G.L', 'TRMK', 'LMNX', 'CMCSA', 'HMCA.L', 'AXTA', 'BMRN', 'U71G.L', 'BBCP', 'MUSA', 'IBTX', 'CHIN.L', 'SPEH.L', 'KRMA', 'CURO', 'SKYU.L', 'ZIGN.ST', 'LOG.ST', 'CSUS.L', 'AJX', 'MYRG', 'BCEL', 'CSOD', 'CECL.L', 'CRS', 'ECPG', 'TGBL.L', 'DOOR', 'PCF.L', 'ALZCUR.ST', 'IPO.L', 'DNA2.L', 'ERND.L', 'VCSH', 'SDHA.L', 'NOVA', 'KP2.L', 'FEXD.L', 'TCX', 'UC89.L', 'HMSP.L', 'MIVO.L', 'ESXB', 'CKN.L', 'ZROZ', 'UB89.L', 'RVNC', 'FL', 'ROL.L', 'DVEM', 'IEMI.L', 'WEY.L', 'ALLK', 'VERG.L', 'DNLI', 'HUR.L', 'SAFE', 'HMUS.L', 'ZIXI', 'ARMK', 'CSCA.L', 'RIO.L', 'MORF', 'PHSC.L', 'ACARIX.ST', 'EVBG', 'JII.L', 'HSTG.L', 'XLYS.L', 'HAS', 'CRBP', 'CCRN', 'RES', 'OPTN', 'SCOP.L', 'YU.L', 'CWT', 'AAP', 'LOOP.L', 'INDI.L', 'SMEZ', 'AJIT.L', 'CONFRZ.CO', 'HDEU.L', 'CNS.L', 'UC97.L', 'BULL.L', 'JKI', 'SPRINT.ST', 'ODC', 'NNI', 'BOTB.L', 'HAP.L', 'EQIX', 'IVPM.L', 'BONES.ST', 'BCPC', 'EVAL.L', 'KRTX', 'GWI.L', 'AR', 'ES15.L', 'XAGS.L', 'VDPA.L', 'COLO-B.CO', 'FLXE.L', 'NGSP.L', 'OSSD.ST', 'RILY', 'GNK', 'DRE', 'XZMJ.L', 'ABEO', 'TERRNT-TO3-B.ST', 'ZWIPE.ST', 'JKH', 'IWF', 'EXEL', 'CSTE', 'ULTA', 'BPCR.L', 'CIR', 'THOR', 'TDG', 'HSC', 'BHGG.L', 'ALRM', 'APEI', 'UNM', 'G3E.L', 'EYE.L', 'IWQU.L', 'CATC', 'TYT.L', 'ARQT', '0MTH.L', 'KMT', 'HAYD.L', 'CCBG', 'GBS.L', 'EMG.L', 'UKRE.L', 'TRS5.L', 'KSS', 'HEZU', 'VNCE', 'JGRE.L', 'IDNA.L', 'ERII', 'AGR.L', 'CHF.L', 'FTI', 'AMG', 'USAL.L', 'NBHC', 'PAYC', 'EGRX', 'GPRO', 'BTAI', 'FARM', 'FBNC', 'SUP3.L', 'IIIV', 'IGE.L', 'MGTX', 'LMP.L', 'AGAP.L', 'NPO', 'IASH.L', 'C4XD.L', 'OBD.L', 'SB', 'VBK', 'ECOM.L', 'RCUS', 'MWA', 'CSWU.L', 'VMUK.L', 'BOCH.L', 'REDX.L', 'BWFG', 'MKS.L', 'STX', 'GOLB.L', 'IGIB', 'FAF', 'CRWU.L', 'RUSU.L', 'GDP.L', 'UIS', 'XRLV', 'NTG.CO', 'PBPB', 'JJSF', 'XLP', 'VICR', 'INGN', 'CBZ', 'O', 'LLPC.L', 'ATEN', 'RRD', 'NASL.L', 'CNE.L', 'QLYS', 'SMIN.L', 'HRI.L', 'VDEM.L', 'EXPN.L', 'CMFP.L', 'CVLY', 'WPC.L', 'CSPX.L', 'CMBS', 'FVUG.L', 'EBTC', 'DES', 'MHM.L', 'CRPX.L', 'ZIN.L', 'ME.ST', 'NTV.L', 'APPF', 'SGRO.L', 'EMMV.L', 'RCKT', 'CPK', 'VEU', 'SMJ.L', 'SNX.L', 'VWOB', 'THRL.L', 'APOG', 'AIFZ.L', 'PKI', 'PAL.L', 'AKAM', 'HELE', 'CMS', '0MUJ.L', 'ARR.L', 'CNCE', 'ENFR', 'PMBC', 'PSCC', 'BIV', 'MTDR', 'HMEX.L', 'BYBG.L', 'HSIC', 'ROUS', 'HMHC', 'CFYN.L', 'ERA', 'SPNE', 'OPK', 'BYND', 'DPYG.L', 'AMBA', 'KWR', 'ELF', 'PYX', 'BAVA.CO', 'SKY', 'LULU', 'HFG.L', 'HES', '0H9U.L', 'YUM', 'VDEA.L', 'FGQI.L', 'HILS.L', 'SEU3.L', 'SENX.L', 'AEP', 'ADNT', 'XSKR.L', 'IBT.L', 'NUVA', 'GXLC.L', 'WRKS.L', 'LC', 'SPY4.L', 'PAX.ST', 'BATS.L', 'SPY', 'LSPU.L', 'KCEL.L', 'SPEM', 'GNLN', 'EZPW', 'TND.L', 'PRIG.L', 'WKOF.L', 'VEC.L', 'PLOW', 'EPRE.L', 'FLXI.L', 'BL', 'VMBS', 'IEMS.L', 'ERIS.L', 'DNOW', 'PTCT', 'CHIX', 'DRDR.L', 'DIVY', 'SUOG.L', 'LIO.L', 'SBH', 'PPS.L', 'DAR', 'MKTX', 'INSG', 'XPD.L', 'SLG', 'CVS', 'CRBU.L', 'ISP6.L', 'ITECH.ST', 'IRON.L', 'NSP', 'IPU.L', 'INVR.L', 'TIVO', 'DAXX.L', 'EMHG.L', 'GLRE.L', 'EPM', 'JPAS.L', 'CCI', 'EUMD.L', 'EVTC', 'TRE3.L', 'GDP', 'PGJ', 'MMIT.L', '0HOV.L', 'AGILC.CO', 'OTB.L', 'BAND', 'VERE.L', 'TFGS.L', 'AVST.L', 'AKCA', 'ITKY.L', 'MYOK', 'XG7U.L', 'DTH', 'ABCB', 'ECOR', 'PRGS', 'DXJG.L', 'INTL', 'PWB', 'MWRD.L', 'USPG.L', 'AMNB', 'JPBM.L', 'HTBI', 'AGGG.L', 'IGTM.L', 'SUMO.L', 'GLCB.L', 'AEE', 'CPRX', 'DERM', 'JBHT', 'GVA', 'CNYA.L', 'HTLF', 'GEOS', 'PAT.L', 'ARKG', 'XMMS.L', 'MDC', 'PEG.L', 'HEAD.L', 'AFRK.L', 'JPSR.L', 'SLP.L', 'PRNB', 'WIGG.L', 'CDW', 'SJNK.L', 'FREL', 'IGAA.L', 'SNM.ST', 'GBG.L', 'BY', 'BLD', 'SGSU.L', 'CDXC', 'DVAX', 'GPOR.L', 'NAT', 'QTX.L', 'BUYB.L', 'OTAQ.L', 'AGIO', 'STBA', 'HLIT', '0G51.L', 'POLY.ST', 'NFC.L', 'SNDX', 'NWBI', 'PTSI', 'IWVL.L', 'KBH', 'MDUNDO.CO', 'HARP', 'HSS.L', 'XWTS.L', 'OXE.ST', 'REALFI.ST', 'XQUA.L', 'PH', 'SAFE.L', 'VCEL', 'WLDN', 'AMZE.L', 'NWPX', 'LOUDS.ST', 'BCOV', 'GLBL.L', 'BRC', 'LTPZ', 'MOGB.L', 'OOMA', 'FHB', 'PAR', 'PPG.L', 'TIGT.L', 'IASP.L', 'NPTN', 'JLT.ST', 'ISXF.L', 'IFRB.L', 'HFXI', 'MMH.L', 'INRU.L', 'THD', 'AMTD', 'FDT', 'TIPH.L', 'FMAO', 'IWS', 'TLDH', 'EBAY', 'XPP.L', 'FLOA.L', 'WQDS.L', 'KOD.L', 'REG', 'NRC', 'MSYS.L', 'ASHR.L', 'SSIL.L', 'HZAR.L', 'DZSI', 'RIOL.L', 'IWFQ.L', 'COS.L', 'JPTS.L', 'QGTA', 'UC87.L', 'ADT.L', 'DNA.L', 'ORM.L', 'BCLI', 'PLPC', 'JARA.L', 'SBCF', 'HTH', 'BYSI', 'MAGI.L', 'IWDA.L', 'XLE', 'CASH', 'VCT.L', 'BHE', 'CIP.L', 'NG.L', 'WST', 'IRT', 'ANOT-TO-18.ST', 'LUSC.L', 'AUK.L', '0MRS.L', 'GOOD.L', 'JPEL.L', 'AQX.L', 'FNDX', 'GLTR.L', 'APPS', 'ADC', 'HOME', 'WMS', 'NNH.ST', 'ATUS', 'OSSR.CO', 'FORT.L', 'VEUD.L', 'RSVL.L', 'CDNS', 'ADDV-TO-1.ST', 'YGYI', 'BRIC.L', 'AKRO', 'IEM.L', 'NYMT', 'AMCR', 'EMBRAC-B.ST', 'FSB', 'SDIA.L', 'IAUS.L', 'DLTM.L', 'SAGG.L', 'AMK', 'VNQ', 'TRAIN-B.ST', 'MAHA-A.ST', 'NEXAM.ST', 'XDWS.L', 'IKSD.L', 'USMV', 'PRSC', 'TFIF.L', '0MKV.L', 'JPB.L', 'MBB', 'RMMC.L', 'HBAN', 'CGI.L', 'NSTG', 'HOFT', 'LIPI.ST', 'FFIV', 'PSRF.L', 'AIMC', 'FUTR.L', 'RTW.L', 'ANTM', 'NDA-DK.CO', 'XMWD.L', 'MLM', 'SHAPE.CO', 'HVPE.L', 'JNCE', 'SIBN', 'BYOT.L', 'MTRN', 'DLN', 'GOOGL', 'IRLAB-A.ST', 'EEE.L', 'JKD', 'RDIV', 'TET.L', 'STAG', '0A0B.L', 'DRI', 'EXC', 'FDM', 'PRFD.L', 'STPU.L', 'ROAI.L', 'GSLC.L', 'WTS', 'GIGB.L', 'NBR', 'KMX', 'IOG.L', 'CATO', 'MER.L', 'EEDM.L', 'CF', 'VELA.L', 'IYE', 'ANDE', 'MBIO', 'SPHQ', 'XGLE.L', 'EXPO', 'XDER.L', 'ENZY.ST', 'SFE', 'SLVP.L', 'SPOL.L', 'HKLD.L', 'CLAV.ST', 'EML', 'LUXG.L', 'TPX.L', 'INTEG-B.ST', 'BMRC', 'ISRL.L', 'SMLF', 'FCOM', 'GLR.L', 'INS', 'BOXE.L', 'SIGI', 'ANSS', 'SPXP.L', 'SURE.L', 'MRCH.L', 'ISAC.L', 'USP5.L', 'RGNX', 'ALGN', 'XPXJ.L', 'CFFI', 'BSCK', 'VDMO.L', 'TILE', 'STT', 'USF.L', 'ITOT', 'ADDV-B.ST', 'APLT', 'ISOFOL.ST', 'BFS', 'IRM', 'SRT.L', 'AMSC', 'EQR', 'IGHY.L', 'ANAB', 'C', 'ATR', 'XSPS.L', 'BREW', 'IEX5.L', 'GEO', 'CBKD.L', 'GOLF', 'DX', 'TCEP.L', 'CEY.L', 'BGLP.L', 'FOE', 'IHYA.L', 'CRHG.L', 'TLRA', 'UNTY', 'KYGA.L', 'JUS.L', 'ROP', 'OSBC', 'AML.L', 'DBEU', 'HII', 'ENS', 'DODS.L', 'VAST.L', 'AEWU.L', 'LCJG.L', 'SGC', 'VHI', 'AKS', 'XD3E.L', 'PIN.L', 'PUB', 'TPT.L', 'ASMB', 'IDWP.L', 'STAF.L', 'TPB', 'CSX', 'WLL', 'TTG.L', 'NTB', 'EFIE.L', 'QUART.ST', 'GCOR.ST', 'SIGN-B.ST', 'AGE', 'UTG.L', 'UKOG.L', 'MNRO', 'INTU', 'WRK', 'CHRO.ST', 'SXLI.L', 'SWK', 'PKE', 'JOE', 'LSCC', 'CEU.L', 'BAF.L', 'SYS1.L', 'LSL.L', 'PHAS', 'TMHC', 'COF', 'VMIG.L', 'XMBD.L', 'SGMS', 'GRPN', 'CAI', 'HNE.L', 'AFHP.L', 'FTSV', 'NVCR', 'QQEW', 'LRN', 'FRBK', 'NBDG.L', 'LRGF', 'WAND.L', 'PLSE', 'NETM-B.ST', 'OMG.L', 'EXTN', 'TUI.L', 'TBNK', 'HOGS.L', 'LIN', 'CNX1.L', 'TCDA', 'XRES.L', 'MCD', 'OIT.L', 'LGRS.L', 'TSTR.L', 'KAMN', 'CRMT', 'BDTX', 'SREI.L', 'SNR', 'TALK.L', 'IJR', 'HOVD.ST', 'ACWI.L', 'MLPQ.L', 'QDEF', 'SAIA', 'ALCO', 'RH', 'AVGO', 'EJFZ.L', 'DEMS.L', 'EYE', 'XLPE.L', 'WMVG.L', 'HWWD.L', 'FMBI', 'KLXE', 'XINT-TO-2.ST', 'RBOT.L', 'CHX', 'SKMO.ST', 'LAM.L', 'RVI', 'PRLB', 'JNPR', 'HRI', 'AGGY', 'COLD', 'MCBC', 'IXC', 'IRIS.ST', 'LEMV.L', 'KRUS', 'TSBK', 'BND', 'UEX.L', 'EEI.L', 'ANII.L', 'TGT', 'EWJ', 'SJR-B.ST', 'EMDV.L', 'SUK2.L', 'LUD5.L', 'IDPE.L', 'JPMB.L', 'CPRT', 'IAGG', 'SVS.L', 'CSM', 'CNST', 'KWEB.L', 'FSWD.L', 'NTGR', 'ESC.L', 'LOGP.L', 'AUGM.L', 'GTT', 'MIG4.L', 'MWG.L', 'KAN-TO-4.ST', 'BYLD', 'JETI.L', 'WINK.L', 'XLRN', 'LGGG.L', 'TRST', 'ARKK', 'AVLR', 'EMAS.L', 'CMB1.L', 'BEM.L', 'TRAF.L', 'LCUT', 'CHRA', 'ACER', 'LPSN', 'SCHF', 'IMC.L', 'GATX', 'UPL.L', 'BIO', 'IIP.L', 'BOOM.L', 'CRTX', 'KLEE-B.CO', 'FLO', 'BUSE', 'WUTI.L', 'MODN', 'TGP.L', 'DTD', 'UVEL.L', 'KTOS', 'OV.ST', 'AXGN', 'ECR.L', 'SPXD.L', 'NLFSK.CO', 'NHI', 'WPG', 'GDIG.L', 'SOHO.L', 'CTS', 'TWI', 'MVI.L', '0HBI.L', 'RTYS.L', 'SDR.L', 'PRFP.L', 'IJPN.L', 'ATSG', 'IBGE.L', 'TUP', 'FEDF.L', 'UEIC', 'DOD', 'BRO', 'WEAT.L', 'IMBS.L', 'BBTP.L', 'CROX', 'TURU.L', 'EIX', 'TOP.CO', 'IEUX.L', 'ERM.L', 'ABTX', 'FNLC', 'ALX', 'CFB', 'TEX', 'MLPI.L', 'HABT', 'EUMF', 'TBCG.L', 'AURA.L', 'XDWG.L', 'RGL.L', 'BCN.L', 'ANGO', 'GIST.L', 'HPE', 'MFX.L', 'NC', 'PNW', 'SPEONE-TO2.ST', 'NOW', 'SPGM', 'RTC.L', 'MIRM', 'FFIC', 'EVR.L', 'WTAI.L', 'VBR', 'MXJP.L', 'EMH5.L', 'RGR', 'SPMD.L', 'BORD-B.CO', 'ATRA', 'TRP.L', 'DEMG.L', 'PHLOG-B.ST', 'MGTA', 'MNA', 'PRUS.L', 'MNKS.L', 'NLSN', 'KNSL', 'VRTX', 'XUTD.L', 'QUS', 'LEMB.L', 'UPS', 'IHR.L', 'KGF.L', 'HFXE', 'BPM.L', 'MFNC', 'LTC', 'AAWW', 'RTO.L', 'GENO.ST', 'MRSN', 'UNT', 'VUKE.L', 'FHN', 'SUSS.L', 'RYTM', 'COPA.L', 'IUAG.L', 'RYU', 'LXU', 'ROBO.L', 'STAR', 'BAX', '0MKN.L', 'CJNK', 'IDEE.L', 'FDX', 'GOVY.L', 'SCS.L', 'FAIR.L', 'ELCO.L', 'XESX.L', 'PVH', 'KAPIAB.ST', 'XDN0.L', 'BAR.L', 'CHCO', 'XSVM', 'TVOL.L', 'WING.L', 'CRK', 'PEBB.L', 'SHOO', 'FTEU.L', 'XLBP.L', 'J13U.L', 'XSCD.L', 'IBP', 'ESO.L', 'SECS.ST', 'XDBG.L', 'LIVX', 'FLES.L', 'MANT', 'EFSC', 'AMAG', 'PRTH', 'MEI', '0H1C.L', 'XBCU.L', 'PARR', 'ZEG.L', 'FTLB', 'PMI.L', 'V', 'QUAD', 'PSDL.L', 'MTEM', 'INXG.L', 'CULP', 'UNIT', 'XLI', 'LQD', 'XRSU.L', 'IHYU.L', 'VGVA.L', 'SENZA.ST', 'MTU.L', 'CWFU.L', 'RPD', 'DXRX.L', 'IUSF.L', 'TMO', 'HEMC.ST', 'VVAL.L', 'MCHX', 'STAR.L', 'STEA.L', 'FCF', 'SASR', 'FUTY', 'CLIG.L', 'SBSI', 'TSC', 'OSMT', 'SJM', 'TRXS.L', 'CLFD', 'WCOA.L', 'HOMB', 'TOCA', 'SAXG.ST', 'TASE.L', 'ASL.L', 'WMT', 'SIEN', 'CAG.ST', 'SHAK', 'DEA', 'TRYG.CO', 'KUWP.L', 'DGX', 'PRIW.L', 'DNE.L', 'AMAL', 'WAB', 'CAPAC.ST', 'EMR', 'BHB', 'GUS.L', 'VHYA.L', 'XLB', 'FMB', 'GBSP.L', 'PPC.L', 'CETV', 'ATGE', 'USVL.L', 'HLTW.L', 'OCN', 'VIOV', 'VSVS.L', 'ITV.L', 'ATCO-B.ST', 'IPE.L', 'DMYD-B.ST', 'LGJP.L', 'CS1.L', 'DXPE', 'SHED.L', 'IPHS', 'SBOW', 'IBDC', 'XGSG.L', 'CLI.L', 'CBAN', 'VCPA.L', 'SIGT.L', 'HEAL.L', 'VIVO', 'SP', 'NWT.L', 'KRWL.L', 'GABC', 'PLZB.L', 'UQLT.L', 'GBUS.L', 'ARIX.L', 'KALV', 'VRTS', 'VNO', 'TEQ.ST', 'REDD.L', 'TLOU.L', 'ZINC.L', 'ARB.L', 'RGEN', 'IVPG.L', 'DWHT.L', 'CYH', 'LUK2.L', 'EQWL', 'BIPC', 'BSTC', 'MIDD.L', 'AA', 'PDFS', 'PIEZO.ST', 'BEAM', 'RMV.L', 'NBL', 'EVR', 'IWDE.L', 'HNRG', 'VCP.L', 'CHTR', 'FLGT', 'VTAS.L', 'ODP', 'RECI.L', 'JETPAK.ST', 'SLQD', 'QEP', 'FDS', 'VEGA', 'THC', 'JPEH.L', 'DRW', 'ASIT.L', 'BEPC', 'HMED.L', 'AGCP.L', 'XCHA.L', 'CVA', 'YMAB', 'RHP', 'OXIG.L', 'PUIG.L', 'GDGB.L', 'PARKEN.CO', 'AAA.L', 'MIST.L', 'GAID.L', 'RUSE.L', 'EOG.L', 'IUHC.L', 'LOCO', 'HNI', 'XMID.L', 'WEC', 'KRG', 'IFSD.L', 'GCI', 'MAHA-TO-2-A.ST', 'CRPH.L', 'CERN', 'WSML.L', 'TRE7.L', 'MXCT.L', 'IGSD.L', 'JACK', 'PUR.L', 'ASTE', 'SBIO', 'ANIK', 'FIPP.L', 'IQG.L', 'SGVL.L', 'IVR', 'JBSS', 'GCM.L', 'HSW.L', 'FEN.L', 'HL.L', 'VAL.L', 'HCAT', 'DFND', 'FCBC', 'PLXS', 'FLXU.L', 'IEMO.L', 'IITB.L', 'XLRE', '0DX8.L', 'CINE.L', 'AIT', 'LNN', 'SDHG.L', 'OPY', 'GR1T.L', 'MSCI', 'FRC', 'APGN.L', 'WCOM.L', 'VTI', 'SCHM', 'BOLIGA.CO', 'LPI', 'BATRK', 'TENB', 'SHG.L', 'CAML.L', 'AGRO.L', 'RSP', 'GFN', 'DFDS.CO', 'XELA', 'GOOG', 'BWRA.L', 'WEIR.L', 'CMA', 'FBK', 'ZUO', 'ATM.L', 'KLR.L', 'ETLN.L', 'DAKT', 'BANC', 'KO', 'SE15.L', 'XAR', 'ZAIM.L', 'MCO', 'IAAA.L', 'ODFL', 'DSPG', 'SASU.L', 'WGO', 'XIDD.L', 'CAKE', 'EMIM.L', 'IDV', 'PADV.L', 'THRM', 'VUAG.L', 'NANEXA-TO-2.ST', 'SENS', 'MTSC', 'ESNT', 'RC', 'LCRP.L', 'HRTX', 'CRAI', 'XITK', 'IYLD', 'SDS.ST', 'BRMK', 'ASAI.ST', 'TIP', 'TON.L', 'DKL.L', 'AOGL.L', 'TERRNT-B.ST', 'SMIF.L', 'NASD.L', 'SOLY', 'MCKS.L', 'PCRX', 'MVED.L', 'QQQ3.L', 'CHS', 'SES.ST', 'GDX.L', 'BBY', 'ADUS', 'SFNC', 'OEC', 'SRG', 'GMS', 'HAN.L', 'BK', 'SCLP.L', 'EEJD.L', 'ASIL.L', 'VERI.ST', 'KNL', 'HRB', 'EFEP.L', 'CDE', 'HEES', 'SPKE', 'EQDS.L', 'BLBD', 'VJPB.L', 'XCS2.L', 'ALM-PREF.ST', 'VXUS', 'NSIT', 'ARA', 'SEMB.L', 'BLND.L', 'ESGE', 'HGM.L', 'ADBE', 'AIA', 'MMX.L', 'CBRL', 'XERS', 'PTD.L', 'SRDX', 'SGH', 'UTL', 'CHIP.L', 'GABA-TO3.ST', 'PETS', 'UPWK', 'IS15.L', 'RCM', 'UFPT', 'PUI', 'SIG', 'HSBK.L', 'WD', 'EMLP.L', 'IPDM.L', 'CE2D.L', 'XRMU.L', 'JPX4.L', 'ZOE.L', 'ADPT', 'JPGL.L', 'WOOD', 'CU2U.L', 'HWBK', 'NAR.L', 'INFG.L', 'UB0C.L', 'AGNC', 'AYI', 'PACB', 'TRXG.L', 'SCHX', 'PRIC.L', 'SKJE.CO', 'BKH', 'ALTR', 'FEV.L', 'CAPE', 'SENS.ST', 'ACEL', 'EPRA.L', 'BACK.L', 'IUMF.L', 'PRIMOF.CO', 'ENQ.L', 'INFO', 'SYNA', 'ROR.L', 'XMLA.L', 'TPYP', 'GL', 'FSP', 'PCT.L', 'EXPD', 'BCOM.L', 'ATYM.L', 'MMAC', 'BIOS.ST', 'ALKS', 'EPZM', 'IDJV.L', 'RETA', 'COPP-B.ST', 'SGRY', 'U10G.L', 'GLAB.L', 'UESD.L', 'BUSER.ST', 'ECH', 'MNSB', 'CDNA', 'MIG.L', 'VB', 'OCUL', 'VGK', 'CDLX', 'FLRN', 'ATY.L', 'FBIZ', 'BOO.L', 'TUNE.L', 'NEXS.L', 'SUD5.L', 'CODX', 'ADSK', 'CNK', 'MITK', 'IWFM.L', 'BRE2.ST', 'FCX', 'ISR-TO-1.ST', 'CLR', 'OVB.L', 'SF.ST', 'XINT.ST', 'SNBR', 'ABBV', 'BRKS', 'ITCI', 'SXI', 'PEGRO-PREF.ST', 'IGUS.L', 'HTZ', 'LEGH', 'LEX.ST', 'WNRG.L', 'MRTN', '24STOR.ST', 'DS', 'SWEF.L', 'KIDS', 'FEYE', 'OCN.L', 'MBI', '88E.L', 'ARCB', 'NPINV.CO', 'WSBF', 'EDV', 'WCH.L', 'LCAS.L', 'ELM.L', 'QFI.L', 'USCR', 'AFX.L', 'AFSU.L', 'FBND', 'FIZZ', 'RING', 'NILS.ST', 'SG86.L', 'VJPN.L', 'IGLB', 'MPX', 'LUTR.L', 'SCHO.L', 'GNL', 'COOP', 'AT', 'PCY', 'EVRI', 'PROV', 'HEAT.L', 'AERI', 'LNTH', 'WNDU.L', 'GBLI', 'XLIP.L', 'MYGN', 'CNA.L', 'AAU.L', 'AVY', 'FRAF', 'PFG', 'PTVCB', 'HHV.L', 'SPMD', 'HMLD.L', 'OPTI.ST', 'BBSU.L', 'RGD.L', 'SUSW.L', 'PHP.L', 'AZO', 'MAV4.L', 'SBRT.L', 'UB01.L', 'MAIL.L', '0MKJ.L', 'SPAR', 'IDEA.L', 'CNR', 'CMRE', 'CES1.L', 'CODA', 'ITEP.L', 'BDX', 'IDAR.L', 'SIEB', 'RBOD.L', 'VGR', 'IDUP.L', 'FCAP', 'TRT.L', 'MINV.L', 'CWD.L', 'CHMG', 'TCBK', 'NMRK', 'DXGP.L', 'SBUY.L', 'CMBM', 'ZM', 'FREM.L', 'AJG', 'NANOFS.ST', 'SPSC', 'EOG', 'ALRS', 'TECS.L', 'BMI', 'FHI', 'TDY', 'BBH.L', 'LIVI.ST', 'CFMS', 'ONEY', 'CEMG.L', 'QCOM', 'FCNCA', 'AM', 'EGBN', 'JNKS.L', 'ESGB.L', 'MYFC-TO2.ST', 'BUT.L', 'SEAG.L', 'MAV.ST', 'VNRA.L', 'ASEI.L', 'ATNX', 'VP.L', 'RECN', 'TREC', 'MCM.L', 'HURN', 'QLIFE.ST', 'HAL', 'IUCS.L', 'FLRK.L', 'LDL', 'PNS.L', 'ROAD', 'BEE.L', 'SDUE.L', 'ISFR.L', 'JRUB.L', 'DJS.CO', 'IEFA', 'XMPT', 'NXKE.L', 'TAGM-B.ST', 'NTCT', 'CWK', 'SXLY.L', 'SAG.L', 'NOG.L', 'CASP.L', 'TPCO', 'LOCK.L', 'URGN', 'KONSOL.CO', 'IEI', 'XGID.L', 'XPHG.L', 'AXNX', 'MEUG.L', 'SQZ.L', 'RIUG.L', 'XDEB.L', 'EMUU.L', 'IIT.L', 'GCE', 'BR', 'APA', 'AXLA', 'MNKD', 'UC13.L', 'DGE.L', 'CCOI', 'DGSD.L', 'VLS.L', 'XMAF.L', 'CCMP', 'GLB.L', 'LOWE.L', 'IIVI', 'XMEU.L', 'UCG.L', 'SPG', 'H50E.L', 'VEIL.L', 'CVM', 'BRIG-TO5.ST', 'DSG.L', 'JPMF.L', 'QQ.L', 'DOC', 'SLY', 'JAM.L', 'CRU.L', 'IHY', 'ABBY.L', 'VTHR', 'EGP', 'MINT', 'CTT', 'XMUD.L', 'AMGO.L', 'SHLD.L', 'MLVN.L', 'BGHS.L', 'YIEL.L', 'VOE', 'MAXF-TO1.ST', 'HMYD.L', 'SXLU.L', 'DAL', 'IMAX', 'XDUS.L', 'ANF', 'TORC', 'ROBG.L', 'JAX', '0MKF.L', 'CARE', 'CBNK', 'SYV', 'IDEM.L', 'IMVU.L', 'SPLB', 'ACWU.L', 'ACGL', 'ARWR', 'VIN.L', 'CCB', 'OXDX.L', 'XDWC.L', 'XENT', 'WIN.L', 'EL', 'SCHA', 'SPT.L', 'SAJP.L', 'MBO.L', 'CBE3.L', 'HMLH.L', 'OIH.L', 'FDEF', 'PRGX', 'EXAS', 'BGG', 'PKW', 'GHM', 'SANM', 'HMXJ.L', 'TED.L', 'GTS', 'FRPH', 'SDV.L', 'PGNX', 'VNC.L', 'VOLAB.ST', 'KAKEL.ST', 'DJD', 'LKOR', 'IEFS.L', 'ALFA.L', 'SALT', 'WPAY.ST', 'TRX.L', 'TERP', 'XWLD.L', 'DCOM', 'SAIN.L', 'SGLO.L', 'CARR.L', 'XLFS.L', 'PRGB.L', 'BLTG.L', 'LH', 'GOO2.L', 'J13E.L', 'BSET', 'OSUR', 'BAB.L', 'ALGW.L', 'CORA.L', 'BSGM', 'FEET.L', 'XDUK.L', 'LBTYK', 'EDVD.L', 'LSIL.L', 'SCGL.L', 'AAIF.L', 'RBLN-B.CO', 'EWM', 'RTW', 'GPX.ST', 'EFFP.ST', 'HKOR.L', 'SPIP', 'S400.L', 'CTBI', 'BSUS.L', 'GCP', 'BG', 'TGL.L', 'IHYE.L', 'REPL', 'RUSHA', 'MTE.L', 'RO.ST', 'PXLV', 'CXW', 'WAAS', 'HLI', 'FYNBK.CO', 'TRTX', 'CNXN', 'PENNEO.CO', 'XMEM.L', 'RHI', 'JREG.L', 'CVX', 'SPYX', 'CTRA', 'XUEK.L', 'DPA.L', 'DOV', 'EMUM.L', 'BXMT', 'IESG.L', 'FULT', 'MNLO', 'PRUC.L', 'RLGY', 'MAI.L', 'ECOL', 'FBRT.L', 'BSC.L', 'SUGA.L', 'VXF', 'WNEB', 'CHAR.L', 'VVI', 'PSCH', 'EOLS', 'UTLG.L', 'PPIX.L', 'DEM.L', 'TROX', 'LMNR', 'KWG.L', 'SEPL.L', 'HYVE.L', 'CHRS', 'MSAP.L', 'IBGY.L', 'VBTX', 'BKD', 'HMTV', 'ICD', 'SO4.L', 'FNKO', 'SYRS', 'RGCO', 'GMED', 'SPPI', 'UC46.L', 'HDLG.L', 'CCR.L', 'ALF.L', 'LIDDS.ST', 'DFS.L', 'DISCA', 'R2SC.L', 'AMAT.L', 'ADDERA.ST', 'IEEU.L', 'RGP.L', 'PHD.L', 'SUSC.L', 'MHK', 'ARGO', 'HYEM', 'LQDH.L', 'FRME', 'HI', 'AZZ', 'MTHH.CO', 'FICO', 'FREU.L', 'GEMD.L', 'DATA.L', 'GWRS', 'DOME.ST', 'FORR', 'TEP.L', 'GACB.L', 'IDBT.L', 'PYPL', 'CFFN', 'APLS', 'CRNL.L', 'EXPRS2.ST', 'VIOO', 'FSEU.L', 'RPV', 'UBFO', 'HOC.L', 'D', 'XUCD.L', 'MYE', 'FF', 'VWO', 'OTMP.L', 'COTN.L', 'RICA.L', 'LCOR.L', 'JMAB.L', 'PAAL-B.CO', 'EIMU.L', 'ENERS-TO-1.ST', 'IBB', '0MKR.L', 'RLH', 'LGEG.L', 'ITEH.L', 'SAMG', 'CRY', 'XDDX.L', 'FNDF', 'GGRA.L', 'GSIT', 'BXS', 'INT', 'OBOYA-B.ST', 'DIN', 'STS.L', 'CASH.L', 'BHIB.L', 'PEBO', 'IBCD', 'MTRO.L', 'SRP.L', 'KAI', 'JAY.L', 'IWM', 'XLUP.L', 'HYST.L', 'UNF', 'ETR', 'IGLN.L', 'FOOT-PREF.ST', 'BEAT', 'CATH', 'SFTR.ST', 'AX', 'FEUI.L', 'XDEV.L', 'EFIM.L', 'RIUS.L', 'IUSZ.L', 'VLO', 'PSSL.L', 'CBTX', 'ZEUS', 'PBIP', 'AGOU.L', 'SOLT-BTA.ST', 'HBCP', 'LLOY.L', 'SMRG.L', 'RNET', 'JPNL.L', 'XXII', 'SERT.ST', 'GLV.L', 'EFC', 'ATRS', 'INVE-B.ST', 'GHE.L', 'LTI.L', 'FRGE.L', 'ACC', 'CFISH.ST', 'JEST.L', 'HDIV.L', 'CU31.L', 'LAUR', 'DLTH', 'SFR.L', 'TCS.L', 'BERI.L', 'HMN', 'KUW8.L', 'STABL-TO1.ST', 'INDEX.ST', 'TSTL.L', 'GALT', 'EIGI', 'ALNY', 'ROBE.L', 'CCH.L', 'ENPH', 'REX', 'MNR', 'JTC.L', 'GPRE', 'GENL.L', 'SDIP-B.ST', 'ALBO', 'HASI', 'RIGD.L', 'JMAT.L', 'WIL.L', 'XT2D.L', 'HCA', 'BFST', 'TI1.L', 'LLNW', 'BIOWKS.ST', 'STAA', 'CLON.L', 'ESSA', '2CUREX-TO1.ST', 'FLIC', 'FFR', 'RYF', 'RENX.L', 'CIX', 'FHLC', 'KDR.L', 'MO', 'LAS.L', 'IWL', 'IBTL.L', 'IYC', 'ICGC.L', 'ACROUD.ST', 'IJPH.L', 'CRU1.L', 'MBII', 'HEFA', 'POS.L', 'IEBB.L', 'IXI.L', 'MVOL.L', 'RDT.L', 'WYNN', 'IEFQ.L', 'MANO.L', 'MPL.L', 'AMAT', 'ROCK.L', 'RBW.L', 'KAPE.L', 'CAMP', 'XMAD.L', 'EXPI', 'PIP.L', 'GHS.L', 'RLI', 'MGC', 'LUXU.L', 'VENC.L', 'CTVA', 'MGP.L', 'EVER', 'VO', 'AZN.L', 'CLIM.L', 'CN1.L', 'RM.L', 'ADMA', 'IME.L', 'WIRTEK.CO', 'VDJP.L', 'FTAL.L', 'HYG.L', 'MGNS.L', 'AT1P.L', 'NKE', 'SCOUT.ST', 'GABA.ST', 'TRES.L', 'PEGI', 'XSTR.L', 'RAI.L', 'PFS', 'TST.L', 'GCAP', 'IDTP.L', 'NGS', 'TCS', 'CRW.L', 'ISUS.L', 'XPHI.L', 'BIIB', 'EQLT', 'BRW.L', 'MFIN', 'FG', 'XCX4.L', 'BYGGP.ST', 'ADDV-A.ST', 'IMI.L', 'EFIW.L', 'ICE', 'SIXH.L', 'CBPX', 'SMMF', 'HMI.L', 'DPEU.L', 'PMO.L', 'MDBU.L', 'TERRNT-TO2-B.ST', 'EVFM', 'GERHSP.CO', 'DHI', 'VSTO', 'HONE', 'XRSS.L', 'YNGN.L', 'SMEA.L', 'DVN', 'HYDR.L', 'EGHT', 'SWIM.L', 'KW', 'HKOD.L', 'ALTN.L', 'XMUJ.L', 'ECOM', 'ACIW', 'ALMB.CO', 'AMRC', 'HYG', 'TNC', 'BGS', 'SWM', 'SYNL', 'SNIK.L', 'VAPX.L', 'IGLT.L', 'WKP.L', 'SPLV', 'CAT.L', 'UTIL.L', 'BP.L', 'HSII', 'AWK', 'BRBY.L', 'BKE', 'SAE.L', 'XDWM.L', 'SUSU.L', 'PANR.L', 'IUAA.L', 'UB03.L', 'ALK', 'COMBI-TO-4.ST', 'LKQ', 'DFE.L', 'CORE', 'CGW.L', 'MCB', 'UC03.L', '0E13.L', 'DHSA.L', 'MMM', 'INSM', 'GSY', 'DOW', 'SONE.ST', 'ROBO', 'AUAD.L', 'IEVL.L', 'EGNETY.CO', 'OMU.L', 'ATAD.L', 'GNRC', 'CNTY', 'EUCO.L', 'XMCX.L', 'DRIL.ST', 'AMWD', 'MSEU.L', 'INVAJO.ST', 'RIAS-B.CO', 'FEM', 'SONM', 'LEMD.L', 'NP', 'LGBP.L', 'IQDY', 'SDX.L', 'IJPD.L', 'FUSA.L', 'ARL', 'PXC.L', 'CXAU.L', 'ONDK', 'XMTD.L', 'LUV', 'ECAR.L', 'EWL', 'NCSM', 'TERN.L', 'NRDF.CO', 'EEDS.L', 'AAA.ST', 'DEMA.L', 'MEL.L', 'MINT.L', 'USPH', 'LJPC', 'COLB', 'TOTA.CO', 'BRIG-TO4.ST', 'CORO.L', 'TREG.L', 'DOCT.L', 'CVCO', 'XSPU.L', 'UE', 'WLDL.L', 'AEO', '0HCU.L', 'LGCF.L', 'CAL.L', '0DZX.L', 'HMYR.L', 'AT1D.L', 'WESG.L', 'SXLC.L', 'FTEK.L', 'GTLY.L', 'USHF.L', 'SPLT.L', 'RRR.L', 'DBEF', 'AAON', 'XSGI.L', 'DFS', 'LNC', 'IAI', 'CRC.L', 'EUAG.L', 'MDZ.L', 'ROSN.L', 'PRTC.L', 'ELY', 'PEY', 'NVAX', 'HUD', 'CE71.L', 'USP3.L', 'AV.L', 'HZM.L', 'VLE.L', 'OCFC', 'CIVB', '0E46.L', 'EMQP.L', 'SOYB.L', 'AMBU-B.CO', 'LFVN', 'REGN', 'NXTC', 'XRAY', 'GDXJ.L', 'SWX', 'GHL', 'FGBI', 'HPRO.L', 'CVSG.L', 'PIRS', 'CARD.L', 'VCR', 'FYX.L', 'TRN.L', 'TRANS.ST', 'SNA', 'PRO', 'MNTC.ST', 'FAST', 'IMBA.L', 'POG.L', 'UIHC', 'ANIC.L', 'ARTL.L', 'XNCR', '0HFH.L', 'EEWD.L', 'QTS', 'IDCC', 'CONN', 'CUR.ST', 'CERC', 'OBAB.ST', 'CHUY', 'CPS.L', 'ICSU.L', 'EMGB.L', 'SUSM.L', 'XDWU.L', 'FLTR.L', 'SLXIT.CO', 'LCOP.L', 'BGO.L', 'X7PP.L', 'IEAH.L', 'ZTF.L', 'MSTR', 'NE', 'ATHENA.CO', 'IDBZ.L', 'UTLE.L', 'AERO.ST', 'TAM.L', 'GPS', 'LILAK', 'PSI', 'FOXT.L', 'NATR', 'FNCL', 'HRNTS.ST', 'SDL.L', 'AT1.L', 'SAMPO.HE', 'AAN', 'UB39.L', 'CLEM.ST', 'RDL.L', 'GWGH', 'PETB.L', 'PRSP', 'CRNX', 'TRB.L', 'AOA', 'HUBG', 'PUTS.L', 'SWLD.L', 'CVIA', 'EBSB', 'ARGO.L', 'SAH', 'IUQD.L', 'IOM.L', 'TCM.CO', 'NRAM.L', 'SPMV.L', 'FTV', 'ISCF', 'TRSY.L', 'ROST', 'DGRP.L', 'UC44.L', 'JURE.L', 'CCP.L', 'PRMW', 'GROW.L', 'XDWY.L', 'FLO5.L', 'RICO.L', 'BAKK.L', 'AAB.CO', 'AL', 'KEYS', 'LORL', 'IBCP', 'AAOG.L', 'PRAA', 'EXP', 'ELTA.L', 'FFG', 'COGO.L', 'CIM', 'IWY', 'NBTB', 'LJP3.L', 'CRM', 'NNBR', 'CHAP', 'SHY', 'SMUD.L', 'ADI', 'BXG', 'SVM.L', 'VZ', 'TSL.L', 'DOTD.L', 'NVRO', 'VAGP.L', 'NWN', 'TSN', 'SG77.L', 'XLFQ.L', 'FDEV.L', 'MDCA', 'SDUS.L', 'ISFD.L', 'MWY.L', 'FKU.L', 'LOGC', 'STUB.L', 'AJG.L', 'AUSE', 'LNTA.L', 'AMCX', 'SPSB', 'MGV', 'JREE.L', 'DK', 'AVX', 'NCCL.L', 'PFF', 'SUS.L', 'PURP.L', 'TTA.L', 'VISE.L', 'UPR.L', 'XDEX.L', 'COBR.L', 'FLUI.ST', 'SUES.L', 'FR', 'IHYG.L', 'TOURN.ST', 'XRSG.L', 'FLX.L', 'CWFG.L', 'JNKE.L', 'SMEU.L', 'YCBD', 'CNS', 'TPTX', 'JD', 'PSNL', 'IPG', 'ARTNA', 'LTG.L', 'IEDY.L', 'GLT', 'DPZ', 'MC', 'IAPD.L', 'SSIF.L', 'CIT', 'QED', 'SGEN', 'BDGE', 'NAH.L', 'GRTB.L', 'GRP.L', 'ZIOC.L', 'SPEONE.ST', 'ADVM', 'FIL.ST', 'MMTM', 'MXEU.L', 'BOH', 'AVTR', 'CRAU.L', 'ISLN.L', 'DNK.L', 'TFX', 'BOY.L', 'BLVIS-A.CO', 'NVT.L', 'CL', 'VGOV.L', 'BSVN', 'SLCA', 'KSU', 'SILK', 'JLP.L', 'EVLO', 'BSV', 'NESR', 'TTI', 'JRVR', 'WHG', 'JPST.L', 'XGSI.L', 'CHDN', 'MRCY', 'CLG.L', 'PIRI.L', 'SD', 'ACN', 'ITX.L', 'CVGW', 'STABL.ST', 'WERN', 'OSI.L', 'TMP', 'PLZL.L', 'TOT.L', 'UC93.L', 'RUSG.L', 'QUOT', 'HD', 'UEC', 'VYM', 'BRKR', 'GIS', 'XLV', 'MKA.L', 'HAT.L', 'HMEF.L', 'TRNS', 'I', 'CBSE.L', 'IAT.L', 'PVN.L', 'XFFE.L', '0G34.L', 'CSWG.L', 'AVA', 'QLIFE-TO1.ST', 'AFN.L', 'EXPE', 'BRND.L', 'PZA', 'XG7S.L', 'XFVT.L', 'HLQD.L', 'AIAI.L', 'IQE.L', '0E3I.L', 'QTWO', 'SCWX', 'DXJA.L', 'WDFC', 'JIM.L', 'SMBC', 'AFI', 'VC', 'SHOP', 'ADP', 'PTN', 'WTB.L', 'SGEA.L', 'LCUK.L', 'SPGP.L', 'BYG.L', 'DORM', 'FLMN', 'MTX', 'MGNX', 'IMAIL.CO', 'ATHX', 'FLOW', 'ASIZ.L', 'SDIG.L', 'PDLI', 'RLGT', 'SAGA.L', 'BKI', 'UHS', 'NZYM-B.CO', 'SLYG', 'CAC', 'GCBC', 'FDN.L', 'FRBA', 'INFN', 'GM', 'MDP', 'KMR.L', 'ESGD', 'SKAKO.CO', 'AVNT', 'KRNY', 'DDS', 'COWN', 'VHC', 'SWKS', 'JDT-TR.ST', 'TPH', 'GGP.L', 'TRIN.L', 'CJ1G.L', 'RCL', 'RIII.L', 'SGVB.L', 'BME.L', 'MTIX.L', 'IWDG.L', 'CALL.L', 'FGP.L', 'AGO', 'SIG.L', 'FGEN', 'FXPO.L', 'SMT.L', 'DBRC.L', 'HEDS.L', 'IEMA.L', 'TWIN', 'SONA', 'S7XP.L', 'UC81.L', 'IFFF.L', 'FAS.L', 'ESPR', 'BBX', 'LE', 'IDE.L', 'BJ', 'AGBP.L', 'LILA', 'IZAFE-B.ST', 'VDCP.L', 'ISR.ST', 'SBS.CO', 'MNP.L', 'VECP.L', 'CDZI', 'BRP', 'ROLL', 'EVOP', 'AGL.L', 'RBREW.CO', 'ALG', 'CECD.L', 'ICOM.L', 'EIG', 'SHI.L', 'TRXC', 'CBRAIN.CO', 'CTL', 'OLBK', 'IGSB', 'PTR.L', 'DFIN', 'VAR', 'SYDB.CO', 'APP.L', 'QDEL', 'VYMI', 'NICL.L', 'FTSI', 'COKE', 'BOWL.L', 'AWR', 'EA', 'SCHL', 'INDB', 'VRNT', 'PSON.L', 'CCO', 'MPAA', 'ZYXI', 'SML.L', 'CIN.L', 'SUJP.L', 'NHC', 'FOSL', 'PCOM-B.ST', 'UFI', 'HSPD.L', 'KN', 'EUMV.L', 'SUM', 'WSFS', 'SPPT.L', 'GLTL.L', 'ACWI', 'PAF.L', 'PHPM.L', 'BNC.L', 'MCON.L', 'GAMA.L', 'SNR.L', 'AGZ', 'LASR', 'KLAC', 'CNC.L', 'CLBIO.ST', 'AWRD.ST', 'LLPE.L', 'RDSB.L', 'STORY-B.ST', 'AGGU.L', 'SG84.L', 'LCUS.L', 'WWH.L', 'AGAT.CO', 'IES.L', 'SGBX.L', 'SEE', 'SEML.L', 'ORA', 'BWB', 'FSJ.L', 'SCOR', 'PHAR.L', 'ICP.L', 'HWKN', 'YCA.L', 'VCYT', 'SUP5.L', 'NBB.L', 'IGC.L', 'MATX', 'PFSI', 'APH.L', 'MGEE', 'MESA', 'JPST', 'NGVT', 'EQQQ.L', 'PLD', 'NI', 'CSWI', 'TRS3.L', 'GBDV.L', 'FET', 'NDA-SE.ST', 'ARCOMA.ST', 'JHMF', 'AGT.L', 'ENGY.L', 'NSC', 'LEG', 'DON', 'INST', 'BGUK.L', 'EYPT', 'TUNG.L', 'SNGR.L', 'CXO', 'FLXC.L', 'CELH', 'VDPG.L', 'LJPY.L', 'LALU.L', 'STRO', 'HEDK.L', 'FIVE.L', 'PRIM.L', 'COM.L', 'BGFD.L', 'FEX.L', 'FTHI', 'TYL', 'GFIN.L', 'LKFN', 'MDGL', 'UANC.L', 'SLN.L', 'EPAY', 'WEYS', 'VUSD.L', 'AASG.L', 'XS8R.L', 'LRCX', 'INRG.L', 'IISU.L', 'HURC', 'CIA', 'BIDS.L', 'CTMX', 'MXFS.L', 'MOGP.L', 'AMTB', 'SPAG.L', 'WHR', 'MYX.L', 'COA.L', 'HSM.L', 'MLR', 'XYL', 'IUMD.L', 'FOM.CO', 'UMBF', 'LAWS', 'MNK', 'BCHN.L', 'HEDG.L', 'MORT', 'SLCT', 'NWSA', 'HON', 'DPLM.L', 'AMT', 'ATMA.L', 'FLOS.L', 'LND.L', 'SBIO.L', 'AXSM', 'ALLY', 'KONT.ST', 'UB0A.L', 'FPX.L', 'IESC', 'XLC', 'JMF.L', 'FMC', 'LCTX', 'ROCK-B.CO', 'DG', 'AVT', 'HYLD.L', 'SIS.L', 'DESE.L', 'WNGE.L', 'JGSA.L', 'JELD', 'SAWD.L', 'AKBA', 'MAXF.ST', 'DPYA.L', 'ATKR', 'PFG.L', 'WSR', 'CLF', 'SBB-PREF.ST', 'QRVO', 'RSAB.L', 'HONY.L', 'CYS.L', 'FFNW', 'HTRD.L', 'AVG.L', 'TXP.L', 'ECOG.L', 'VV', 'SG88.L', 'MANTEX-TO3.ST', 'WOSG.L', 'PRE.L', 'GSF.L', 'IOSP', 'GHII', 'STW.ST', 'VYGR', 'BULP.L', 'PZT', 'OSG', 'EFRN.L', 'MVAU.L', 'PEY.L', 'MEC']\n",
      "['SPY', 'EZA']\n"
     ]
    }
   ],
   "source": [
    "tickers = ['SPY', 'EZA', 'ASTGRPJ.CO']\n",
    "#timeit.timeit(\"stocks = download_tickers(tickers)\", \"from __main__ import download_tickers, tickers\", number=1)\n",
    "stocks = download_tickers(tickers)"
   ]
  },
  {
   "cell_type": "code",
   "execution_count": 229,
   "metadata": {},
   "outputs": [
    {
     "data": {
      "text/html": [
       "<div>\n",
       "<style scoped>\n",
       "    .dataframe tbody tr th:only-of-type {\n",
       "        vertical-align: middle;\n",
       "    }\n",
       "\n",
       "    .dataframe tbody tr th {\n",
       "        vertical-align: top;\n",
       "    }\n",
       "\n",
       "    .dataframe thead tr th {\n",
       "        text-align: left;\n",
       "    }\n",
       "\n",
       "    .dataframe thead tr:last-of-type th {\n",
       "        text-align: right;\n",
       "    }\n",
       "</style>\n",
       "<table border=\"1\" class=\"dataframe\">\n",
       "  <thead>\n",
       "    <tr>\n",
       "      <th>Stock ticker</th>\n",
       "      <th colspan=\"6\" halign=\"left\">SPY</th>\n",
       "      <th colspan=\"6\" halign=\"left\">EZA</th>\n",
       "    </tr>\n",
       "    <tr>\n",
       "      <th>Data type</th>\n",
       "      <th>Open</th>\n",
       "      <th>High</th>\n",
       "      <th>Low</th>\n",
       "      <th>Close</th>\n",
       "      <th>Adj Close</th>\n",
       "      <th>Volume</th>\n",
       "      <th>Open</th>\n",
       "      <th>High</th>\n",
       "      <th>Low</th>\n",
       "      <th>Close</th>\n",
       "      <th>Adj Close</th>\n",
       "      <th>Volume</th>\n",
       "    </tr>\n",
       "    <tr>\n",
       "      <th>Date</th>\n",
       "      <th></th>\n",
       "      <th></th>\n",
       "      <th></th>\n",
       "      <th></th>\n",
       "      <th></th>\n",
       "      <th></th>\n",
       "      <th></th>\n",
       "      <th></th>\n",
       "      <th></th>\n",
       "      <th></th>\n",
       "      <th></th>\n",
       "      <th></th>\n",
       "    </tr>\n",
       "  </thead>\n",
       "  <tbody>\n",
       "    <tr>\n",
       "      <td>1993-01-29</td>\n",
       "      <td>43.968750</td>\n",
       "      <td>43.968750</td>\n",
       "      <td>43.750000</td>\n",
       "      <td>43.937500</td>\n",
       "      <td>26.184059</td>\n",
       "      <td>1003200</td>\n",
       "      <td>NaN</td>\n",
       "      <td>NaN</td>\n",
       "      <td>NaN</td>\n",
       "      <td>NaN</td>\n",
       "      <td>NaN</td>\n",
       "      <td>NaN</td>\n",
       "    </tr>\n",
       "    <tr>\n",
       "      <td>1993-02-01</td>\n",
       "      <td>43.968750</td>\n",
       "      <td>44.250000</td>\n",
       "      <td>43.968750</td>\n",
       "      <td>44.250000</td>\n",
       "      <td>26.370279</td>\n",
       "      <td>480500</td>\n",
       "      <td>NaN</td>\n",
       "      <td>NaN</td>\n",
       "      <td>NaN</td>\n",
       "      <td>NaN</td>\n",
       "      <td>NaN</td>\n",
       "      <td>NaN</td>\n",
       "    </tr>\n",
       "    <tr>\n",
       "      <td>1993-02-02</td>\n",
       "      <td>44.218750</td>\n",
       "      <td>44.375000</td>\n",
       "      <td>44.125000</td>\n",
       "      <td>44.343750</td>\n",
       "      <td>26.426161</td>\n",
       "      <td>201300</td>\n",
       "      <td>NaN</td>\n",
       "      <td>NaN</td>\n",
       "      <td>NaN</td>\n",
       "      <td>NaN</td>\n",
       "      <td>NaN</td>\n",
       "      <td>NaN</td>\n",
       "    </tr>\n",
       "    <tr>\n",
       "      <td>1993-02-03</td>\n",
       "      <td>44.406250</td>\n",
       "      <td>44.843750</td>\n",
       "      <td>44.375000</td>\n",
       "      <td>44.812500</td>\n",
       "      <td>26.705482</td>\n",
       "      <td>529400</td>\n",
       "      <td>NaN</td>\n",
       "      <td>NaN</td>\n",
       "      <td>NaN</td>\n",
       "      <td>NaN</td>\n",
       "      <td>NaN</td>\n",
       "      <td>NaN</td>\n",
       "    </tr>\n",
       "    <tr>\n",
       "      <td>1993-02-04</td>\n",
       "      <td>44.968750</td>\n",
       "      <td>45.093750</td>\n",
       "      <td>44.468750</td>\n",
       "      <td>45.000000</td>\n",
       "      <td>26.817228</td>\n",
       "      <td>531500</td>\n",
       "      <td>NaN</td>\n",
       "      <td>NaN</td>\n",
       "      <td>NaN</td>\n",
       "      <td>NaN</td>\n",
       "      <td>NaN</td>\n",
       "      <td>NaN</td>\n",
       "    </tr>\n",
       "    <tr>\n",
       "      <td>...</td>\n",
       "      <td>...</td>\n",
       "      <td>...</td>\n",
       "      <td>...</td>\n",
       "      <td>...</td>\n",
       "      <td>...</td>\n",
       "      <td>...</td>\n",
       "      <td>...</td>\n",
       "      <td>...</td>\n",
       "      <td>...</td>\n",
       "      <td>...</td>\n",
       "      <td>...</td>\n",
       "      <td>...</td>\n",
       "    </tr>\n",
       "    <tr>\n",
       "      <td>2020-08-31</td>\n",
       "      <td>350.350006</td>\n",
       "      <td>351.299988</td>\n",
       "      <td>349.059998</td>\n",
       "      <td>349.309998</td>\n",
       "      <td>349.309998</td>\n",
       "      <td>66099200</td>\n",
       "      <td>37.759998</td>\n",
       "      <td>37.759998</td>\n",
       "      <td>36.930000</td>\n",
       "      <td>37.169998</td>\n",
       "      <td>37.169998</td>\n",
       "      <td>753200.0</td>\n",
       "    </tr>\n",
       "    <tr>\n",
       "      <td>2020-09-01</td>\n",
       "      <td>350.209991</td>\n",
       "      <td>352.709991</td>\n",
       "      <td>349.239990</td>\n",
       "      <td>352.600006</td>\n",
       "      <td>352.600006</td>\n",
       "      <td>54999300</td>\n",
       "      <td>38.430000</td>\n",
       "      <td>38.470001</td>\n",
       "      <td>38.049999</td>\n",
       "      <td>38.360001</td>\n",
       "      <td>38.360001</td>\n",
       "      <td>340800.0</td>\n",
       "    </tr>\n",
       "    <tr>\n",
       "      <td>2020-09-02</td>\n",
       "      <td>354.670013</td>\n",
       "      <td>358.750000</td>\n",
       "      <td>353.429993</td>\n",
       "      <td>357.700012</td>\n",
       "      <td>357.700012</td>\n",
       "      <td>69540000</td>\n",
       "      <td>37.619999</td>\n",
       "      <td>37.660000</td>\n",
       "      <td>37.110001</td>\n",
       "      <td>37.580002</td>\n",
       "      <td>37.580002</td>\n",
       "      <td>538200.0</td>\n",
       "    </tr>\n",
       "    <tr>\n",
       "      <td>2020-09-03</td>\n",
       "      <td>355.869995</td>\n",
       "      <td>356.380005</td>\n",
       "      <td>342.589996</td>\n",
       "      <td>345.390015</td>\n",
       "      <td>345.390015</td>\n",
       "      <td>147485600</td>\n",
       "      <td>37.070000</td>\n",
       "      <td>37.200001</td>\n",
       "      <td>36.259998</td>\n",
       "      <td>36.650002</td>\n",
       "      <td>36.650002</td>\n",
       "      <td>509800.0</td>\n",
       "    </tr>\n",
       "    <tr>\n",
       "      <td>2020-09-04</td>\n",
       "      <td>346.130005</td>\n",
       "      <td>347.829987</td>\n",
       "      <td>334.880005</td>\n",
       "      <td>342.570007</td>\n",
       "      <td>342.570007</td>\n",
       "      <td>139156281</td>\n",
       "      <td>37.139999</td>\n",
       "      <td>37.457298</td>\n",
       "      <td>36.520000</td>\n",
       "      <td>37.189999</td>\n",
       "      <td>37.189999</td>\n",
       "      <td>582333.0</td>\n",
       "    </tr>\n",
       "  </tbody>\n",
       "</table>\n",
       "<p>6952 rows × 12 columns</p>\n",
       "</div>"
      ],
      "text/plain": [
       "Stock ticker         SPY                                                  \\\n",
       "Data type           Open        High         Low       Close   Adj Close   \n",
       "Date                                                                       \n",
       "1993-01-29     43.968750   43.968750   43.750000   43.937500   26.184059   \n",
       "1993-02-01     43.968750   44.250000   43.968750   44.250000   26.370279   \n",
       "1993-02-02     44.218750   44.375000   44.125000   44.343750   26.426161   \n",
       "1993-02-03     44.406250   44.843750   44.375000   44.812500   26.705482   \n",
       "1993-02-04     44.968750   45.093750   44.468750   45.000000   26.817228   \n",
       "...                  ...         ...         ...         ...         ...   \n",
       "2020-08-31    350.350006  351.299988  349.059998  349.309998  349.309998   \n",
       "2020-09-01    350.209991  352.709991  349.239990  352.600006  352.600006   \n",
       "2020-09-02    354.670013  358.750000  353.429993  357.700012  357.700012   \n",
       "2020-09-03    355.869995  356.380005  342.589996  345.390015  345.390015   \n",
       "2020-09-04    346.130005  347.829987  334.880005  342.570007  342.570007   \n",
       "\n",
       "Stock ticker                   EZA                                   \\\n",
       "Data type        Volume       Open       High        Low      Close   \n",
       "Date                                                                  \n",
       "1993-01-29      1003200        NaN        NaN        NaN        NaN   \n",
       "1993-02-01       480500        NaN        NaN        NaN        NaN   \n",
       "1993-02-02       201300        NaN        NaN        NaN        NaN   \n",
       "1993-02-03       529400        NaN        NaN        NaN        NaN   \n",
       "1993-02-04       531500        NaN        NaN        NaN        NaN   \n",
       "...                 ...        ...        ...        ...        ...   \n",
       "2020-08-31     66099200  37.759998  37.759998  36.930000  37.169998   \n",
       "2020-09-01     54999300  38.430000  38.470001  38.049999  38.360001   \n",
       "2020-09-02     69540000  37.619999  37.660000  37.110001  37.580002   \n",
       "2020-09-03    147485600  37.070000  37.200001  36.259998  36.650002   \n",
       "2020-09-04    139156281  37.139999  37.457298  36.520000  37.189999   \n",
       "\n",
       "Stock ticker                       \n",
       "Data type     Adj Close    Volume  \n",
       "Date                               \n",
       "1993-01-29          NaN       NaN  \n",
       "1993-02-01          NaN       NaN  \n",
       "1993-02-02          NaN       NaN  \n",
       "1993-02-03          NaN       NaN  \n",
       "1993-02-04          NaN       NaN  \n",
       "...                 ...       ...  \n",
       "2020-08-31    37.169998  753200.0  \n",
       "2020-09-01    38.360001  340800.0  \n",
       "2020-09-02    37.580002  538200.0  \n",
       "2020-09-03    36.650002  509800.0  \n",
       "2020-09-04    37.189999  582333.0  \n",
       "\n",
       "[6952 rows x 12 columns]"
      ]
     },
     "execution_count": 229,
     "metadata": {},
     "output_type": "execute_result"
    }
   ],
   "source": [
    "stocks"
   ]
  },
  {
   "cell_type": "code",
   "execution_count": 168,
   "metadata": {
    "collapsed": true,
    "jupyter": {
     "outputs_hidden": true
    }
   },
   "outputs": [
    {
     "ename": "ValueError",
     "evalue": "These `style` levels are missing dashes: {'MDUNDO.CO', 'NPINV.CO', 'ODICO.CO', 'GREENM.CO', 'HYPE.CO', 'STENO.CO', 'WATURU.CO', 'MONSO.CO', 'SHAPE.CO', 'LEDIBOND.CO', 'KONSOL.CO', 'HAPPY.CO', 'ERRIA.CO', 'FASTPC.CO', 'WIRTEK.CO', 'ENALYZ.CO', 'PENNEO.CO', 'SLXIT.CO', 'JOBNDX.CO', 'FOM.CO', 'VIRO.CO', 'HRC.CO', 'SCAPE.CO', 'ESOFT.CO'}",
     "output_type": "error",
     "traceback": [
      "\u001b[0;31m---------------------------------------------------------------------------\u001b[0m",
      "\u001b[0;31mValueError\u001b[0m                                Traceback (most recent call last)",
      "\u001b[0;32m<ipython-input-168-11e913b75018>\u001b[0m in \u001b[0;36m<module>\u001b[0;34m\u001b[0m\n\u001b[0;32m----> 1\u001b[0;31m \u001b[0msns\u001b[0m\u001b[0;34m.\u001b[0m\u001b[0mlineplot\u001b[0m\u001b[0;34m(\u001b[0m\u001b[0mdata\u001b[0m\u001b[0;34m=\u001b[0m\u001b[0mstocks\u001b[0m\u001b[0;34m.\u001b[0m\u001b[0mloc\u001b[0m\u001b[0;34m[\u001b[0m\u001b[0;34m:\u001b[0m\u001b[0;34m,\u001b[0m \u001b[0mstocks\u001b[0m\u001b[0;34m.\u001b[0m\u001b[0mcolumns\u001b[0m\u001b[0;34m.\u001b[0m\u001b[0mget_level_values\u001b[0m\u001b[0;34m(\u001b[0m\u001b[0;36m1\u001b[0m\u001b[0;34m)\u001b[0m\u001b[0;34m.\u001b[0m\u001b[0misin\u001b[0m\u001b[0;34m(\u001b[0m\u001b[0;34m[\u001b[0m\u001b[0;34m'Volume'\u001b[0m\u001b[0;34m]\u001b[0m\u001b[0;34m)\u001b[0m\u001b[0;34m]\u001b[0m\u001b[0;34m)\u001b[0m\u001b[0;34m\u001b[0m\u001b[0;34m\u001b[0m\u001b[0m\n\u001b[0m",
      "\u001b[0;32m~/opt/anaconda3/lib/python3.7/site-packages/seaborn/relational.py\u001b[0m in \u001b[0;36mlineplot\u001b[0;34m(x, y, hue, size, style, data, palette, hue_order, hue_norm, sizes, size_order, size_norm, dashes, markers, style_order, units, estimator, ci, n_boot, sort, err_style, err_kws, legend, ax, **kwargs)\u001b[0m\n\u001b[1;32m   1076\u001b[0m         \u001b[0mdashes\u001b[0m\u001b[0;34m=\u001b[0m\u001b[0mdashes\u001b[0m\u001b[0;34m,\u001b[0m \u001b[0mmarkers\u001b[0m\u001b[0;34m=\u001b[0m\u001b[0mmarkers\u001b[0m\u001b[0;34m,\u001b[0m \u001b[0mstyle_order\u001b[0m\u001b[0;34m=\u001b[0m\u001b[0mstyle_order\u001b[0m\u001b[0;34m,\u001b[0m\u001b[0;34m\u001b[0m\u001b[0;34m\u001b[0m\u001b[0m\n\u001b[1;32m   1077\u001b[0m         \u001b[0munits\u001b[0m\u001b[0;34m=\u001b[0m\u001b[0munits\u001b[0m\u001b[0;34m,\u001b[0m \u001b[0mestimator\u001b[0m\u001b[0;34m=\u001b[0m\u001b[0mestimator\u001b[0m\u001b[0;34m,\u001b[0m \u001b[0mci\u001b[0m\u001b[0;34m=\u001b[0m\u001b[0mci\u001b[0m\u001b[0;34m,\u001b[0m \u001b[0mn_boot\u001b[0m\u001b[0;34m=\u001b[0m\u001b[0mn_boot\u001b[0m\u001b[0;34m,\u001b[0m\u001b[0;34m\u001b[0m\u001b[0;34m\u001b[0m\u001b[0m\n\u001b[0;32m-> 1078\u001b[0;31m         \u001b[0msort\u001b[0m\u001b[0;34m=\u001b[0m\u001b[0msort\u001b[0m\u001b[0;34m,\u001b[0m \u001b[0merr_style\u001b[0m\u001b[0;34m=\u001b[0m\u001b[0merr_style\u001b[0m\u001b[0;34m,\u001b[0m \u001b[0merr_kws\u001b[0m\u001b[0;34m=\u001b[0m\u001b[0merr_kws\u001b[0m\u001b[0;34m,\u001b[0m \u001b[0mlegend\u001b[0m\u001b[0;34m=\u001b[0m\u001b[0mlegend\u001b[0m\u001b[0;34m,\u001b[0m\u001b[0;34m\u001b[0m\u001b[0;34m\u001b[0m\u001b[0m\n\u001b[0m\u001b[1;32m   1079\u001b[0m     )\n\u001b[1;32m   1080\u001b[0m \u001b[0;34m\u001b[0m\u001b[0m\n",
      "\u001b[0;32m~/opt/anaconda3/lib/python3.7/site-packages/seaborn/relational.py\u001b[0m in \u001b[0;36m__init__\u001b[0;34m(self, x, y, hue, size, style, data, palette, hue_order, hue_norm, sizes, size_order, size_norm, dashes, markers, style_order, units, estimator, ci, n_boot, sort, err_style, err_kws, legend)\u001b[0m\n\u001b[1;32m    670\u001b[0m         \u001b[0mself\u001b[0m\u001b[0;34m.\u001b[0m\u001b[0mparse_hue\u001b[0m\u001b[0;34m(\u001b[0m\u001b[0mplot_data\u001b[0m\u001b[0;34m[\u001b[0m\u001b[0;34m\"hue\"\u001b[0m\u001b[0;34m]\u001b[0m\u001b[0;34m,\u001b[0m \u001b[0mpalette\u001b[0m\u001b[0;34m,\u001b[0m \u001b[0mhue_order\u001b[0m\u001b[0;34m,\u001b[0m \u001b[0mhue_norm\u001b[0m\u001b[0;34m)\u001b[0m\u001b[0;34m\u001b[0m\u001b[0;34m\u001b[0m\u001b[0m\n\u001b[1;32m    671\u001b[0m         \u001b[0mself\u001b[0m\u001b[0;34m.\u001b[0m\u001b[0mparse_size\u001b[0m\u001b[0;34m(\u001b[0m\u001b[0mplot_data\u001b[0m\u001b[0;34m[\u001b[0m\u001b[0;34m\"size\"\u001b[0m\u001b[0;34m]\u001b[0m\u001b[0;34m,\u001b[0m \u001b[0msizes\u001b[0m\u001b[0;34m,\u001b[0m \u001b[0msize_order\u001b[0m\u001b[0;34m,\u001b[0m \u001b[0msize_norm\u001b[0m\u001b[0;34m)\u001b[0m\u001b[0;34m\u001b[0m\u001b[0;34m\u001b[0m\u001b[0m\n\u001b[0;32m--> 672\u001b[0;31m         \u001b[0mself\u001b[0m\u001b[0;34m.\u001b[0m\u001b[0mparse_style\u001b[0m\u001b[0;34m(\u001b[0m\u001b[0mplot_data\u001b[0m\u001b[0;34m[\u001b[0m\u001b[0;34m\"style\"\u001b[0m\u001b[0;34m]\u001b[0m\u001b[0;34m,\u001b[0m \u001b[0mmarkers\u001b[0m\u001b[0;34m,\u001b[0m \u001b[0mdashes\u001b[0m\u001b[0;34m,\u001b[0m \u001b[0mstyle_order\u001b[0m\u001b[0;34m)\u001b[0m\u001b[0;34m\u001b[0m\u001b[0;34m\u001b[0m\u001b[0m\n\u001b[0m\u001b[1;32m    673\u001b[0m \u001b[0;34m\u001b[0m\u001b[0m\n\u001b[1;32m    674\u001b[0m         \u001b[0mself\u001b[0m\u001b[0;34m.\u001b[0m\u001b[0munits\u001b[0m \u001b[0;34m=\u001b[0m \u001b[0munits\u001b[0m\u001b[0;34m\u001b[0m\u001b[0;34m\u001b[0m\u001b[0m\n",
      "\u001b[0;32m~/opt/anaconda3/lib/python3.7/site-packages/seaborn/relational.py\u001b[0m in \u001b[0;36mparse_style\u001b[0;34m(self, data, markers, dashes, order)\u001b[0m\n\u001b[1;32m    492\u001b[0m \u001b[0;34m\u001b[0m\u001b[0m\n\u001b[1;32m    493\u001b[0m             dashes = self.style_to_attributes(\n\u001b[0;32m--> 494\u001b[0;31m                 \u001b[0mlevels\u001b[0m\u001b[0;34m,\u001b[0m \u001b[0mdashes\u001b[0m\u001b[0;34m,\u001b[0m \u001b[0mself\u001b[0m\u001b[0;34m.\u001b[0m\u001b[0mdefault_dashes\u001b[0m\u001b[0;34m,\u001b[0m \u001b[0;34m\"dashes\"\u001b[0m\u001b[0;34m\u001b[0m\u001b[0;34m\u001b[0m\u001b[0m\n\u001b[0m\u001b[1;32m    495\u001b[0m             )\n\u001b[1;32m    496\u001b[0m \u001b[0;34m\u001b[0m\u001b[0m\n",
      "\u001b[0;32m~/opt/anaconda3/lib/python3.7/site-packages/seaborn/relational.py\u001b[0m in \u001b[0;36mstyle_to_attributes\u001b[0;34m(self, levels, style, defaults, name)\u001b[0m\n\u001b[1;32m    303\u001b[0m             \u001b[0;32mif\u001b[0m \u001b[0many\u001b[0m\u001b[0;34m(\u001b[0m\u001b[0mmissing_levels\u001b[0m\u001b[0;34m)\u001b[0m\u001b[0;34m:\u001b[0m\u001b[0;34m\u001b[0m\u001b[0;34m\u001b[0m\u001b[0m\n\u001b[1;32m    304\u001b[0m                 \u001b[0merr\u001b[0m \u001b[0;34m=\u001b[0m \u001b[0;34m\"These `style` levels are missing {}: {}\"\u001b[0m\u001b[0;34m\u001b[0m\u001b[0;34m\u001b[0m\u001b[0m\n\u001b[0;32m--> 305\u001b[0;31m                 \u001b[0;32mraise\u001b[0m \u001b[0mValueError\u001b[0m\u001b[0;34m(\u001b[0m\u001b[0merr\u001b[0m\u001b[0;34m.\u001b[0m\u001b[0mformat\u001b[0m\u001b[0;34m(\u001b[0m\u001b[0mname\u001b[0m\u001b[0;34m,\u001b[0m \u001b[0mmissing_levels\u001b[0m\u001b[0;34m)\u001b[0m\u001b[0;34m)\u001b[0m\u001b[0;34m\u001b[0m\u001b[0;34m\u001b[0m\u001b[0m\n\u001b[0m\u001b[1;32m    306\u001b[0m \u001b[0;34m\u001b[0m\u001b[0m\n\u001b[1;32m    307\u001b[0m         \u001b[0;32mreturn\u001b[0m \u001b[0mattrdict\u001b[0m\u001b[0;34m\u001b[0m\u001b[0;34m\u001b[0m\u001b[0m\n",
      "\u001b[0;31mValueError\u001b[0m: These `style` levels are missing dashes: {'MDUNDO.CO', 'NPINV.CO', 'ODICO.CO', 'GREENM.CO', 'HYPE.CO', 'STENO.CO', 'WATURU.CO', 'MONSO.CO', 'SHAPE.CO', 'LEDIBOND.CO', 'KONSOL.CO', 'HAPPY.CO', 'ERRIA.CO', 'FASTPC.CO', 'WIRTEK.CO', 'ENALYZ.CO', 'PENNEO.CO', 'SLXIT.CO', 'JOBNDX.CO', 'FOM.CO', 'VIRO.CO', 'HRC.CO', 'SCAPE.CO', 'ESOFT.CO'}"
     ]
    }
   ],
   "source": [
    "sns.lineplot(data=stocks.loc[:, stocks.columns.get_level_values(1).isin(['Volume'])])"
   ]
  },
  {
   "cell_type": "code",
   "execution_count": 230,
   "metadata": {},
   "outputs": [],
   "source": [
    "def download_tickers(tickers):\n",
    "    # Fetch downloaded ticker from raw_data\n",
    "    downloaded_tickers = [x[0:-5] if '.pbz2' in x else '' for x in os.listdir('raw_data/')]\n",
    "    downloaded_tickers.remove('')\n",
    "    # Check if tickers already are downloaded\n",
    "    tickers_to_download = []\n",
    "    for ticker in tickers:\n",
    "        if ticker in downloaded_tickers:\n",
    "            # If already downloaded, check if they need updates\n",
    "            if update_ticker(ticker):\n",
    "                tickers_to_download.append(ticker)\n",
    "        else:\n",
    "            tickers_to_download.append(ticker)\n",
    "\n",
    "    not_downloaded = download_dump(tickers_to_download)\n",
    "    tickers_to_load = [x for x in tickers if x not in not_downloaded]\n",
    "    # Read tickers from json and return\n",
    "    return load_stocks(tickers_to_load)"
   ]
  },
  {
   "cell_type": "code",
   "execution_count": 219,
   "metadata": {},
   "outputs": [],
   "source": [
    "def load_stocks(tickers):\n",
    "    cols = ['Open', 'High', 'Low', 'Close', 'Adj Close', 'Volume']\n",
    "    index = pd.MultiIndex.from_product([tickers, cols], names=['Stock ticker', 'Data type'])\n",
    "    if len(tickers) > 1:\n",
    "        data = pd.concat([decompress_pickle('raw_data/' + x + '.pbz2') for x in tickers], axis=1, sort=True)\n",
    "    else:\n",
    "        data = decompress_pickle('raw_data/' + tickers[0] + '.pbz2')\n",
    "    \n",
    "    data.columns = index\n",
    "    try:\n",
    "        data.index = pd.to_datetime(data.index, unit='ms')\n",
    "    except ValueError:\n",
    "        data.index = pd.to_datetime(data.index)\n",
    "    return data"
   ]
  },
  {
   "cell_type": "code",
   "execution_count": 220,
   "metadata": {},
   "outputs": [],
   "source": [
    "def update_ticker(ticker):\n",
    "    last_bday = last_weekday()\n",
    "    newest_date = decompress_pickle('raw_data/' + ticker + '.pbz2').index[-1]\n",
    "    if newest_date == float:\n",
    "        newest_date = dt.datetime.fromtimestamp(newest_date/1000).date()\n",
    "    if newest_date != last_bday:\n",
    "        return True \n",
    "    else:\n",
    "        return False"
   ]
  },
  {
   "cell_type": "code",
   "execution_count": 223,
   "metadata": {},
   "outputs": [],
   "source": [
    "def download_dump(tickers):\n",
    "    not_downloaded = []\n",
    "    if tickers != []:\n",
    "        data = yf.download(tickers, period='100y', group_by='tickers')\n",
    "        if len(tickers) > 1:\n",
    "            for ticker in tickers:\n",
    "                    clean_data = clean_df(data[ticker])\n",
    "                    if len(clean_data) > 1:\n",
    "                        compressed_pickle(ticker, clean_data)\n",
    "                    else:\n",
    "                        not_downloaded.append(tickers)\n",
    "        else:\n",
    "            clean_data = clean_df(data)\n",
    "            if len(clean_data) > 1:\n",
    "                compressed_pickle(tickers[0], clean_data)\n",
    "            else:\n",
    "                not_downloaded.append(tickers[0])\n",
    "                \n",
    "    return not_downloaded "
   ]
  },
  {
   "cell_type": "code",
   "execution_count": 224,
   "metadata": {},
   "outputs": [],
   "source": [
    "def last_weekday():\n",
    "    todays_day = dt.date.today().day\n",
    "    if todays_day in [5, 6]:\n",
    "        return dt.date.today() - dt.timedelta(days=todays_day-4)\n",
    "    else:\n",
    "        return dt.date.today()\n"
   ]
  },
  {
   "cell_type": "code",
   "execution_count": 225,
   "metadata": {},
   "outputs": [],
   "source": [
    "def clean_df(df):\n",
    "    df = df.dropna(axis = 0, how='all')\n",
    "    return df"
   ]
  },
  {
   "cell_type": "code",
   "execution_count": 226,
   "metadata": {},
   "outputs": [],
   "source": [
    "def compressed_pickle(ticker, data):\n",
    "    with bz2.BZ2File('raw_data/' + ticker + '.pbz2', 'w') as f: \n",
    "        cPickle.dump(data, f)"
   ]
  },
  {
   "cell_type": "code",
   "execution_count": 227,
   "metadata": {},
   "outputs": [],
   "source": [
    "def decompress_pickle(file):\n",
    "    data = bz2.BZ2File(file, 'rb')\n",
    "    data = cPickle.load(data)\n",
    "    return data"
   ]
  },
  {
   "cell_type": "code",
   "execution_count": 204,
   "metadata": {},
   "outputs": [],
   "source": [
    "test = decompress_pickle('raw_data/EZA.pbz2')"
   ]
  },
  {
   "cell_type": "code",
   "execution_count": 180,
   "metadata": {},
   "outputs": [
    {
     "data": {
      "text/plain": [
       "<matplotlib.axes._subplots.AxesSubplot at 0x7f968d688d10>"
      ]
     },
     "execution_count": 180,
     "metadata": {},
     "output_type": "execute_result"
    },
    {
     "data": {
      "image/png": "[encoded data removed]",
      "text/plain": [
       "<Figure size 432x288 with 1 Axes>"
      ]
     },
     "metadata": {
      "needs_background": "light"
     },
     "output_type": "display_data"
    }
   ],
   "source": [
    "sns.lineplot(data=test['Adj Close'])"
   ]
  },
  {
   "cell_type": "code",
   "execution_count": null,
   "metadata": {
    "collapsed": true,
    "jupyter": {
     "outputs_hidden": true
    }
   },
   "outputs": [],
   "source": [
    "import os\n",
    "\n",
    "def clean_raw_files():\n",
    "    for filename in os.listdir('raw_data'):\n",
    "        if filename.endswith(\".pbz2\"): \n",
    "            df = pd.DataFrame(decompress_pickle('raw_data/' + filename))\n",
    "            non_zeroes = len(df) - df.iloc[:, 4].isna().sum()\n",
    "            if non_zeroes < 2:\n",
    "                os.remove('raw_data/' + filename)\n",
    "            else:\n",
    "                df = df.dropna(how='all', axis=0)\n",
    "                ticker = filename.replace('.pbz2', '')\n",
    "                compressed_pickle(ticker, df)\n",
    "                  \n",
    "remove_empties()"
   ]
  },
  {
   "cell_type": "code",
   "execution_count": null,
   "metadata": {
    "collapsed": true,
    "jupyter": {
     "outputs_hidden": true
    }
   },
   "outputs": [],
   "source": []
  }
 ],
 "metadata": {
  "kernelspec": {
   "display_name": "Python 3",
   "language": "python",
   "name": "python3"
  },
  "language_info": {
   "codemirror_mode": {
    "name": "ipython",
    "version": 3
   },
   "file_extension": ".py",
   "mimetype": "text/x-python",
   "name": "python",
   "nbconvert_exporter": "python",
   "pygments_lexer": "ipython3",
   "version": "3.7.4"
  }
 },
 "nbformat": 4,
 "nbformat_minor": 4
}
