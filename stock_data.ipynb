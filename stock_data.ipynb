{
 "cells": [
  {
   "cell_type": "code",
   "execution_count": null,
   "metadata": {},
   "outputs": [],
   "source": [
    "import yfinance as yf\n",
    "import pandas as pd\n",
    "import matplotlib.pyplot as plt\n",
    "import seaborn as sns\n",
    "import json\n",
    "import os\n",
    "import datetime as dt\n",
    "from datetime import datetime\n",
    "import bz2\n",
    "import pickle\n",
    "import _pickle as cPickle\n",
    "\n",
    "%matplotlib inline"
   ]
  },
  {
   "cell_type": "code",
   "execution_count": null,
   "metadata": {},
   "outputs": [],
   "source": [
    "tickers = pd.read_csv('russel2000.csv', header=None)"
   ]
  },
  {
   "cell_type": "code",
   "execution_count": null,
   "metadata": {},
   "outputs": [],
   "source": [
    "tickers = tickers[0].to_list()"
   ]
  },
  {
   "cell_type": "code",
   "execution_count": null,
   "metadata": {},
   "outputs": [],
   "source": [
    "#tickers = ['SPY', 'EZA', 'ASTGRPJ.CO']\n",
    "stocks = download_tickers(tickers)"
   ]
  },
  {
   "cell_type": "code",
   "execution_count": null,
   "metadata": {},
   "outputs": [],
   "source": [
    "stocks"
   ]
  },
  {
   "cell_type": "code",
   "execution_count": null,
   "metadata": {},
   "outputs": [],
   "source": [
    "sns.lineplot(data=stocks.loc[:, stocks.columns.get_level_values(1).isin(['Volume'])])"
   ]
  },
  {
   "cell_type": "code",
   "execution_count": null,
   "metadata": {},
   "outputs": [],
   "source": [
    "def download_tickers(tickers):\n",
    "    # Fetch downloaded ticker from raw_data\n",
    "    downloaded_tickers = [x[0:-5] if '.pbz2' in x else '' for x in os.listdir('raw_data/')]\n",
    "    downloaded_tickers.remove('')\n",
    "    # Check if tickers already are downloaded\n",
    "    tickers_to_download = []\n",
    "    for ticker in tickers:\n",
    "        if ticker in downloaded_tickers:\n",
    "            # If already downloaded, check if they need updates\n",
    "            if update_ticker(ticker):\n",
    "                tickers_to_download.append(ticker)\n",
    "        else:\n",
    "            tickers_to_download.append(ticker)\n",
    "\n",
    "    not_downloaded = download_dump(tickers_to_download)\n",
    "    tickers_to_load = [x for x in tickers if x not in not_downloaded]\n",
    "    # Read tickers from json and return\n",
    "    return load_stocks(tickers_to_load)"
   ]
  },
  {
   "cell_type": "code",
   "execution_count": null,
   "metadata": {},
   "outputs": [],
   "source": [
    "def load_stocks(tickers):\n",
    "    cols = ['Open', 'High', 'Low', 'Close', 'Adj Close', 'Volume']\n",
    "    index = pd.MultiIndex.from_product([tickers, cols], names=['Stock ticker', 'Data type'])\n",
    "    if len(tickers) > 1:\n",
    "        data = pd.concat([decompress_pickle('raw_data/' + x + '.pbz2') for x in tickers], axis=1, sort=True)\n",
    "    else:\n",
    "        data = decompress_pickle('raw_data/' + tickers[0] + '.pbz2')\n",
    "    \n",
    "    data.columns = index\n",
    "    try:\n",
    "        data.index = pd.to_datetime(data.index, unit='ms')\n",
    "    except ValueError:\n",
    "        data.index = pd.to_datetime(data.index)\n",
    "    return data"
   ]
  },
  {
   "cell_type": "code",
   "execution_count": null,
   "metadata": {},
   "outputs": [],
   "source": [
    "def update_ticker(ticker):\n",
    "    last_bday = last_weekday()\n",
    "    newest_date = decompress_pickle('raw_data/' + ticker + '.pbz2').index[-1]\n",
    "    if newest_date == float:\n",
    "        newest_date = dt.datetime.fromtimestamp(newest_date/1000).date()\n",
    "    if newest_date != last_bday:\n",
    "        return True \n",
    "    else:\n",
    "        return False"
   ]
  },
  {
   "cell_type": "code",
   "execution_count": null,
   "metadata": {},
   "outputs": [],
   "source": [
    "def download_dump(tickers):\n",
    "    not_downloaded = []\n",
    "    if tickers != []:\n",
    "        data = yf.download(tickers, period='100y', group_by='tickers')\n",
    "        if len(tickers) > 1:\n",
    "            for ticker in tickers:\n",
    "                    clean_data = clean_df(data[ticker])\n",
    "                    if len(clean_data) > 1:\n",
    "                        compressed_pickle(ticker, clean_data)\n",
    "                    else:\n",
    "                        not_downloaded.extend(tickers)\n",
    "        else:\n",
    "            clean_data = clean_df(data)\n",
    "            if len(clean_data) > 1:\n",
    "                compressed_pickle(tickers, clean_data)\n",
    "            else:\n",
    "                not_downloaded.extend(tickers)\n",
    "                \n",
    "    return not_downloaded "
   ]
  },
  {
   "cell_type": "code",
   "execution_count": null,
   "metadata": {},
   "outputs": [],
   "source": [
    "def last_weekday():\n",
    "    todays_day = dt.date.today().day\n",
    "    if todays_day in [5, 6]:\n",
    "        return dt.date.today() - dt.timedelta(days=todays_day-4)\n",
    "    else:\n",
    "        return dt.date.today()\n"
   ]
  },
  {
   "cell_type": "code",
   "execution_count": null,
   "metadata": {},
   "outputs": [],
   "source": [
    "def clean_df(df):\n",
    "    df = df.dropna(axis = 0, how='all')\n",
    "    return df"
   ]
  },
  {
   "cell_type": "code",
   "execution_count": null,
   "metadata": {},
   "outputs": [],
   "source": [
    "def compressed_pickle(ticker, data):\n",
    "    with bz2.BZ2File('raw_data/' + ticker + '.pbz2', 'w') as f: \n",
    "        cPickle.dump(data, f)"
   ]
  },
  {
   "cell_type": "code",
   "execution_count": null,
   "metadata": {},
   "outputs": [],
   "source": [
    "def decompress_pickle(file):\n",
    "    data = bz2.BZ2File(file, 'rb')\n",
    "    data = cPickle.load(data)\n",
    "    return data"
   ]
  },
  {
   "cell_type": "code",
   "execution_count": 281,
   "metadata": {},
   "outputs": [],
   "source": [
    "test = decompress_pickle('raw_data/Y.pbz2')"
   ]
  },
  {
   "cell_type": "code",
   "execution_count": 282,
   "metadata": {},
   "outputs": [
    {
     "data": {
      "text/html": [
       "<div>\n",
       "<style scoped>\n",
       "    .dataframe tbody tr th:only-of-type {\n",
       "        vertical-align: middle;\n",
       "    }\n",
       "\n",
       "    .dataframe tbody tr th {\n",
       "        vertical-align: top;\n",
       "    }\n",
       "\n",
       "    .dataframe thead th {\n",
       "        text-align: right;\n",
       "    }\n",
       "</style>\n",
       "<table border=\"1\" class=\"dataframe\">\n",
       "  <thead>\n",
       "    <tr style=\"text-align: right;\">\n",
       "      <th></th>\n",
       "      <th>Open</th>\n",
       "      <th>High</th>\n",
       "      <th>Low</th>\n",
       "      <th>Close</th>\n",
       "      <th>Adj Close</th>\n",
       "      <th>Volume</th>\n",
       "    </tr>\n",
       "    <tr>\n",
       "      <th>Date</th>\n",
       "      <th></th>\n",
       "      <th></th>\n",
       "      <th></th>\n",
       "      <th></th>\n",
       "      <th></th>\n",
       "      <th></th>\n",
       "    </tr>\n",
       "  </thead>\n",
       "  <tbody>\n",
       "    <tr>\n",
       "      <td>1980-01-02</td>\n",
       "      <td>0.000000</td>\n",
       "      <td>15.985246</td>\n",
       "      <td>15.910548</td>\n",
       "      <td>15.985246</td>\n",
       "      <td>2.992994</td>\n",
       "      <td>3300.0</td>\n",
       "    </tr>\n",
       "    <tr>\n",
       "      <td>1980-01-03</td>\n",
       "      <td>0.000000</td>\n",
       "      <td>15.835851</td>\n",
       "      <td>15.088877</td>\n",
       "      <td>15.835851</td>\n",
       "      <td>2.965021</td>\n",
       "      <td>12400.0</td>\n",
       "    </tr>\n",
       "    <tr>\n",
       "      <td>1980-01-04</td>\n",
       "      <td>0.000000</td>\n",
       "      <td>15.686457</td>\n",
       "      <td>15.537062</td>\n",
       "      <td>15.537062</td>\n",
       "      <td>2.909078</td>\n",
       "      <td>12200.0</td>\n",
       "    </tr>\n",
       "    <tr>\n",
       "      <td>1980-01-07</td>\n",
       "      <td>0.000000</td>\n",
       "      <td>15.537062</td>\n",
       "      <td>15.238272</td>\n",
       "      <td>15.537062</td>\n",
       "      <td>2.909078</td>\n",
       "      <td>84400.0</td>\n",
       "    </tr>\n",
       "    <tr>\n",
       "      <td>1980-01-08</td>\n",
       "      <td>0.000000</td>\n",
       "      <td>15.761153</td>\n",
       "      <td>15.387667</td>\n",
       "      <td>15.761153</td>\n",
       "      <td>2.951036</td>\n",
       "      <td>45700.0</td>\n",
       "    </tr>\n",
       "    <tr>\n",
       "      <td>...</td>\n",
       "      <td>...</td>\n",
       "      <td>...</td>\n",
       "      <td>...</td>\n",
       "      <td>...</td>\n",
       "      <td>...</td>\n",
       "      <td>...</td>\n",
       "    </tr>\n",
       "    <tr>\n",
       "      <td>2020-08-31</td>\n",
       "      <td>560.000000</td>\n",
       "      <td>560.000000</td>\n",
       "      <td>554.229980</td>\n",
       "      <td>554.559998</td>\n",
       "      <td>554.559998</td>\n",
       "      <td>51000.0</td>\n",
       "    </tr>\n",
       "    <tr>\n",
       "      <td>2020-09-01</td>\n",
       "      <td>554.000000</td>\n",
       "      <td>561.070007</td>\n",
       "      <td>551.000000</td>\n",
       "      <td>557.880005</td>\n",
       "      <td>557.880005</td>\n",
       "      <td>39200.0</td>\n",
       "    </tr>\n",
       "    <tr>\n",
       "      <td>2020-09-02</td>\n",
       "      <td>557.760010</td>\n",
       "      <td>571.890015</td>\n",
       "      <td>557.760010</td>\n",
       "      <td>567.210022</td>\n",
       "      <td>567.210022</td>\n",
       "      <td>55800.0</td>\n",
       "    </tr>\n",
       "    <tr>\n",
       "      <td>2020-09-03</td>\n",
       "      <td>573.059998</td>\n",
       "      <td>584.989990</td>\n",
       "      <td>553.460022</td>\n",
       "      <td>555.789978</td>\n",
       "      <td>555.789978</td>\n",
       "      <td>49900.0</td>\n",
       "    </tr>\n",
       "    <tr>\n",
       "      <td>2020-09-04</td>\n",
       "      <td>566.349976</td>\n",
       "      <td>569.239990</td>\n",
       "      <td>546.695007</td>\n",
       "      <td>551.729980</td>\n",
       "      <td>551.729980</td>\n",
       "      <td>45674.0</td>\n",
       "    </tr>\n",
       "  </tbody>\n",
       "</table>\n",
       "<p>10259 rows × 6 columns</p>\n",
       "</div>"
      ],
      "text/plain": [
       "                  Open        High         Low       Close   Adj Close  \\\n",
       "Date                                                                     \n",
       "1980-01-02    0.000000   15.985246   15.910548   15.985246    2.992994   \n",
       "1980-01-03    0.000000   15.835851   15.088877   15.835851    2.965021   \n",
       "1980-01-04    0.000000   15.686457   15.537062   15.537062    2.909078   \n",
       "1980-01-07    0.000000   15.537062   15.238272   15.537062    2.909078   \n",
       "1980-01-08    0.000000   15.761153   15.387667   15.761153    2.951036   \n",
       "...                ...         ...         ...         ...         ...   \n",
       "2020-08-31  560.000000  560.000000  554.229980  554.559998  554.559998   \n",
       "2020-09-01  554.000000  561.070007  551.000000  557.880005  557.880005   \n",
       "2020-09-02  557.760010  571.890015  557.760010  567.210022  567.210022   \n",
       "2020-09-03  573.059998  584.989990  553.460022  555.789978  555.789978   \n",
       "2020-09-04  566.349976  569.239990  546.695007  551.729980  551.729980   \n",
       "\n",
       "             Volume  \n",
       "Date                 \n",
       "1980-01-02   3300.0  \n",
       "1980-01-03  12400.0  \n",
       "1980-01-04  12200.0  \n",
       "1980-01-07  84400.0  \n",
       "1980-01-08  45700.0  \n",
       "...             ...  \n",
       "2020-08-31  51000.0  \n",
       "2020-09-01  39200.0  \n",
       "2020-09-02  55800.0  \n",
       "2020-09-03  49900.0  \n",
       "2020-09-04  45674.0  \n",
       "\n",
       "[10259 rows x 6 columns]"
      ]
     },
     "execution_count": 282,
     "metadata": {},
     "output_type": "execute_result"
    }
   ],
   "source": [
    "test"
   ]
  },
  {
   "cell_type": "code",
   "execution_count": null,
   "metadata": {},
   "outputs": [],
   "source": [
    "sns.lineplot(data=test['Adj Close'])"
   ]
  },
  {
   "cell_type": "code",
   "execution_count": null,
   "metadata": {},
   "outputs": [],
   "source": [
    "import os\n",
    "\n",
    "def clean_raw_files():\n",
    "    for filename in os.listdir('raw_data'):\n",
    "        if filename.endswith(\".pbz2\"): \n",
    "            df = pd.DataFrame(decompress_pickle('raw_data/' + filename))\n",
    "            non_zeroes = len(df) - df.iloc[:, 4].isna().sum()\n",
    "            if non_zeroes < 2:\n",
    "                os.remove('raw_data/' + filename)\n",
    "            else:\n",
    "                df = df.dropna(how='all', axis=0)\n",
    "                ticker = filename.replace('.pbz2', '')\n",
    "                compressed_pickle(ticker, df)\n",
    "                  \n",
    "remove_empties()"
   ]
  },
  {
   "cell_type": "code",
   "execution_count": null,
   "metadata": {},
   "outputs": [],
   "source": []
  }
 ],
 "metadata": {
  "kernelspec": {
   "display_name": "Python 3",
   "language": "python",
   "name": "python3"
  },
  "language_info": {
   "codemirror_mode": {
    "name": "ipython",
    "version": 3
   },
   "file_extension": ".py",
   "mimetype": "text/x-python",
   "name": "python",
   "nbconvert_exporter": "python",
   "pygments_lexer": "ipython3",
   "version": "3.7.4"
  }
 },
 "nbformat": 4,
 "nbformat_minor": 4
}
