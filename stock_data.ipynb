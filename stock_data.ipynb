{
 "cells": [
  {
   "cell_type": "code",
   "execution_count": 124,
   "metadata": {},
   "outputs": [],
   "source": [
    "import pandas as pd\n",
    "import matplotlib.pyplot as plt\n",
    "import seaborn as sns\n",
    "from yfinance_loader import download_tickers\n",
    "\n",
    "%matplotlib inline"
   ]
  },
  {
   "cell_type": "code",
   "execution_count": 125,
   "metadata": {},
   "outputs": [],
   "source": [
    "tickers = pd.read_csv('ticker_lists/ndx.csv', header=None)\n",
    "tickers = tickers[0].to_list()"
   ]
  },
  {
   "cell_type": "code",
   "execution_count": 148,
   "metadata": {},
   "outputs": [],
   "source": [
    "tickers = ['BAVA.CO']\n",
    "stocks = download_tickers(tickers, False, return_only=['Adj Close','Volume'])"
   ]
  },
  {
   "cell_type": "code",
   "execution_count": 149,
   "metadata": {},
   "outputs": [
    {
     "name": "stdout",
     "output_type": "stream",
     "text": [
      "Stock ticker     BAVA.CO        \n",
      "Data type      Adj Close  Volume\n",
      "Date                            \n",
      "2000-01-03     65.972298   22397\n",
      "2000-01-04     64.102097    3063\n",
      "2000-01-05     64.690201    2525\n",
      "2000-01-06     68.610802    1737\n",
      "2000-01-07     76.452103   10509\n",
      "...                  ...     ...\n",
      "2020-09-02    210.800003  273924\n",
      "2020-09-03    201.800003  420723\n",
      "2020-09-04    195.000000  858496\n",
      "2020-09-07    205.600006  475036\n",
      "2020-09-08    195.500000  361782\n",
      "\n",
      "[5231 rows x 2 columns]\n"
     ]
    }
   ],
   "source": [
    "print(stocks)"
   ]
  },
  {
   "cell_type": "code",
   "execution_count": null,
   "metadata": {},
   "outputs": [],
   "source": []
  }
 ],
 "metadata": {
  "kernelspec": {
   "display_name": "Python 3",
   "language": "python",
   "name": "python3"
  },
  "language_info": {
   "codemirror_mode": {
    "name": "ipython",
    "version": 3
   },
   "file_extension": ".py",
   "mimetype": "text/x-python",
   "name": "python",
   "nbconvert_exporter": "python",
   "pygments_lexer": "ipython3",
   "version": "3.7.4"
  }
 },
 "nbformat": 4,
 "nbformat_minor": 4
}
